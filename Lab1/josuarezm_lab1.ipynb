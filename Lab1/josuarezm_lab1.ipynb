{
  "nbformat": 4,
  "nbformat_minor": 0,
  "metadata": {
    "colab": {
      "name": "lab1.ipynb",
      "provenance": [],
      "collapsed_sections": []
    },
    "kernelspec": {
      "display_name": "Python 3",
      "language": "python",
      "name": "python3"
    },
    "language_info": {
      "codemirror_mode": {
        "name": "ipython",
        "version": 3
      },
      "file_extension": ".py",
      "mimetype": "text/x-python",
      "name": "python",
      "nbconvert_exporter": "python",
      "pygments_lexer": "ipython3",
      "version": "3.6.4"
    }
  },
  "cells": [
    {
      "cell_type": "markdown",
      "metadata": {
        "id": "eQzBbvyKQymx"
      },
      "source": [
        "<div align=\"center\">\n",
        "<img style=\"display: block; margin: auto;\" alt=\"photo\" src=\"https://cdn.quantconnect.com/web/i/icon.png\">\n",
        "\n",
        "Quantconnect\n",
        "\n",
        "Introduction to Financial Python\n",
        "</div>\n",
        "\n",
        "# 01 Data Types and Data Structures\n",
        "\n",
        "# Introduction\n",
        "\n",
        "This tutorial provides a basic introduction to the Python programming language. If you are new to Python, you should run the code snippets while reading this tutorial. If you are an advanced Python user, please feel free to skip this chapter.\n",
        "\n",
        "# Basic Variable Types\n",
        "The basic types of variables in Python are: strings, integers, floating point numbers and booleans.\n",
        "\n",
        "Strings in python are identified as a contiguous set of characters represented in either single quotes (' ') or double quotes (\" \").\n"
      ]
    },
    {
      "cell_type": "code",
      "metadata": {
        "colab": {
          "base_uri": "https://localhost:8080/"
        },
        "id": "N5t-UrcfOqid",
        "outputId": "6588ae94-97f4-4566-bec8-16064c7ab680"
      },
      "source": [
        "my_string1 = 'Welcome to'\n",
        "my_string2 = \"QuantConnect\"\n",
        "print(my_string1 + ' ' + my_string2)"
      ],
      "execution_count": null,
      "outputs": [
        {
          "output_type": "stream",
          "name": "stdout",
          "text": [
            "Welcome to QuantConnect\n"
          ]
        }
      ]
    },
    {
      "cell_type": "code",
      "source": [
        "my_string1 = 'Hola'\n",
        "my_string2 = \"Mundo\"\n",
        "print(my_string1 + ' ' + my_string2) # Imprime tres cadenas de caracteres concatenadas"
      ],
      "metadata": {
        "colab": {
          "base_uri": "https://localhost:8080/"
        },
        "id": "3TCWS1xVv9mz",
        "outputId": "d581719e-e5d4-4396-cf88-3d5bde1e1a1a"
      },
      "execution_count": null,
      "outputs": [
        {
          "output_type": "stream",
          "name": "stdout",
          "text": [
            "Hola Mundo\n"
          ]
        }
      ]
    },
    {
      "cell_type": "markdown",
      "metadata": {
        "id": "bXHnxZyHSd1M"
      },
      "source": [
        "An integer is a round number with no values after the decimal point."
      ]
    },
    {
      "cell_type": "code",
      "metadata": {
        "colab": {
          "base_uri": "https://localhost:8080/"
        },
        "id": "pNjuz3toOqif",
        "outputId": "d543c41e-0f15-487d-93f2-c0f4beab09bb"
      },
      "source": [
        "my_int = 10\n",
        "print(my_int)\n",
        "print(type(my_int))"
      ],
      "execution_count": null,
      "outputs": [
        {
          "output_type": "stream",
          "name": "stdout",
          "text": [
            "10\n",
            "<class 'int'>\n"
          ]
        }
      ]
    },
    {
      "cell_type": "code",
      "source": [
        "my_int = 21\n",
        "print(my_int) # Imprime el valor de la variable my_int\n",
        "print(type(my_int)) # Imprime el tipo de dato de la variable my_int, en este caso, int"
      ],
      "metadata": {
        "colab": {
          "base_uri": "https://localhost:8080/"
        },
        "id": "2AZZRkcRwXPr",
        "outputId": "2f34f12a-acfe-488e-a756-bc177200d190"
      },
      "execution_count": null,
      "outputs": [
        {
          "output_type": "stream",
          "name": "stdout",
          "text": [
            "21\n",
            "<class 'int'>\n"
          ]
        }
      ]
    },
    {
      "cell_type": "markdown",
      "metadata": {
        "id": "_1ZanWrYSnzF"
      },
      "source": [
        "The built-in function int() can convert a string into an integer."
      ]
    },
    {
      "cell_type": "code",
      "metadata": {
        "colab": {
          "base_uri": "https://localhost:8080/"
        },
        "id": "zPwGb20FOqif",
        "outputId": "578dce75-668e-4668-c593-f72214175888"
      },
      "source": [
        "my_string = \"100\"\n",
        "print(type(my_string))\n",
        "my_int = int(my_string)\n",
        "print(type(my_int))"
      ],
      "execution_count": null,
      "outputs": [
        {
          "output_type": "stream",
          "name": "stdout",
          "text": [
            "<class 'str'>\n",
            "<class 'int'>\n"
          ]
        }
      ]
    },
    {
      "cell_type": "code",
      "source": [
        "my_string = \"21\"\n",
        "print(type(my_string)) # Imprime el tipo de dato de la variable my_string, en este caso, str\n",
        "my_int = int(my_string) # Convierte el tipo de dato de la variable my_string a entero (int) y lo asigna a la variable my_int\n",
        "print(type(my_int)) # Imprime el tipo de dato de la variable my_int, en este caso, int"
      ],
      "metadata": {
        "colab": {
          "base_uri": "https://localhost:8080/"
        },
        "id": "q3GlJJTGwmhC",
        "outputId": "fe3fd605-c985-47e4-a290-5d847fe900c4"
      },
      "execution_count": null,
      "outputs": [
        {
          "output_type": "stream",
          "name": "stdout",
          "text": [
            "<class 'str'>\n",
            "<class 'int'>\n"
          ]
        }
      ]
    },
    {
      "cell_type": "markdown",
      "metadata": {
        "id": "WqMDPDTHSrE9"
      },
      "source": [
        "A floating point number, or a float, is a real number in mathematics. In Python we need to include a value after a decimal point to define it as a float"
      ]
    },
    {
      "cell_type": "code",
      "metadata": {
        "colab": {
          "base_uri": "https://localhost:8080/"
        },
        "id": "otCzKKW9Oqig",
        "outputId": "a86233ed-3b60-44dd-dbbb-a6ba7b212918"
      },
      "source": [
        "my_string = \"100\"\n",
        "my_float = float(my_string)\n",
        "print(type(my_float))"
      ],
      "execution_count": null,
      "outputs": [
        {
          "output_type": "stream",
          "name": "stdout",
          "text": [
            "<class 'float'>\n"
          ]
        }
      ]
    },
    {
      "cell_type": "code",
      "source": [
        "my_string = \"21\"\n",
        "my_float = float(my_string) # Convierte el tipo de dato de la variable my_string a flotante (float) y lo asigna a la variable my_float\n",
        "print(type(my_float)) # Imprime el tipo de dato de la variable my_float, en este caso, float"
      ],
      "metadata": {
        "colab": {
          "base_uri": "https://localhost:8080/"
        },
        "id": "f4S4-6FNxR_w",
        "outputId": "33e72896-e2b1-4b77-ff93-6bd858569450"
      },
      "execution_count": null,
      "outputs": [
        {
          "output_type": "stream",
          "name": "stdout",
          "text": [
            "<class 'float'>\n"
          ]
        }
      ]
    },
    {
      "cell_type": "markdown",
      "metadata": {
        "id": "2iuyv8Q7StTJ"
      },
      "source": [
        "As you can see above, if we don't include a decimal value, the variable would be defined as an integer. The built-in function float() can convert a string or an integer into a float."
      ]
    },
    {
      "cell_type": "code",
      "metadata": {
        "colab": {
          "base_uri": "https://localhost:8080/"
        },
        "id": "wwLw5VthOqig",
        "outputId": "d9da1137-5370-4cdb-bced-c27acb8ccf68"
      },
      "source": [
        "my_bool = False\n",
        "print(my_bool)\n",
        "print(type(my_bool))"
      ],
      "execution_count": null,
      "outputs": [
        {
          "output_type": "stream",
          "name": "stdout",
          "text": [
            "False\n",
            "<class 'bool'>\n"
          ]
        }
      ]
    },
    {
      "cell_type": "code",
      "source": [
        "my_bool = True\n",
        "print(my_bool) # Imprime el valor de la variable my_bool\n",
        "print(type(my_bool)) # Imprime el tipo de dato de la variable my_bool, en este caso, bool"
      ],
      "metadata": {
        "colab": {
          "base_uri": "https://localhost:8080/"
        },
        "id": "o_DQzllDxe_v",
        "outputId": "b979f076-aa4a-483b-e00d-211d7786b5a0"
      },
      "execution_count": null,
      "outputs": [
        {
          "output_type": "stream",
          "name": "stdout",
          "text": [
            "True\n",
            "<class 'bool'>\n"
          ]
        }
      ]
    },
    {
      "cell_type": "markdown",
      "metadata": {
        "id": "bnGMwH21Szr_"
      },
      "source": [
        "A boolean, or bool, is a binary variable. Its value can only be True or False. It is useful when we do some logic operations, which would be covered in our next chapter."
      ]
    },
    {
      "cell_type": "code",
      "metadata": {
        "colab": {
          "base_uri": "https://localhost:8080/"
        },
        "id": "DMa6pDl5Oqig",
        "outputId": "c95fb06b-10d2-4860-ee5c-70c3e768ae75"
      },
      "source": [
        "print(\"Addition \", 1+1)\n",
        "print(\"Subtraction \", 5-2)\n",
        "print(\"Multiplication \", 2*3)\n",
        "print(\"Division \", 10/2)\n",
        "print('exponent', 2**3)"
      ],
      "execution_count": null,
      "outputs": [
        {
          "output_type": "stream",
          "name": "stdout",
          "text": [
            "Addition  2\n",
            "Subtraction  3\n",
            "Multiplication  6\n",
            "Division  5.0\n",
            "exponent 8\n"
          ]
        }
      ]
    },
    {
      "cell_type": "code",
      "source": [
        "print(\"Addition \", 0+1) # Imprime una cadena de caracteres concatenada con el resultado de una suma\n",
        "print(\"Subtraction \", 2-3) # Imprime una cadena de caracteres concatenada con el resultado de una resta\n",
        "print(\"Multiplication \", 4*5) # Imprime una cadena de caracteres concatenada con el resultado de una multiplicacion\n",
        "print(\"Division \", 6/7) # Imprime una cadena de caracteres concatenada con el resultado de una division\n",
        "print('Exponent', 8**9) # Imprime una cadena de caracteres concatenada con el resultado de una potencia"
      ],
      "metadata": {
        "colab": {
          "base_uri": "https://localhost:8080/"
        },
        "id": "pXQmx3qbxy9C",
        "outputId": "1802b18d-7dae-441a-d984-8fead9bdf26c"
      },
      "execution_count": null,
      "outputs": [
        {
          "output_type": "stream",
          "name": "stdout",
          "text": [
            "Addition  1\n",
            "Subtraction  -1\n",
            "Multiplication  20\n",
            "Division  0.8571428571428571\n",
            "Exponent 134217728\n"
          ]
        }
      ]
    },
    {
      "cell_type": "markdown",
      "metadata": {
        "id": "1Xc9G9_sS2ju"
      },
      "source": [
        "# Basic Math Operations\n",
        "\n",
        "The basic math operators in python are demonstrated below:"
      ]
    },
    {
      "cell_type": "code",
      "metadata": {
        "colab": {
          "base_uri": "https://localhost:8080/"
        },
        "id": "KE9gUryAOqig",
        "outputId": "82343653-3452-4cc1-a0d6-510cbc54d7cb"
      },
      "source": [
        "print(1/3)\n",
        "print(1.0/3)"
      ],
      "execution_count": null,
      "outputs": [
        {
          "output_type": "stream",
          "name": "stdout",
          "text": [
            "0.3333333333333333\n",
            "0.3333333333333333\n"
          ]
        }
      ]
    },
    {
      "cell_type": "code",
      "source": [
        "print(1/2) # Imprime el resultado de una division entre dos enteros\n",
        "print(3.0/4) # Imprime el resultado de una division entre un flotante y un entero"
      ],
      "metadata": {
        "colab": {
          "base_uri": "https://localhost:8080/"
        },
        "id": "C35xpyK0ycVh",
        "outputId": "47bffc09-4541-4996-9ad5-9a3fc1d53644"
      },
      "execution_count": null,
      "outputs": [
        {
          "output_type": "stream",
          "name": "stdout",
          "text": [
            "0.5\n",
            "0.75\n"
          ]
        }
      ]
    },
    {
      "cell_type": "markdown",
      "metadata": {
        "id": "AN5Oa3DoS_Nf"
      },
      "source": [
        "# Data Collections\n",
        "\n",
        "## List\n",
        "A list is an ordered collection of values. A list is mutable, which means you can change a list's value without changing the list itself. Creating a list is simply putting different comma-separated values between square brackets."
      ]
    },
    {
      "cell_type": "code",
      "metadata": {
        "colab": {
          "base_uri": "https://localhost:8080/"
        },
        "id": "-tQdNqCvOqig",
        "outputId": "946aa60d-c7d5-4e4c-860a-1b2fa00c3ceb"
      },
      "source": [
        "my_list = ['Quant', 'Connect']#, 1,2,3]\n",
        "print(my_list)"
      ],
      "execution_count": null,
      "outputs": [
        {
          "output_type": "stream",
          "name": "stdout",
          "text": [
            "['Quant', 'Connect', 1, 2, 3]\n"
          ]
        }
      ]
    },
    {
      "cell_type": "code",
      "source": [
        "my_list = ['Hola', 'Mundo']#, 4,5,6] Se asignan valores a la lista, separados por comas, dentro de los corchetes\n",
        "print(my_list) # Imprime los valores de la lista my_list"
      ],
      "metadata": {
        "colab": {
          "base_uri": "https://localhost:8080/"
        },
        "id": "m8J2WmB_lqzN",
        "outputId": "b464aa3b-850f-4c5c-9977-ae5bba2a1524"
      },
      "execution_count": 3,
      "outputs": [
        {
          "output_type": "stream",
          "name": "stdout",
          "text": [
            "['Hola', 'Mundo']\n"
          ]
        }
      ]
    },
    {
      "cell_type": "markdown",
      "metadata": {
        "id": "1O0TsgZCTHrM"
      },
      "source": [
        "The values in a list are called \"elements\". We can access list elements by indexing. Python index starts from 0. So if you have a list of length n, the index of the first element will be 0, and that of the last element will be n − 1. By the way, the length of a list can be obtained by the built-in function len()."
      ]
    },
    {
      "cell_type": "code",
      "metadata": {
        "colab": {
          "base_uri": "https://localhost:8080/"
        },
        "id": "QhuVhRR5Oqih",
        "outputId": "e8fa26aa-353f-4697-9701-6e8111a46ce4"
      },
      "source": [
        "my_list = ['Quant', 'Connect', 1,2,3]\n",
        "print(len(my_list))\n",
        "print(my_list[0])\n",
        "print(my_list[len(my_list) -1])"
      ],
      "execution_count": null,
      "outputs": [
        {
          "output_type": "stream",
          "name": "stdout",
          "text": [
            "5\n",
            "Quant\n",
            "3\n"
          ]
        }
      ]
    },
    {
      "cell_type": "code",
      "source": [
        "my_list = ['Hola', 'Mundo', 4,5,6] # Se asignan valores a la lista, separados por comas, dentro de los corchetes\n",
        "print(len(my_list)) # Imprime la longitud de la lista my_list, en este caso, 5\n",
        "print(my_list[1]) # Imprime el elemento de la lista que esta en la posicion 1, es decir, el segundo elemento, 'Mundo'\n",
        "print(my_list[len(my_list) -2]) # Imprime el elemento de la lista que esta en la posicion de la longitud de la misma, sustraido dos, es decir, en la posicion 3, el penultimo elemento"
      ],
      "metadata": {
        "colab": {
          "base_uri": "https://localhost:8080/"
        },
        "id": "TMYKf1yJmuKl",
        "outputId": "d934703e-7d95-4dff-dc07-bcad97c4a40f"
      },
      "execution_count": 15,
      "outputs": [
        {
          "output_type": "stream",
          "name": "stdout",
          "text": [
            "5\n",
            "Mundo\n",
            "5\n"
          ]
        }
      ]
    },
    {
      "cell_type": "markdown",
      "metadata": {
        "id": "jgSZy1VGTKSc"
      },
      "source": [
        "You can also change the elements in the list by accessing an index and assigning a new value."
      ]
    },
    {
      "cell_type": "code",
      "metadata": {
        "colab": {
          "base_uri": "https://localhost:8080/"
        },
        "id": "NQBNLjAvOqih",
        "outputId": "476b8e55-d299-41aa-9215-9c0098bbf43c"
      },
      "source": [
        "my_list = ['Quant','Connect',1,2,3]\n",
        "my_list[2] = 'go'\n",
        "print(my_list)"
      ],
      "execution_count": null,
      "outputs": [
        {
          "output_type": "stream",
          "name": "stdout",
          "text": [
            "['Quant', 'Connect', 'go', 2, 3]\n"
          ]
        }
      ]
    },
    {
      "cell_type": "code",
      "source": [
        "my_list = ['Hola','Mundo',4,5,6] # Se asignan valores a la lista, separados por comas, dentro de los corchetes\n",
        "my_list[2] = 'Adios' # Se cambia el valor de la posicion 2 en la lista, es decir, cambia el 4 por 'Adios'\n",
        "print(my_list) # Imprime los valores de la lista my_list"
      ],
      "metadata": {
        "colab": {
          "base_uri": "https://localhost:8080/"
        },
        "id": "wDml8dAKnYn1",
        "outputId": "3386240b-786f-44e6-8d78-49f971846364"
      },
      "execution_count": 6,
      "outputs": [
        {
          "output_type": "stream",
          "name": "stdout",
          "text": [
            "['Hola', 'Mundo', 'Adios', 5, 6]\n"
          ]
        }
      ]
    },
    {
      "cell_type": "markdown",
      "metadata": {
        "id": "EQPs5ojoTVrk"
      },
      "source": [
        "A list can also be sliced with a colon:"
      ]
    },
    {
      "cell_type": "code",
      "metadata": {
        "colab": {
          "base_uri": "https://localhost:8080/"
        },
        "id": "keNX2RbtOqii",
        "outputId": "01219718-8be6-4b02-b241-f1747bea9ab5"
      },
      "source": [
        "my_list = ['Quant','Connect',1,2,3]\n",
        "print(my_list[1:3])"
      ],
      "execution_count": null,
      "outputs": [
        {
          "output_type": "stream",
          "name": "stdout",
          "text": [
            "['Connect', 1]\n"
          ]
        }
      ]
    },
    {
      "cell_type": "code",
      "source": [
        "my_list = ['Hola','Mundo',4,5,6] # Se asignan valores a la lista, separados por comas, dentro de los corchetes\n",
        "print(my_list[1:4]) # Imprime los valores de la lista my_list, desde la posicion 1 a la 4, sin contar esta ultima"
      ],
      "metadata": {
        "colab": {
          "base_uri": "https://localhost:8080/"
        },
        "id": "dkSn1oHLoQnF",
        "outputId": "4196907a-2bd7-4044-dbf4-ce81591d621f"
      },
      "execution_count": 11,
      "outputs": [
        {
          "output_type": "stream",
          "name": "stdout",
          "text": [
            "['Mundo', 4, 5]\n"
          ]
        }
      ]
    },
    {
      "cell_type": "markdown",
      "metadata": {
        "id": "AZqQd0K8TYul"
      },
      "source": [
        "The slice starts from the first element indicated, but excludes the last element indicated. Here we select all elements starting from index 1, which refers to the second element:"
      ]
    },
    {
      "cell_type": "code",
      "metadata": {
        "colab": {
          "base_uri": "https://localhost:8080/"
        },
        "id": "0-76sLfkOqii",
        "outputId": "e0507043-0cd4-491b-bb9f-26100bf5ffd1"
      },
      "source": [
        "print(my_list[1:])"
      ],
      "execution_count": null,
      "outputs": [
        {
          "output_type": "stream",
          "name": "stdout",
          "text": [
            "['Connect', 1, 2, 3]\n"
          ]
        }
      ]
    },
    {
      "cell_type": "code",
      "source": [
        "print(my_list[2:]) # Imprime los valores de la lista my_list, desde la posicion 2, es decir, desde 4"
      ],
      "metadata": {
        "colab": {
          "base_uri": "https://localhost:8080/"
        },
        "id": "_8J3CUcTpIfO",
        "outputId": "9c83d881-c4f6-49ad-c991-24148cfc5a0a"
      },
      "execution_count": 13,
      "outputs": [
        {
          "output_type": "stream",
          "name": "stdout",
          "text": [
            "[4, 5, 6]\n"
          ]
        }
      ]
    },
    {
      "cell_type": "markdown",
      "metadata": {
        "id": "XBqvhUdZVKWs"
      },
      "source": [
        "And all elements up to but excluding index 3:"
      ]
    },
    {
      "cell_type": "code",
      "metadata": {
        "colab": {
          "base_uri": "https://localhost:8080/"
        },
        "id": "5NWr75L9Oqii",
        "outputId": "4b51d4c2-40d5-495c-cc54-cefab7fbea0e"
      },
      "source": [
        "print(my_list[:3])"
      ],
      "execution_count": null,
      "outputs": [
        {
          "output_type": "stream",
          "name": "stdout",
          "text": [
            "['Quant', 'Connect', 1]\n"
          ]
        }
      ]
    },
    {
      "cell_type": "code",
      "source": [
        "print(my_list[:4]) # Imprime los valores de la lista my_list, desde la posicion 0 a la 4, sin contar esta ultima"
      ],
      "metadata": {
        "colab": {
          "base_uri": "https://localhost:8080/"
        },
        "id": "VWFubuHppY4V",
        "outputId": "e4879d5c-36f1-4818-f836-ca5403618d22"
      },
      "execution_count": 14,
      "outputs": [
        {
          "output_type": "stream",
          "name": "stdout",
          "text": [
            "['Hola', 'Mundo', 4, 5]\n"
          ]
        }
      ]
    },
    {
      "cell_type": "markdown",
      "metadata": {
        "id": "eAFmM6bkTZz9"
      },
      "source": [
        "If you wish to add or remove an element from a list, you can use the append() and remove() methods for lists as follows:"
      ]
    },
    {
      "cell_type": "code",
      "metadata": {
        "colab": {
          "base_uri": "https://localhost:8080/"
        },
        "id": "pHmgTPElTo19",
        "outputId": "ec107852-3c63-4766-a60e-5ac8afc66008"
      },
      "source": [
        "my_list = ['Hello', 'Quant']\n",
        "my_list.append('Hello')\n",
        "print(my_list)\n",
        "\n"
      ],
      "execution_count": null,
      "outputs": [
        {
          "output_type": "stream",
          "name": "stdout",
          "text": [
            "['Hello', 'Quant', 'Hello']\n"
          ]
        }
      ]
    },
    {
      "cell_type": "code",
      "source": [
        "my_list = ['Hola', 'Mundo'] # Se asignan valores a la lista, separados por comas, dentro de los corchetes\n",
        "my_list.append('Adios') # Se adiciona un nuevo elemento a la lista, con el metodo append\n",
        "print(my_list) # Imprime los valores de la lista my_list"
      ],
      "metadata": {
        "colab": {
          "base_uri": "https://localhost:8080/"
        },
        "id": "LysPXlNwpmOD",
        "outputId": "a2557a97-338e-4897-ecea-2bfe3b71dfd4"
      },
      "execution_count": 16,
      "outputs": [
        {
          "output_type": "stream",
          "name": "stdout",
          "text": [
            "['Hola', 'Mundo', 'Adios']\n"
          ]
        }
      ]
    },
    {
      "cell_type": "code",
      "metadata": {
        "colab": {
          "base_uri": "https://localhost:8080/"
        },
        "id": "4C4U1Yf0Tr8l",
        "outputId": "e53d3f80-9f08-4bc7-8659-655418704265"
      },
      "source": [
        "my_list.remove('Hello')\n",
        "print(my_list)"
      ],
      "execution_count": null,
      "outputs": [
        {
          "output_type": "stream",
          "name": "stdout",
          "text": [
            "['Quant', 'Hello']\n"
          ]
        }
      ]
    },
    {
      "cell_type": "code",
      "source": [
        "my_list.remove('Mundo') # Se elimina un elemento de la lista, en este caso, 'Mundo', con el metodo remove\n",
        "print(my_list) # Imprime los valores de la lista my_list"
      ],
      "metadata": {
        "colab": {
          "base_uri": "https://localhost:8080/"
        },
        "id": "6eRfDG4IqTEc",
        "outputId": "43f0fd91-e4c5-4fd9-a0a3-de00c9de34f4"
      },
      "execution_count": 17,
      "outputs": [
        {
          "output_type": "stream",
          "name": "stdout",
          "text": [
            "['Hola', 'Adios']\n"
          ]
        }
      ]
    },
    {
      "cell_type": "markdown",
      "metadata": {
        "id": "11W1gG-cVmOU"
      },
      "source": [
        "When there are repeated instances of \"Hello\", the first one is removed.\n",
        "\n",
        "## Tuple\n",
        "A tuple is a data structure type similar to a list. The difference is that a tuple is immutable, which means you can't change the elements in it once it's defined. We create a tuple by putting comma-separated values between parentheses."
      ]
    },
    {
      "cell_type": "code",
      "metadata": {
        "collapsed": true,
        "id": "vPmn6BAaOqii"
      },
      "source": [
        "my_tuple = ('Welcome','to','QuantConnect')"
      ],
      "execution_count": null,
      "outputs": []
    },
    {
      "cell_type": "code",
      "source": [
        "my_tuple = ('Hola','Mundo','Adios') # Se asignan valores a la tupla, separados por comas, dentro de los parentesis"
      ],
      "metadata": {
        "id": "VVzSblkcqhNb"
      },
      "execution_count": 18,
      "outputs": []
    },
    {
      "cell_type": "markdown",
      "metadata": {
        "id": "zMIme4dDV0Wz"
      },
      "source": [
        "Just like a list, a tuple can be sliced by using index."
      ]
    },
    {
      "cell_type": "code",
      "metadata": {
        "colab": {
          "base_uri": "https://localhost:8080/"
        },
        "id": "8P-ddO0sOqii",
        "outputId": "59410ade-8f39-420d-e0cc-cae6c015e1cf"
      },
      "source": [
        "my_tuple = ('Welcome','to','QuantConnect')\n",
        "print(my_tuple[1:])"
      ],
      "execution_count": null,
      "outputs": [
        {
          "output_type": "stream",
          "name": "stdout",
          "text": [
            "('to', 'QuantConnect')\n"
          ]
        }
      ]
    },
    {
      "cell_type": "code",
      "source": [
        "my_tuple = ('Hola','Mundo','Adios') # Se asignan valores a la tupla, separados por comas, dentro de los parentesis\n",
        "print(my_tuple[1:]) # Imprime los valores de la tupla my_tuple, desde la posicion 1, es decir, 'Mundo'"
      ],
      "metadata": {
        "colab": {
          "base_uri": "https://localhost:8080/"
        },
        "id": "Uldmbe8bq2BT",
        "outputId": "ab9d3f00-ceea-4aa2-a8e1-ef7b9cebbe4d"
      },
      "execution_count": 19,
      "outputs": [
        {
          "output_type": "stream",
          "name": "stdout",
          "text": [
            "('Mundo', 'Adios')\n"
          ]
        }
      ]
    },
    {
      "cell_type": "markdown",
      "metadata": {
        "id": "l2JqbusAV1Y2"
      },
      "source": [
        "## Set\n",
        "A set is an **unordered**  collection with **no duplicate** elements. The built-in function **set()** can be used to create sets."
      ]
    },
    {
      "cell_type": "code",
      "metadata": {
        "colab": {
          "base_uri": "https://localhost:8080/"
        },
        "id": "Plau8r-UOqij",
        "outputId": "38956220-c75c-4046-ebfa-810880ea19f4"
      },
      "source": [
        "stock_list = ['AAPL','GOOG','IBM','AAPL','IBM','FB','F','GOOG']\n",
        "stock_set = set(stock_list)\n",
        "print(stock_set)"
      ],
      "execution_count": null,
      "outputs": [
        {
          "output_type": "stream",
          "name": "stdout",
          "text": [
            "{'FB', 'IBM', 'AAPL', 'GOOG', 'F'}\n"
          ]
        }
      ]
    },
    {
      "cell_type": "code",
      "source": [
        "stock_list = ['Hola','Mundo','Adios','Hola','Adios',1,2,1] # Se asignan valores a la lista, separados por comas, dentro de los corchetes\n",
        "stock_set = set(stock_list) # Se crea la coleccion set, transformando la lista con la funcion set()\n",
        "print(stock_set) # Imprime los valores del set stock_set, reflejando su propiedad de elementos no duplicados"
      ],
      "metadata": {
        "colab": {
          "base_uri": "https://localhost:8080/"
        },
        "id": "OWmjaAM-rGg7",
        "outputId": "d332f0d3-c558-4ddc-a4c5-63797853355e"
      },
      "execution_count": 22,
      "outputs": [
        {
          "output_type": "stream",
          "name": "stdout",
          "text": [
            "{1, 2, 'Adios', 'Hola', 'Mundo'}\n"
          ]
        }
      ]
    },
    {
      "cell_type": "markdown",
      "metadata": {
        "id": "Jyb4GGIoWIHk"
      },
      "source": [
        "Set is an easy way to remove duplicate elements from a list.\n",
        "\n",
        "##Dictionary\n",
        "A dictionary is one of the most important data structures in Python. Unlike sequences which are indexed by integers, dictionaries are indexed by keys which can be either strings or floats.\n",
        "\n",
        "A dictionary is an **unordered** collection of key : value pairs, with the requirement that the keys are unique. We create a dictionary by placing a comma-separated list of key : value pairs within the braces."
      ]
    },
    {
      "cell_type": "code",
      "metadata": {
        "collapsed": true,
        "id": "36mTe5BaOqij"
      },
      "source": [
        "my_dic = {'AAPL':'AAPLE', 'FB':'FaceBook', 'GOOG':'Alphabet'}"
      ],
      "execution_count": null,
      "outputs": []
    },
    {
      "cell_type": "code",
      "source": [
        "my_dic = {'Hola':'Mundo', 'Adios':'Planeta', 'Tierra':'Agua'} # Se asignan llaves y sus valores pares al diccionario, separados por comas, dentro de los parentesis"
      ],
      "metadata": {
        "id": "Cpv1DL7LsKrE"
      },
      "execution_count": 23,
      "outputs": []
    },
    {
      "cell_type": "code",
      "metadata": {
        "colab": {
          "base_uri": "https://localhost:8080/"
        },
        "id": "KUfdVf43Oqij",
        "outputId": "4295a710-1edd-4b8c-b1fd-2610cfbf9146"
      },
      "source": [
        "print(my_dic['GOOG'])"
      ],
      "execution_count": null,
      "outputs": [
        {
          "output_type": "stream",
          "name": "stdout",
          "text": [
            "Alphabet\n"
          ]
        }
      ]
    },
    {
      "cell_type": "code",
      "source": [
        "print(my_dic['Adios']) # Imprime el valor de la llave 'Adios', almacenado en el diccionario my_dic, en este caso, 'Planeta'"
      ],
      "metadata": {
        "colab": {
          "base_uri": "https://localhost:8080/"
        },
        "id": "dJY6vNVDsVex",
        "outputId": "108e1f7b-61e5-41b1-d16b-f30693742450"
      },
      "execution_count": 25,
      "outputs": [
        {
          "output_type": "stream",
          "name": "stdout",
          "text": [
            "Planeta\n"
          ]
        }
      ]
    },
    {
      "cell_type": "markdown",
      "metadata": {
        "id": "gSicoNqDWP4c"
      },
      "source": [
        "After defining a dictionary, we can access any value by indicating its key in brackets."
      ]
    },
    {
      "cell_type": "code",
      "metadata": {
        "colab": {
          "base_uri": "https://localhost:8080/"
        },
        "id": "IrTZdq9FOqij",
        "outputId": "d5ccdda2-e268-4fe7-b79a-05487f00cf0e"
      },
      "source": [
        "my_dic['GOOG'] = 'Alphabet Company'\n",
        "print(my_dic['GOOG'])"
      ],
      "execution_count": null,
      "outputs": [
        {
          "output_type": "stream",
          "name": "stdout",
          "text": [
            "Alphabet Company\n"
          ]
        }
      ]
    },
    {
      "cell_type": "code",
      "source": [
        "my_dic['Tierra'] = 'Aire' # Se cambia el valor de la llave 'Tierra' en el diccionario, es decir, cambia 'Agua' por 'Aire'\n",
        "print(my_dic['Tierra']) # Imprime el valor de la llave 'Tierra', almacenado en el diccionario my_dic, en este caso, 'Aire'"
      ],
      "metadata": {
        "colab": {
          "base_uri": "https://localhost:8080/"
        },
        "id": "vAHDM9hls3U2",
        "outputId": "0377b9c0-48ed-4921-e1dc-c6731435c548"
      },
      "execution_count": 26,
      "outputs": [
        {
          "output_type": "stream",
          "name": "stdout",
          "text": [
            "Aire\n"
          ]
        }
      ]
    },
    {
      "cell_type": "markdown",
      "metadata": {
        "id": "M9sDsTEMWQvc"
      },
      "source": [
        "We can also change the value associated with a specified key:"
      ]
    },
    {
      "cell_type": "code",
      "metadata": {
        "colab": {
          "base_uri": "https://localhost:8080/"
        },
        "id": "lupRHf1_Oqij",
        "outputId": "315ce30c-459c-4a59-fef1-8844e30253bb"
      },
      "source": [
        "print(my_dic.keys())"
      ],
      "execution_count": null,
      "outputs": [
        {
          "output_type": "stream",
          "name": "stdout",
          "text": [
            "dict_keys(['AAPL', 'FB', 'GOOG'])\n"
          ]
        }
      ]
    },
    {
      "cell_type": "code",
      "source": [
        "print(my_dic.keys()) # Imprime todas las llaves almacenadas en el diccionario my_dic"
      ],
      "metadata": {
        "colab": {
          "base_uri": "https://localhost:8080/"
        },
        "id": "N4eODcrGtaFe",
        "outputId": "5d49b961-dabd-4385-8fcb-0eba4140a706"
      },
      "execution_count": 27,
      "outputs": [
        {
          "output_type": "stream",
          "name": "stdout",
          "text": [
            "dict_keys(['Hola', 'Adios', 'Tierra'])\n"
          ]
        }
      ]
    },
    {
      "cell_type": "markdown",
      "metadata": {
        "id": "VPuDinlwWS9D"
      },
      "source": [
        "The built-in method of the dictionary object dict.keys() returns a list of all the keys used in the dictionary."
      ]
    },
    {
      "cell_type": "markdown",
      "metadata": {
        "id": "kSGzgNb2Womz"
      },
      "source": [
        "# Common String Operations\n",
        "A string is an immutable sequence of characters. It can be sliced by index just like a tuple:"
      ]
    },
    {
      "cell_type": "code",
      "metadata": {
        "colab": {
          "base_uri": "https://localhost:8080/"
        },
        "id": "xPojDnm9Oqik",
        "outputId": "6566c80c-e15d-4a63-e34a-6e3c9393d71e"
      },
      "source": [
        "my_str = 'Welcome to QuantConnect'\n",
        "print(my_str[8:])"
      ],
      "execution_count": null,
      "outputs": [
        {
          "output_type": "stream",
          "name": "stdout",
          "text": [
            "to QuantConnect\n"
          ]
        }
      ]
    },
    {
      "cell_type": "code",
      "source": [
        "my_str = 'Hola Mundo'\n",
        "print(my_str[6:]) # Imprime la cadena de caracteres my_str, desde la posicion 6, es decir, 'u'"
      ],
      "metadata": {
        "colab": {
          "base_uri": "https://localhost:8080/"
        },
        "id": "OBfE0PmluX1S",
        "outputId": "1933de9d-ace7-4c13-ffe3-fb652d48ebc6"
      },
      "execution_count": 28,
      "outputs": [
        {
          "output_type": "stream",
          "name": "stdout",
          "text": [
            "undo\n"
          ]
        }
      ]
    },
    {
      "cell_type": "markdown",
      "metadata": {
        "id": "wuJYy7tvWtM7"
      },
      "source": [
        "There are many methods associated with strings. We can use string.count() to count the occurrences of a character in a string, use string.find() to return the index of a specific character, and use string.replace() to replace characters"
      ]
    },
    {
      "cell_type": "code",
      "metadata": {
        "colab": {
          "base_uri": "https://localhost:8080/"
        },
        "id": "u9deZq1SOqik",
        "outputId": "76dd7ace-0e6c-4768-f67d-4eaeac8d5bd8"
      },
      "source": [
        "print('Counting the number of e appears in this sentence'.count('e'))\n",
        "print('The first time e appears in this sentence'.find('e'))\n",
        "print('all the a in this sentence now becomes e'.replace('a','e'))"
      ],
      "execution_count": null,
      "outputs": [
        {
          "output_type": "stream",
          "name": "stdout",
          "text": [
            "7\n",
            "2\n",
            "ell the e in this sentence now becomes e\n"
          ]
        }
      ]
    },
    {
      "cell_type": "code",
      "source": [
        "print('Hola Mundo Adios Tierra'.count('a')) # Imprime la cantidad de caracteres 'a', contenidos en la cadena de caracteres\n",
        "print('Hola Mundo Adios Tierra'.find('a')) # Imprime la posicion que se encuentra el primer caracter 'a', contenido en la cadena de caracteres\n",
        "print('Hola Mundo Adios Tierra'.replace('a','o')) # Imprime el reemplazo de los caracteres 'a' por 'o', contenidos en la cadena de caracteres"
      ],
      "metadata": {
        "colab": {
          "base_uri": "https://localhost:8080/"
        },
        "id": "Fh9oTIf5vsTg",
        "outputId": "e091cd34-f778-441c-da8f-fc695d9f75ec"
      },
      "execution_count": 29,
      "outputs": [
        {
          "output_type": "stream",
          "name": "stdout",
          "text": [
            "2\n",
            "3\n",
            "Holo Mundo Adios Tierro\n"
          ]
        }
      ]
    },
    {
      "cell_type": "markdown",
      "metadata": {
        "id": "sJPn3rkvWwHN"
      },
      "source": [
        "The most commonly used method for strings is string.split(). This method will split the string by the indicated character and return a list:"
      ]
    },
    {
      "cell_type": "code",
      "metadata": {
        "colab": {
          "base_uri": "https://localhost:8080/"
        },
        "id": "hbIaFLFHOqik",
        "outputId": "e135eb46-22eb-4a87-8042-eed2ad79c828"
      },
      "source": [
        "Time = '2016-04-01 09:43:00'\n",
        "splited_list = Time.split(' ')\n",
        "date = splited_list[0]\n",
        "time = splited_list[1]\n",
        "print(date, time)\n",
        "hour = time.split(':')[0]\n",
        "print(hour)"
      ],
      "execution_count": null,
      "outputs": [
        {
          "output_type": "stream",
          "name": "stdout",
          "text": [
            "2016-04-01 09:43:00\n",
            "09\n"
          ]
        }
      ]
    },
    {
      "cell_type": "code",
      "source": [
        "Time = '2021-12-03 15:16:00'\n",
        "splited_list = Time.split(' ') # Asigna dos cadenas de caracteres a una lista, separadas por el caracter ' '\n",
        "date = splited_list[0] # Asigna el elemento en la posicion 0 de la lista, a la variable date\n",
        "time = splited_list[1] # Asigna el elemento en la posicion 1 de la lista, a la variable time\n",
        "print(date, time) # Imprime las cadenas date y time\n",
        "hour = time.split(':')[1] # Asigna la subcadena, en la posicion 1, de caracteres de la variable time, separadas por el caracter ':'\n",
        "print(hour) # Imprime el valor de la variable hour, en este caso, 16"
      ],
      "metadata": {
        "colab": {
          "base_uri": "https://localhost:8080/"
        },
        "id": "P9waiaRCxW24",
        "outputId": "aa468b1c-002a-4cbf-cb1d-11ae1f70285a"
      },
      "execution_count": 32,
      "outputs": [
        {
          "output_type": "stream",
          "name": "stdout",
          "text": [
            "2021-12-03 15:16:00\n",
            "16\n"
          ]
        }
      ]
    },
    {
      "cell_type": "markdown",
      "metadata": {
        "id": "9cJQGk96WyVc"
      },
      "source": [
        "We can replace parts of a string by our variable. This is called string formatting."
      ]
    },
    {
      "cell_type": "code",
      "metadata": {
        "colab": {
          "base_uri": "https://localhost:8080/"
        },
        "id": "-E_rIvv6Oqik",
        "outputId": "bec9b731-c4d5-4905-9154-ef979efd6dd0"
      },
      "source": [
        "my_time = 'Hour: {}, Minute:{}'.format('09','43')\n",
        "print(my_time)"
      ],
      "execution_count": null,
      "outputs": [
        {
          "output_type": "stream",
          "name": "stdout",
          "text": [
            "Hour: 09, Minute:43\n"
          ]
        }
      ]
    },
    {
      "cell_type": "code",
      "source": [
        "my_time = 'Hora: {}, Minutos:{}'.format('15','16') # Reemplaza las posiciones de las llaves con los parametros de la funcion format\n",
        "print(my_time) # Imprime el valor de la variable my_time"
      ],
      "metadata": {
        "colab": {
          "base_uri": "https://localhost:8080/"
        },
        "id": "dXkXyPz9zX7J",
        "outputId": "2c2ac2b7-3be5-4218-c7cf-3ea19fa85079"
      },
      "execution_count": 34,
      "outputs": [
        {
          "output_type": "stream",
          "name": "stdout",
          "text": [
            "Hora: 15, Minutos:16\n"
          ]
        }
      ]
    },
    {
      "cell_type": "markdown",
      "metadata": {
        "id": "1_NbVldpWzAs"
      },
      "source": [
        "Another way to format a string is to use the % symbol."
      ]
    },
    {
      "cell_type": "code",
      "metadata": {
        "colab": {
          "base_uri": "https://localhost:8080/"
        },
        "id": "4rZ4rkD2Oqik",
        "outputId": "cd5d93b8-56d7-4406-9c43-d84144bded85"
      },
      "source": [
        "print('the pi number is %f'%3.14)\n",
        "print('%s to %s'%('Welcome','Quantconnect'))"
      ],
      "execution_count": null,
      "outputs": [
        {
          "output_type": "stream",
          "name": "stdout",
          "text": [
            "the pi number is 3.140000\n",
            "Welcome to Quantconnect\n"
          ]
        }
      ]
    },
    {
      "cell_type": "code",
      "source": [
        "print('el numero pi es %f'%3.1416) # Reemplaza la posicion de flotante en la cadena de caracteres, con el flotante 3.1416\n",
        "print('%s Adios %s'%('Hola','Mundo')) # Reemplaza las posiciones de strings en la cadena de caracteres, con las cadenas de caracteres 'Hola' y 'Mundo'"
      ],
      "metadata": {
        "colab": {
          "base_uri": "https://localhost:8080/"
        },
        "id": "LFikSR_2ztXf",
        "outputId": "3abf5341-5835-4e71-9b68-5d5c0c8f513e"
      },
      "execution_count": 36,
      "outputs": [
        {
          "output_type": "stream",
          "name": "stdout",
          "text": [
            "el numero pi es 3.141600\n",
            "Hola Adios Mundo\n"
          ]
        }
      ]
    },
    {
      "cell_type": "markdown",
      "metadata": {
        "id": "v_5cocrDW3MN"
      },
      "source": [
        "# Summary\n",
        "\n",
        "Weave seen the basic data types and data structures in Python. It's important to keep practicing to become familiar with these data structures. In the next tutorial, we will cover for and while loops and logical operations in Python."
      ]
    },
    {
      "cell_type": "markdown",
      "metadata": {
        "id": "QL6dNxwCXNEt"
      },
      "source": [
        "<div align=\"center\">\n",
        "<img style=\"display: block; margin: auto;\" alt=\"photo\" src=\"https://cdn.quantconnect.com/web/i/icon.png\">\n",
        "\n",
        "Quantconnect\n",
        "\n",
        "Introduction to Financial Python\n",
        "</div>\n",
        "\n",
        "# 02 Logical Operations and Loops\n",
        "\n",
        "# Introduction\n",
        "We discussed the basic data types and data structures in Python in the last tutorial. This chapter covers logical operations and loops in Python, which are very common in programming.\n",
        "\n",
        "# Logical Operations\n",
        "Like most programming languages, Python has comparison operators:"
      ]
    },
    {
      "cell_type": "code",
      "metadata": {
        "colab": {
          "base_uri": "https://localhost:8080/"
        },
        "id": "70Guys_rOv7a",
        "outputId": "220ac34e-d9dd-4a30-9400-0fd74d9a0158"
      },
      "source": [
        "print(1 == 0)\n",
        "print(1 == 1)\n",
        "print(1 != 0)\n",
        "print(5 >= 5)\n",
        "print(5 >= 6)"
      ],
      "execution_count": null,
      "outputs": [
        {
          "output_type": "stream",
          "name": "stdout",
          "text": [
            "False\n",
            "True\n",
            "True\n",
            "True\n",
            "False\n"
          ]
        }
      ]
    },
    {
      "cell_type": "code",
      "source": [
        "print(2 == 1) # Imprime el resultado de la comparacion logica, en este caso, si 2 es igual que 1, lo cual es falso\n",
        "print(2 == 2) # Imprime el resultado de la comparacion logica, en este caso, si 2 es igual que 2, lo cual es verdadero\n",
        "print(2 != 1) # Imprime el resultado de la comparacion logica, en este caso, si 2 es diferente que 1, lo cual es verdadero\n",
        "print(3 >= 3) # Imprime el resultado de la comparacion logica, en este caso, si 3 es mayor o igual que 3, lo cual es verdadero\n",
        "print(4 < 3) # Imprime el resultado de la comparacion logica, en este caso, si 4 es menor que 3, lo cual es falso"
      ],
      "metadata": {
        "colab": {
          "base_uri": "https://localhost:8080/"
        },
        "id": "FaLEXooWMwSo",
        "outputId": "bb9e2f35-9b90-45b5-f1f2-1ce24eb395d6"
      },
      "execution_count": 2,
      "outputs": [
        {
          "output_type": "stream",
          "name": "stdout",
          "text": [
            "False\n",
            "True\n",
            "True\n",
            "True\n",
            "False\n"
          ]
        }
      ]
    },
    {
      "cell_type": "markdown",
      "metadata": {
        "id": "8aFHYDj-YTXt"
      },
      "source": [
        "Each statement above has a boolean value, which must be either True or False, but not both.\n",
        "\n",
        "We can combine simple statements P and Q to form complex statements using logical operators:\n",
        "\n",
        "- The statement \"P and Q\" is true if both P and Q are true, otherwise it is false.\n",
        "- The statement \"P or Q\" is false if both P and Q are false, otherwise it is true.\n",
        "- The statement \"not P\" is true if P is false, and vice versa."
      ]
    },
    {
      "cell_type": "code",
      "metadata": {
        "colab": {
          "base_uri": "https://localhost:8080/"
        },
        "id": "O5YEEcUbOv7d",
        "outputId": "b0b66a4b-5e0b-493a-912d-ea3970a5026c"
      },
      "source": [
        "print(2 > 1 and 3 > 2)\n",
        "print(2 > 1 and 3 < 2) \n",
        "print(2 > 1 or 3 < 2)\n",
        "print(2 < 1 and 3 < 2)"
      ],
      "execution_count": null,
      "outputs": [
        {
          "output_type": "stream",
          "name": "stdout",
          "text": [
            "True\n",
            "False\n",
            "True\n",
            "False\n"
          ]
        }
      ]
    },
    {
      "cell_type": "code",
      "source": [
        "print(3 > 2 and 4 > 3) # Imprime el resultado de las comparaciones logicas, 3 mayor que 2 y 4 mayor que 3, lo cual es verdadero\n",
        "print(3 > 2 and 4 < 3) # Imprime el resultado de las comparaciones logicas, 3 mayor que 2 y 4 menor que 3, lo cual es falso\n",
        "print(3 > 2 or 4 < 3) # Imprime el resultado de las comparaciones logicas, 3 mayor que 2 o 4 menor que 3, lo cual es verdadero\n",
        "print(3 <= 2 or 4 > 3) # Imprime el resultado de las comparaciones logicas, 3 menor o igual que 2 o 4 mayor que 3, lo cual es verdadero"
      ],
      "metadata": {
        "colab": {
          "base_uri": "https://localhost:8080/"
        },
        "id": "UoarlvqfNr7R",
        "outputId": "33b7b21e-48dc-4237-b0b1-1b9cbbbb369f"
      },
      "execution_count": 5,
      "outputs": [
        {
          "output_type": "stream",
          "name": "stdout",
          "text": [
            "True\n",
            "False\n",
            "True\n",
            "True\n"
          ]
        }
      ]
    },
    {
      "cell_type": "markdown",
      "metadata": {
        "id": "Dy7yzoSXYXmL"
      },
      "source": [
        "When dealing with a very complex logical statement that involves in several statements, we can use brackets to separate and combine them."
      ]
    },
    {
      "cell_type": "code",
      "metadata": {
        "colab": {
          "base_uri": "https://localhost:8080/"
        },
        "id": "QZ-W2xJZOv7d",
        "outputId": "25b7e3d0-7d41-4af4-ade3-bb35f2d469b9"
      },
      "source": [
        "print((3 > 2 or 1 < 3) and (1!=3 and 4>3) and not ( 3 < 2 or 1 < 3 and (1!=3 and 4>3)))\n",
        "print(3 > 2 or 1 < 3 and (1!=3 and 4>3) and not ( 3 < 2 or 1 < 3 and (1!=3 and 4>3)))"
      ],
      "execution_count": null,
      "outputs": [
        {
          "output_type": "stream",
          "name": "stdout",
          "text": [
            "False\n",
            "True\n"
          ]
        }
      ]
    },
    {
      "cell_type": "code",
      "source": [
        "print((4 > 3 or 2 < 4) and (2!=4 and 5>4) and not ( 4 < 3 or 2 < 4 and (2!=4 and 5>4))) # Imprime el resultado de las operaciones logicas, siguiendo la jerarquia de operaciones\n",
        "print(4 > 3 or 2 < 4 and (2!=4 and 5<4) and not ( 4 > 3 or 2 < 4 and (2==4 and 5>4))) # Imprime el resultado de las operaciones logicas, siguiendo la jerarquia de operaciones"
      ],
      "metadata": {
        "colab": {
          "base_uri": "https://localhost:8080/"
        },
        "id": "YpiQxtibOuN4",
        "outputId": "3955a103-20d4-4306-e40f-82f141953644"
      },
      "execution_count": 8,
      "outputs": [
        {
          "output_type": "stream",
          "name": "stdout",
          "text": [
            "False\n",
            "True\n"
          ]
        }
      ]
    },
    {
      "cell_type": "markdown",
      "metadata": {
        "id": "s95xoRYMYaPD"
      },
      "source": [
        "Comparing the above two statements, we can see that it's wise to use brackets when we make a complex logical statement.\n",
        "\n",
        "# If Statement\n",
        "An if statement executes a segment of code only if its condition is true. A standard if statement consists of 3 segments: if, elif and else."
      ]
    },
    {
      "cell_type": "markdown",
      "metadata": {
        "id": "aRzMMitAaBOL"
      },
      "source": [
        "```python\n",
        "if statement1:\n",
        "    # if the statement1 is true, execute the code here.\n",
        "    # code.....\n",
        "    # code.....\n",
        "elif statement2:\n",
        "    # if the statement 1 is false, skip the codes above to this part.\n",
        "    # code......\n",
        "    # code......\n",
        "else:\n",
        "    # if none of the above statements is True, skip to this part\n",
        "    # code......\n",
        "```"
      ]
    },
    {
      "cell_type": "markdown",
      "metadata": {
        "id": "l59R2AS8aH2K"
      },
      "source": [
        "An if statement doesn't necessarily has elif and else part. If it's not specified, the indented block of code will be executed when the condition is true, otherwise the whole if statement will be skipped."
      ]
    },
    {
      "cell_type": "code",
      "metadata": {
        "colab": {
          "base_uri": "https://localhost:8080/"
        },
        "id": "FZ5GoTXfOv7e",
        "outputId": "3e491f24-5e60-4ae8-8708-6af02357a24f"
      },
      "source": [
        "i = 0\n",
        "if i == 0:\n",
        "    print('i==0 is True')"
      ],
      "execution_count": null,
      "outputs": [
        {
          "output_type": "stream",
          "name": "stdout",
          "text": [
            "i==0 is True\n"
          ]
        }
      ]
    },
    {
      "cell_type": "code",
      "source": [
        "i = 1\n",
        "if i == 1: # Si el valor de la variable i es igual a 1, se ejecutara el bloque de codigo tabulado\n",
        "    print('i==1 es verdadero') # Imprime una cadena de caracteres"
      ],
      "metadata": {
        "id": "gGlTIa6hPWYR"
      },
      "execution_count": null,
      "outputs": []
    },
    {
      "cell_type": "markdown",
      "metadata": {
        "id": "nPNW-l5eaJn8"
      },
      "source": [
        "As we mentioned above, we can write some complex statements here:"
      ]
    },
    {
      "cell_type": "code",
      "metadata": {
        "colab": {
          "base_uri": "https://localhost:8080/"
        },
        "id": "gh-U6nMzOv7e",
        "outputId": "278c09cc-10be-4372-f22e-29c1a5ee5f8b"
      },
      "source": [
        "p = 1 > 0\n",
        "q = 2 > 3\n",
        "if p and q:\n",
        "    print('p and q is true')\n",
        "elif p and not q:\n",
        "    print('q is false')\n",
        "elif q and not p:\n",
        "    print('p is false')\n",
        "else:\n",
        "    print('None of p and q is true')"
      ],
      "execution_count": null,
      "outputs": [
        {
          "output_type": "stream",
          "name": "stdout",
          "text": [
            "q is false\n"
          ]
        }
      ]
    },
    {
      "cell_type": "code",
      "source": [
        "p = 2 > 1 # Asigna el resultado booleano de la comparacion logica, 2 mayor que 1, lo cual es verdadero\n",
        "q = 3 > 4 # Asigna el resultado booleano de la comparacion logica, 3 mayor que 4, lo cual es falso\n",
        "if p and q: # Si p y q son verdaderos, se ejecutara el bloque de codigo tabulado\n",
        "    print('p and q is true')\n",
        "elif p and not q: # Si p es verdadero y q es falso, se ejecutara el bloque de codigo tabulado\n",
        "    print('q is false')\n",
        "elif q and not p: # Si q es verdadero y p es falso, se ejecutara el bloque de codigo tabulado\n",
        "    print('p is false')\n",
        "else: # En cualquier otro caso, se ejecutara el bloque de codigo tabulado\n",
        "    print('None of p and q is true')"
      ],
      "metadata": {
        "colab": {
          "base_uri": "https://localhost:8080/"
        },
        "id": "r3hdwo_6Q7D6",
        "outputId": "f31c16a2-adc2-4c27-bcbf-9d2f90127bec"
      },
      "execution_count": 11,
      "outputs": [
        {
          "output_type": "stream",
          "name": "stdout",
          "text": [
            "q is false\n"
          ]
        }
      ]
    },
    {
      "cell_type": "markdown",
      "metadata": {
        "id": "tgRDwiAsaMOL"
      },
      "source": [
        "# Loop Structure\n",
        "Loops are an essential part of programming. The \"for\" and \"while\" loops run a block of code repeatedly.\n",
        "\n",
        "## While Loop\n",
        "A \"while\" loop will run repeatedly until a certain condition has been met."
      ]
    },
    {
      "cell_type": "code",
      "metadata": {
        "colab": {
          "base_uri": "https://localhost:8080/"
        },
        "id": "uQLau8d5Ov7f",
        "outputId": "aa7e27c1-cbf5-4347-89fb-a2b9558c5e78"
      },
      "source": [
        "i = 0\n",
        "while i < 5:\n",
        "    print(i)\n",
        "    i += 1 "
      ],
      "execution_count": null,
      "outputs": [
        {
          "output_type": "stream",
          "name": "stdout",
          "text": [
            "0\n",
            "1\n",
            "2\n",
            "3\n",
            "4\n"
          ]
        }
      ]
    },
    {
      "cell_type": "code",
      "source": [
        "i = 0\n",
        "while i < 3: # Mientras el valor de la variable i sea menor que 3, se ejecutara el bloque de codigo tabulado\n",
        "    print(i)\n",
        "    i += 1 # Incrementa el valor de la variable i en 1, evitando asi ciclos infinitos"
      ],
      "metadata": {
        "colab": {
          "base_uri": "https://localhost:8080/"
        },
        "id": "ZW0_MbyrR0fV",
        "outputId": "413553be-2882-4a8e-8b98-12517fa1a003"
      },
      "execution_count": 12,
      "outputs": [
        {
          "output_type": "stream",
          "name": "stdout",
          "text": [
            "0\n",
            "1\n",
            "2\n"
          ]
        }
      ]
    },
    {
      "cell_type": "markdown",
      "metadata": {
        "id": "ydLddFAPaTOE"
      },
      "source": [
        "When making a while loop, we need to ensure that something changes from iteration to iteration so that the while loop will terminate, otherwise, it will run forever. Here we used i += 1 (short for i = i + 1) to make i larger after each iteration. This is the most commonly used method to control a while loop.\n",
        "\n",
        "## For Loop\n",
        "A \"for\" loop will iterate over a sequence of value and terminate when the sequence has ended."
      ]
    },
    {
      "cell_type": "code",
      "metadata": {
        "colab": {
          "base_uri": "https://localhost:8080/"
        },
        "id": "kt8Ie8u1Ov7f",
        "outputId": "3e598608-0d6f-4e1c-b3fc-34d06ff14eb8"
      },
      "source": [
        "for i in [1,2,3,4,5]:\n",
        "    print(i)"
      ],
      "execution_count": null,
      "outputs": [
        {
          "output_type": "stream",
          "name": "stdout",
          "text": [
            "1\n",
            "2\n",
            "3\n",
            "4\n",
            "5\n"
          ]
        }
      ]
    },
    {
      "cell_type": "code",
      "source": [
        "for i in [6,7,8,9,10]: # La variable i va a iterar entre 6 y 10, ejecutando el bloque de codigo tabulado\n",
        "    print(i)"
      ],
      "metadata": {
        "colab": {
          "base_uri": "https://localhost:8080/"
        },
        "id": "yoSn3oGcSEMn",
        "outputId": "0788b03e-f097-4e36-d59a-ee38b72ce569"
      },
      "execution_count": 13,
      "outputs": [
        {
          "output_type": "stream",
          "name": "stdout",
          "text": [
            "6\n",
            "7\n",
            "8\n",
            "9\n",
            "10\n"
          ]
        }
      ]
    },
    {
      "cell_type": "markdown",
      "metadata": {
        "id": "yWStqpreaX-T"
      },
      "source": [
        "We can also add if statements in a for loop. Here is a real example from our pairs trading algorithm:"
      ]
    },
    {
      "cell_type": "code",
      "metadata": {
        "colab": {
          "base_uri": "https://localhost:8080/"
        },
        "id": "kElmffvFOv7f",
        "outputId": "6161e9da-cf62-44a5-fa80-ad45276473f7"
      },
      "source": [
        "stocks = ['AAPL','GOOG','IBM','FB','F','V', 'G', 'GE']\n",
        "selected = ['AAPL','IBM']\n",
        "new_list = []\n",
        "for i in stocks:\n",
        "    if i not in selected:\n",
        "        new_list.append(i)\n",
        "print(stocks)"
      ],
      "execution_count": null,
      "outputs": [
        {
          "output_type": "stream",
          "name": "stdout",
          "text": [
            "['AAPL', 'GOOG', 'IBM', 'FB', 'F', 'V', 'G', 'GE']\n"
          ]
        }
      ]
    },
    {
      "cell_type": "code",
      "source": [
        "stocks = ['Hola','Mundo','Adios','Tierra','Agua','Aire', 'Fuego', 'Planeta']\n",
        "selected = ['Hola','Adios']\n",
        "new_list = []\n",
        "for i in stocks: # La variable i va a iterar en la lista stocks, ejecutando el bloque de codigo tabulado\n",
        "    if i not in selected: # Si el valor de la variable i no esta en la lista selected, se jecutara el bloque de codigo tabulado\n",
        "        new_list.append(i) # Se adiciona un nuevo elemento a la lista new_list, con el metodo append\n",
        "print(new_list)"
      ],
      "metadata": {
        "colab": {
          "base_uri": "https://localhost:8080/"
        },
        "id": "h5Tah7EUSqal",
        "outputId": "15d262be-5b70-4456-b749-8fb592983702"
      },
      "execution_count": 14,
      "outputs": [
        {
          "output_type": "stream",
          "name": "stdout",
          "text": [
            "['Mundo', 'Tierra', 'Agua', 'Aire', 'Fuego', 'Planeta']\n"
          ]
        }
      ]
    },
    {
      "cell_type": "markdown",
      "metadata": {
        "id": "wb2hry9dahE0"
      },
      "source": [
        "Here we iterated all the elements in the list 'stocks'. Later in this chapter, we will introduce a smarter way to do this, which is just a one-line code.\n",
        "\n",
        "## Break and continue\n",
        "These are two commonly used commands in a for loop. If \"break\" is triggered while a loop is executing, the loop will terminate immediately:"
      ]
    },
    {
      "cell_type": "code",
      "metadata": {
        "colab": {
          "base_uri": "https://localhost:8080/"
        },
        "id": "yF5wMVItOv7g",
        "outputId": "2eb40fb9-fe33-4936-b6dd-84614f6dcba9"
      },
      "source": [
        "stocks = ['AAPL','GOOG','IBM','FB','F','V', 'G', 'GE']\n",
        "for i in stocks:\n",
        "    print(i)\n",
        "    if i == 'FB':\n",
        "        break"
      ],
      "execution_count": null,
      "outputs": [
        {
          "output_type": "stream",
          "name": "stdout",
          "text": [
            "AAPL\n",
            "GOOG\n",
            "IBM\n",
            "FB\n"
          ]
        }
      ]
    },
    {
      "cell_type": "code",
      "source": [
        "stocks = ['Hola','Mundo','Adios','Tierra','Agua','Aire', 'Fuego', 'Planeta']\n",
        "for i in stocks: # La variable i va a iterar en la lista stocks, ejecutando el bloque de codigo tabulado\n",
        "    print(i)\n",
        "    if i == 'Tierra': # Si el valor de la variable i es igual a 'Tierra', el ciclo se termina\n",
        "        break"
      ],
      "metadata": {
        "colab": {
          "base_uri": "https://localhost:8080/"
        },
        "id": "8ZJ6dKcaTd7t",
        "outputId": "1797cb8d-61b4-4c60-edf8-57572d8adbbf"
      },
      "execution_count": 15,
      "outputs": [
        {
          "output_type": "stream",
          "name": "stdout",
          "text": [
            "Hola\n",
            "Mundo\n",
            "Adios\n",
            "Tierra\n"
          ]
        }
      ]
    },
    {
      "cell_type": "markdown",
      "metadata": {
        "id": "R0toxyp3ao0T"
      },
      "source": [
        "The \"continue\" command tells the loop to end this iteration and skip to the next iteration:"
      ]
    },
    {
      "cell_type": "code",
      "metadata": {
        "colab": {
          "base_uri": "https://localhost:8080/"
        },
        "id": "Stg-CH6IOv7g",
        "outputId": "7bff9c13-2d53-4ccc-e070-f4de7234d8cf"
      },
      "source": [
        "stocks = ['AAPL','GOOG','IBM','FB','F','V', 'G', 'GE']\n",
        "for i in stocks:\n",
        "    if i == 'FB':\n",
        "        continue\n",
        "    print(i)"
      ],
      "execution_count": null,
      "outputs": [
        {
          "output_type": "stream",
          "name": "stdout",
          "text": [
            "AAPL\n",
            "GOOG\n",
            "IBM\n",
            "F\n",
            "V\n",
            "G\n",
            "GE\n"
          ]
        }
      ]
    },
    {
      "cell_type": "code",
      "source": [
        "stocks = ['Hola','Mundo','Adios','Tierra','Agua','Aire', 'Fuego', 'Planeta']\n",
        "for i in stocks: # La variable i va a iterar en la lista stocks, ejecutando el bloque de codigo tabulado\n",
        "    if i == 'Tierra': # Si el valor de la variable i es igual a 'Tierra', el ciclo salta a la siguiente iteracion\n",
        "        continue\n",
        "    print(i)"
      ],
      "metadata": {
        "colab": {
          "base_uri": "https://localhost:8080/"
        },
        "id": "LNjqdjIfT6Gp",
        "outputId": "1d363253-86c8-4c02-b128-a61a0b2fbb70"
      },
      "execution_count": 16,
      "outputs": [
        {
          "output_type": "stream",
          "name": "stdout",
          "text": [
            "Hola\n",
            "Mundo\n",
            "Adios\n",
            "Agua\n",
            "Aire\n",
            "Fuego\n",
            "Planeta\n"
          ]
        }
      ]
    },
    {
      "cell_type": "markdown",
      "metadata": {
        "id": "4NusvdhBaxpZ"
      },
      "source": [
        "# List Comprehension\n",
        "List comprehension is a Pythonic way to create lists. Common applications are to make new lists where each element is the result of some operations applied to each member of another sequence. For example, if we want to create a list of squares using for loop:"
      ]
    },
    {
      "cell_type": "code",
      "metadata": {
        "colab": {
          "base_uri": "https://localhost:8080/"
        },
        "id": "bdxxeOABOv7h",
        "outputId": "4c976f98-d139-4d13-afbf-4b2f45a6698e"
      },
      "source": [
        "squares = []\n",
        "for i in [1,2,3,4,5]:\n",
        "    squares.append(i**2)\n",
        "print(squares)"
      ],
      "execution_count": null,
      "outputs": [
        {
          "output_type": "stream",
          "name": "stdout",
          "text": [
            "[1, 4, 9, 16, 25]\n"
          ]
        }
      ]
    },
    {
      "cell_type": "code",
      "source": [
        "squares = []\n",
        "for i in [6,7,8,9,10]: # La variable i va a iterar entre 6 y 10, ejecutando el bloque de codigo tabulado\n",
        "    squares.append(i**3) # El valor de la variable i se elevara al cubo y adicionara en la lista squares\n",
        "print(squares)"
      ],
      "metadata": {
        "colab": {
          "base_uri": "https://localhost:8080/"
        },
        "id": "HwvJBNhGUL1k",
        "outputId": "99bc3653-7c8b-4fa7-a84e-664f7a5eddde"
      },
      "execution_count": 17,
      "outputs": [
        {
          "output_type": "stream",
          "name": "stdout",
          "text": [
            "[216, 343, 512, 729, 1000]\n"
          ]
        }
      ]
    },
    {
      "cell_type": "markdown",
      "metadata": {
        "id": "--KliJBOa1CC"
      },
      "source": [
        "Using list comprehension:"
      ]
    },
    {
      "cell_type": "code",
      "metadata": {
        "colab": {
          "base_uri": "https://localhost:8080/"
        },
        "id": "440-yjG8Ov7h",
        "outputId": "69947293-8145-425e-da94-197658f07e4b"
      },
      "source": [
        "list = [1,2,3,4,5]\n",
        "squares = [x**2 for x in list]\n",
        "print(squares)"
      ],
      "execution_count": null,
      "outputs": [
        {
          "output_type": "stream",
          "name": "stdout",
          "text": [
            "[1, 4, 9, 16, 25]\n"
          ]
        }
      ]
    },
    {
      "cell_type": "code",
      "source": [
        "list = [6,7,8,9,10]\n",
        "squares = [y**3 for y in list]  # Se aplica el concepto de List Comprehension, en este caso, el valor de la variable 'y' se elevara al cubo y adicionara en la lista squares\n",
        "print(squares)"
      ],
      "metadata": {
        "colab": {
          "base_uri": "https://localhost:8080/"
        },
        "id": "-aQRznopUjsz",
        "outputId": "528e170b-a48c-4f05-ba3b-f1a4bab5d26a"
      },
      "execution_count": 35,
      "outputs": [
        {
          "output_type": "stream",
          "name": "stdout",
          "text": [
            "[216, 343, 512, 729, 1000]\n"
          ]
        }
      ]
    },
    {
      "cell_type": "markdown",
      "metadata": {
        "id": "uMuCfR3ya3zT"
      },
      "source": [
        "Recall the example above where we used a for loop to select stocks. Here we use list comprehension:"
      ]
    },
    {
      "cell_type": "code",
      "metadata": {
        "colab": {
          "base_uri": "https://localhost:8080/"
        },
        "id": "ZGtCtog2Ov7h",
        "outputId": "97ebb092-5c56-4e1b-ab4c-6486642252bb"
      },
      "source": [
        "stocks = ['AAPL','GOOG','IBM','FB','F','V', 'G', 'GE']\n",
        "selected = ['AAPL','IBM']\n",
        "new_list = [x for x in stocks if x in selected]\n",
        "print(new_list)"
      ],
      "execution_count": null,
      "outputs": [
        {
          "output_type": "stream",
          "name": "stdout",
          "text": [
            "['AAPL', 'IBM']\n"
          ]
        }
      ]
    },
    {
      "cell_type": "code",
      "source": [
        "stocks = ['Hola','Mundo','Adios','Tierra','Agua','Aire', 'Fuego', 'Planeta']\n",
        "selected = ['Hola','Adios']\n",
        "new_list = [x for x in stocks if x in selected] # Se aplica el concepto de List Comprehension, en este caso, el valor de la variable 'x' adicionara en la lista squares si esta en la lista selected\n",
        "print(new_list)"
      ],
      "metadata": {
        "colab": {
          "base_uri": "https://localhost:8080/"
        },
        "id": "pSgH3lWCVOly",
        "outputId": "27b7204d-1f7a-45c1-e4ea-bff34d61a588"
      },
      "execution_count": 18,
      "outputs": [
        {
          "output_type": "stream",
          "name": "stdout",
          "text": [
            "['Hola', 'Adios']\n"
          ]
        }
      ]
    },
    {
      "cell_type": "markdown",
      "metadata": {
        "id": "EPeUv6Lia5oD"
      },
      "source": [
        "A list comprehension consists of square brackets containing an expression followed by a \"for\" clause, and possibly \"for\" or \"if\" clauses. For example:"
      ]
    },
    {
      "cell_type": "code",
      "metadata": {
        "colab": {
          "base_uri": "https://localhost:8080/"
        },
        "id": "O1AMB5d7Ov7i",
        "outputId": "3585c3be-f0d4-4340-fcb1-dcd256dc8504"
      },
      "source": [
        "print([(x, y) for x in [1,2,3] for y in [3,1,4] if x != y])\n",
        "print([str(x)+' vs '+str(y) for x in ['AAPL','GOOG','IBM','FB'] for y in ['F','V','G','GE'] if x!=y])"
      ],
      "execution_count": null,
      "outputs": [
        {
          "output_type": "stream",
          "name": "stdout",
          "text": [
            "[(1, 3), (1, 4), (2, 3), (2, 1), (2, 4), (3, 1), (3, 4)]\n",
            "['AAPL vs F', 'AAPL vs V', 'AAPL vs G', 'AAPL vs GE', 'GOOG vs F', 'GOOG vs V', 'GOOG vs G', 'GOOG vs GE', 'IBM vs F', 'IBM vs V', 'IBM vs G', 'IBM vs GE', 'FB vs F', 'FB vs V', 'FB vs G', 'FB vs GE']\n"
          ]
        }
      ]
    },
    {
      "cell_type": "code",
      "source": [
        "print([(x, y) for x in [2,3,4] for y in [4,2,5] if x != y]) # Se aplica el concepto de List Comprehension, en este caso, consistiendo del ciclo for y la condicional if\n",
        "print([str(x)+' vs '+str(y) for x in ['Hola','Mundo','Adios','Planeta'] for y in ['Tierra','Agua','Aire','Fuego'] if x!=y]) # Se aplica el concepto de List Comprehension, en este caso, consistiendo de ciclos for anidados"
      ],
      "metadata": {
        "colab": {
          "base_uri": "https://localhost:8080/"
        },
        "id": "30izPhVRVmd7",
        "outputId": "35237d04-627a-4d2b-9dfc-22aff93cf91d"
      },
      "execution_count": 20,
      "outputs": [
        {
          "output_type": "stream",
          "name": "stdout",
          "text": [
            "[(2, 4), (2, 5), (3, 4), (3, 2), (3, 5), (4, 2), (4, 5)]\n",
            "['Hola vs Tierra', 'Hola vs Agua', 'Hola vs Aire', 'Hola vs Fuego', 'Mundo vs Tierra', 'Mundo vs Agua', 'Mundo vs Aire', 'Mundo vs Fuego', 'Adios vs Tierra', 'Adios vs Agua', 'Adios vs Aire', 'Adios vs Fuego', 'Planeta vs Tierra', 'Planeta vs Agua', 'Planeta vs Aire', 'Planeta vs Fuego']\n"
          ]
        }
      ]
    },
    {
      "cell_type": "markdown",
      "metadata": {
        "id": "jJpvq-o4a8P7"
      },
      "source": [
        "List comprehension is an elegant way to organize one or more for loops when creating a list.\n",
        "\n",
        "# Summary\n",
        "This chapter has introduced logical operations, loops, and list comprehension. In the next chapter, we will introduce functions and object-oriented programming, which will enable us to make our codes clean and versatile."
      ]
    },
    {
      "cell_type": "markdown",
      "metadata": {
        "id": "Tef_X2wJbdhn"
      },
      "source": [
        "<div align=\"center\">\n",
        "<img style=\"display: block; margin: auto;\" alt=\"photo\" src=\"https://cdn.quantconnect.com/web/i/icon.png\">\n",
        "\n",
        "Quantconnect\n",
        "\n",
        "Introduction to Financial Python\n",
        "</div>\n",
        "\n",
        "# 03 Functions and Objective-Oriented Programming\n",
        "\n",
        "# Introduction\n",
        "\n",
        "In the last tutorial we introduced logical operations, loops and list comprehension. We will introduce functions and object-oriented programming in this chapter, which will enable us to build complex algorithms in more flexible ways.\n",
        "\n",
        "# Functions\n",
        "A function is a reusable block of code. We can use a function to output a value, or do anything else we want. We can easily define our own function by using the keyword \"def\"."
      ]
    },
    {
      "cell_type": "code",
      "metadata": {
        "colab": {
          "base_uri": "https://localhost:8080/"
        },
        "id": "eE_NkTiSO2PO",
        "outputId": "d2492acb-e355-4f23-88eb-9a8a410aec5e"
      },
      "source": [
        "def product(x,y):\n",
        "    return x*y\n",
        "print(product(2,3))\n",
        "print(product(5,10))"
      ],
      "execution_count": null,
      "outputs": [
        {
          "output_type": "stream",
          "name": "stdout",
          "text": [
            "6\n",
            "50\n"
          ]
        }
      ]
    },
    {
      "cell_type": "code",
      "source": [
        "def division(x,y): # Funcion que retorna la division entre dos variables\n",
        "    return x/y\n",
        "print(division(4,2)) # Imprime el resultado flotante de la division entre dos numeros enteros\n",
        "print(division(5,3)) # Imprime el resultado flotante de la division entre dos numeros enteros"
      ],
      "metadata": {
        "colab": {
          "base_uri": "https://localhost:8080/"
        },
        "id": "Ad-Tm52WWeqJ",
        "outputId": "9c1b3238-6489-4c75-c75e-3bb7ca4f788f"
      },
      "execution_count": 21,
      "outputs": [
        {
          "output_type": "stream",
          "name": "stdout",
          "text": [
            "2.0\n",
            "1.6666666666666667\n"
          ]
        }
      ]
    },
    {
      "cell_type": "markdown",
      "metadata": {
        "id": "4oRU_dVJbsdD"
      },
      "source": [
        "The keyword \"def\" is followed by the function name and the parenthesized list of formal parameters. The statements that form the body of the function start at the next line, and must be indented. The product() function above has \"x\" and \"y\" as its parameters. A function doesn't necessarily have parameters:"
      ]
    },
    {
      "cell_type": "code",
      "metadata": {
        "colab": {
          "base_uri": "https://localhost:8080/"
        },
        "id": "JhdWVLbUO2PQ",
        "outputId": "0c544747-1d2c-444f-cc68-81d53a29aa66"
      },
      "source": [
        "def say_hi():\n",
        "    print('Welcome to QuantConnect')\n",
        "say_hi()"
      ],
      "execution_count": null,
      "outputs": [
        {
          "output_type": "stream",
          "name": "stdout",
          "text": [
            "Welcome to QuantConnect\n"
          ]
        }
      ]
    },
    {
      "cell_type": "code",
      "source": [
        "def say_hi(): # Funcion que imprime una cadena de caracteres\n",
        "    print('Hola Mundo')\n",
        "say_hi() # Llamado a la funcion say_hi"
      ],
      "metadata": {
        "colab": {
          "base_uri": "https://localhost:8080/"
        },
        "id": "jix5oMSiW4tM",
        "outputId": "50af5f38-ecb5-4b0f-9ac9-06a6edf7ffab"
      },
      "execution_count": 22,
      "outputs": [
        {
          "output_type": "stream",
          "name": "stdout",
          "text": [
            "Hola Mundo\n"
          ]
        }
      ]
    },
    {
      "cell_type": "markdown",
      "metadata": {
        "id": "lHwqVpWVb1Jr"
      },
      "source": [
        "# Built-in Function\n",
        "**range()** is a function that creates a list containing an arithmetic sequence. It's often used in for loops. The arguments must be integers. If the \"step\" argument is omitted, it defaults to 1."
      ]
    },
    {
      "cell_type": "code",
      "metadata": {
        "colab": {
          "base_uri": "https://localhost:8080/"
        },
        "id": "VVOTELcIO2PQ",
        "outputId": "aa49027e-a8d9-4e49-af6b-e9524ba564b5"
      },
      "source": [
        "print(range(10))\n",
        "print(range(1,11))\n",
        "print(range(1,11,2))"
      ],
      "execution_count": null,
      "outputs": [
        {
          "output_type": "stream",
          "name": "stdout",
          "text": [
            "range(0, 10)\n",
            "range(1, 11)\n",
            "range(1, 11, 2)\n"
          ]
        }
      ]
    },
    {
      "cell_type": "code",
      "source": [
        "print(range(7)) # Imprime la lista range con la secuencia aritmetica de 0 a 7\n",
        "print(range(3,7)) # Imprime la lista range con la secuencia aritmetica de 3 a 7\n",
        "print(range(3,21,7)) # Imprime la lista range con la secuencia aritmetica desde 3 incrementando en 7, y se detiene en 21"
      ],
      "metadata": {
        "colab": {
          "base_uri": "https://localhost:8080/"
        },
        "id": "FUawOpKXXCS6",
        "outputId": "7d84dd33-0f7f-46e8-ec81-ca1510a17abd"
      },
      "execution_count": 24,
      "outputs": [
        {
          "output_type": "stream",
          "name": "stdout",
          "text": [
            "range(0, 7)\n",
            "range(3, 7)\n",
            "range(3, 21, 7)\n"
          ]
        }
      ]
    },
    {
      "cell_type": "markdown",
      "metadata": {
        "id": "PD0cSgiwcQ4L"
      },
      "source": [
        "**len()** is another function used together with range() to create a for loop. This function returns the length of an object. The argument must be a sequence or a collection."
      ]
    },
    {
      "cell_type": "code",
      "metadata": {
        "colab": {
          "base_uri": "https://localhost:8080/"
        },
        "id": "Hg18c7v-O2PR",
        "outputId": "c96a69f4-c7d1-41bb-e266-c8cacb3913b3"
      },
      "source": [
        "tickers = ['AAPL','GOOG','IBM','FB','F','V', 'G', 'GE']\n",
        "print('The length of tickers is {}'.format(len(tickers)))\n",
        "for i in range(len(tickers)):\n",
        "    print(tickers[i])"
      ],
      "execution_count": null,
      "outputs": [
        {
          "output_type": "stream",
          "name": "stdout",
          "text": [
            "The length of tickers is 8\n",
            "AAPL\n",
            "GOOG\n",
            "IBM\n",
            "FB\n",
            "F\n",
            "V\n",
            "G\n",
            "GE\n"
          ]
        }
      ]
    },
    {
      "cell_type": "code",
      "source": [
        "tickers = ['Hola','Mundo','Adios','Tierra','Agua','Aire', 'Fuego', 'Planeta']\n",
        "print('La longitud de tickers es {}'.format(len(tickers))) # Imprime, en la posicion de las llaves, la longitud de la lista tickers\n",
        "for i in range(len(tickers)): # La variable i va a iterar en el rango de la longitud de la lista tickers\n",
        "    print(tickers[i])"
      ],
      "metadata": {
        "colab": {
          "base_uri": "https://localhost:8080/"
        },
        "id": "OR7dYImvX5BW",
        "outputId": "b366b9a1-db65-4b17-bcb5-5bcf47816c9f"
      },
      "execution_count": 25,
      "outputs": [
        {
          "output_type": "stream",
          "name": "stdout",
          "text": [
            "La longitud de tickers es 8\n",
            "Hola\n",
            "Mundo\n",
            "Adios\n",
            "Tierra\n",
            "Agua\n",
            "Aire\n",
            "Fuego\n",
            "Planeta\n"
          ]
        }
      ]
    },
    {
      "cell_type": "markdown",
      "metadata": {
        "id": "OIQSuub1cWgi"
      },
      "source": [
        "Note: If you want to print only the tickers without those numbers, then simply write \"for ticker in tickers: print ticker\"\n",
        "\n",
        "**map(**) is a function that applies a specific function to every item of a sequence or collection, and returns a list of the results."
      ]
    },
    {
      "cell_type": "markdown",
      "metadata": {
        "id": "pqPuspeG5HAi"
      },
      "source": [
        "Because list at the moment is [1,2,3,4,5] and overwriting list() from builtins we del list"
      ]
    },
    {
      "cell_type": "code",
      "metadata": {
        "colab": {
          "base_uri": "https://localhost:8080/"
        },
        "id": "caV9c-qk4_eZ",
        "outputId": "2d9cb757-2fd5-44e0-f801-e0f6c001e6ee"
      },
      "source": [
        "print(list)\n",
        "del list\n",
        "list"
      ],
      "execution_count": null,
      "outputs": [
        {
          "output_type": "stream",
          "name": "stdout",
          "text": [
            "[1, 2, 3, 4, 5]\n"
          ]
        },
        {
          "output_type": "execute_result",
          "data": {
            "text/plain": [
              "list"
            ]
          },
          "metadata": {},
          "execution_count": 46
        }
      ]
    },
    {
      "cell_type": "code",
      "source": [
        "print(list)\n",
        "del list # La sentencia del elimina los elementos de la lista\n",
        "list"
      ],
      "metadata": {
        "colab": {
          "base_uri": "https://localhost:8080/"
        },
        "id": "-QURMereYZ3c",
        "outputId": "2df21397-1dd0-402e-ddc7-1469feb438bc"
      },
      "execution_count": 36,
      "outputs": [
        {
          "output_type": "stream",
          "name": "stdout",
          "text": [
            "[6, 7, 8, 9, 10]\n"
          ]
        },
        {
          "output_type": "execute_result",
          "data": {
            "text/plain": [
              "list"
            ]
          },
          "metadata": {},
          "execution_count": 36
        }
      ]
    },
    {
      "cell_type": "code",
      "metadata": {
        "colab": {
          "base_uri": "https://localhost:8080/"
        },
        "id": "lJBs5ECT4mSq",
        "outputId": "d6fde10d-09a7-434e-b516-8431b48918fe"
      },
      "source": [
        "tickers = ['AAPL','GOOG','IBM','FB','F','V', 'G', 'GE']\n",
        "list(map(len,tickers))"
      ],
      "execution_count": null,
      "outputs": [
        {
          "output_type": "execute_result",
          "data": {
            "text/plain": [
              "[4, 4, 3, 2, 1, 1, 1, 2]"
            ]
          },
          "metadata": {},
          "execution_count": 47
        }
      ]
    },
    {
      "cell_type": "code",
      "source": [
        "tickers = ['Hola','Mundo','Adios','Tierra','Agua','Aire', 'Fuego', 'Planeta']\n",
        "list(map(len,tickers)) # Asigna a la lista la longitud de cada elemento de la lista tickers"
      ],
      "metadata": {
        "colab": {
          "base_uri": "https://localhost:8080/"
        },
        "id": "-6y4kx6-ZWdl",
        "outputId": "91b0d9cc-70cf-44aa-af9b-4f513625a21c"
      },
      "execution_count": 38,
      "outputs": [
        {
          "output_type": "execute_result",
          "data": {
            "text/plain": [
              "[4, 5, 5, 6, 4, 4, 5, 7]"
            ]
          },
          "metadata": {},
          "execution_count": 38
        }
      ]
    },
    {
      "cell_type": "code",
      "metadata": {
        "colab": {
          "base_uri": "https://localhost:8080/"
        },
        "id": "78DyKVOyO2PR",
        "outputId": "218987fd-310f-46fd-efe4-6a9715939475"
      },
      "source": [
        "tickers = ['AAPL','GOOG','IBM','FB','F','V', 'G', 'GE']\n",
        "print(list(map(len,tickers)))"
      ],
      "execution_count": null,
      "outputs": [
        {
          "output_type": "stream",
          "name": "stdout",
          "text": [
            "[4, 4, 3, 2, 1, 1, 1, 2]\n"
          ]
        }
      ]
    },
    {
      "cell_type": "code",
      "source": [
        "tickers = ['Hola','Mundo','Adios','Tierra','Agua','Aire', 'Fuego', 'Planeta']\n",
        "print(list(map(len,tickers))) # Imprime la lista que contiene la longitud de cada elemento de la lista tickers"
      ],
      "metadata": {
        "colab": {
          "base_uri": "https://localhost:8080/"
        },
        "id": "PYVo07SJZnqR",
        "outputId": "857f50ce-49dc-4b53-ade6-85b1bc4e7691"
      },
      "execution_count": 40,
      "outputs": [
        {
          "output_type": "stream",
          "name": "stdout",
          "text": [
            "[4, 5, 5, 6, 4, 4, 5, 7]\n"
          ]
        }
      ]
    },
    {
      "cell_type": "markdown",
      "metadata": {
        "id": "mvr06UM7ca7b"
      },
      "source": [
        "The **lambda operator** is a way to create small anonymous functions. These functions are just needed where they have been created. For example:"
      ]
    },
    {
      "cell_type": "code",
      "metadata": {
        "colab": {
          "base_uri": "https://localhost:8080/"
        },
        "id": "pAEHADYXO2PR",
        "outputId": "945610e9-76a7-4671-f760-4013ac4aa143"
      },
      "source": [
        "list(map(lambda x: x**2, range(10)))"
      ],
      "execution_count": null,
      "outputs": [
        {
          "output_type": "execute_result",
          "data": {
            "text/plain": [
              "[0, 1, 4, 9, 16, 25, 36, 49, 64, 81]"
            ]
          },
          "metadata": {},
          "execution_count": 49
        }
      ]
    },
    {
      "cell_type": "code",
      "source": [
        "list(map(lambda x: x**3, range(7))) # Asigna a la lista el resultado de la variable x al cubo, en un rango de 0 a 7, sin incluir el ultimo numero"
      ],
      "metadata": {
        "colab": {
          "base_uri": "https://localhost:8080/"
        },
        "id": "M6MCLnp2Z0M5",
        "outputId": "8c8dde01-6af4-49f0-d641-d6754ee0bd57"
      },
      "execution_count": 42,
      "outputs": [
        {
          "output_type": "execute_result",
          "data": {
            "text/plain": [
              "[0, 1, 8, 27, 64, 125, 216]"
            ]
          },
          "metadata": {},
          "execution_count": 42
        }
      ]
    },
    {
      "cell_type": "markdown",
      "metadata": {
        "id": "Mgixpxomcj3T"
      },
      "source": [
        "map() can be applied to more than one list. The lists have to have the same length."
      ]
    },
    {
      "cell_type": "code",
      "metadata": {
        "colab": {
          "base_uri": "https://localhost:8080/"
        },
        "id": "HtckhAaJO2PS",
        "outputId": "8b24472e-2eef-4a71-c36c-b872f8e128db"
      },
      "source": [
        "list(map(lambda x, y: x+y, [1,2,3,4,5],[5,4,3,2,1]))"
      ],
      "execution_count": null,
      "outputs": [
        {
          "output_type": "execute_result",
          "data": {
            "text/plain": [
              "[6, 6, 6, 6, 6]"
            ]
          },
          "metadata": {},
          "execution_count": 50
        }
      ]
    },
    {
      "cell_type": "code",
      "source": [
        "list(map(lambda x, y: x+y, [1,2,3,4,5],[6,7,8,9,10])) # Asigna a la lista el resultado de la suma entre los elementos de dos listas"
      ],
      "metadata": {
        "colab": {
          "base_uri": "https://localhost:8080/"
        },
        "id": "lXj6xceGaSrM",
        "outputId": "3d679243-c888-4148-f7d2-bc3d218a965d"
      },
      "execution_count": 43,
      "outputs": [
        {
          "output_type": "execute_result",
          "data": {
            "text/plain": [
              "[7, 9, 11, 13, 15]"
            ]
          },
          "metadata": {},
          "execution_count": 43
        }
      ]
    },
    {
      "cell_type": "markdown",
      "metadata": {
        "id": "ZDnMTH-KcklT"
      },
      "source": [
        "**sorted()** takes a list or set and returns a new sorted list"
      ]
    },
    {
      "cell_type": "code",
      "metadata": {
        "colab": {
          "base_uri": "https://localhost:8080/"
        },
        "id": "P0sHUMFWO2PS",
        "outputId": "ff293907-8b01-47e8-b872-f362d3a63832"
      },
      "source": [
        "sorted([5,2,3,4,1])"
      ],
      "execution_count": null,
      "outputs": [
        {
          "output_type": "execute_result",
          "data": {
            "text/plain": [
              "[1, 2, 3, 4, 5]"
            ]
          },
          "metadata": {},
          "execution_count": 51
        }
      ]
    },
    {
      "cell_type": "code",
      "source": [
        "sorted([7,1,4,5,2]) # La funcion sorted ordena una lista o set"
      ],
      "metadata": {
        "colab": {
          "base_uri": "https://localhost:8080/"
        },
        "id": "DP88Fctnaecs",
        "outputId": "4b57d6a5-8e44-4658-f448-4bd4732ce4b5"
      },
      "execution_count": 45,
      "outputs": [
        {
          "output_type": "execute_result",
          "data": {
            "text/plain": [
              "[1, 2, 4, 5, 7]"
            ]
          },
          "metadata": {},
          "execution_count": 45
        }
      ]
    },
    {
      "cell_type": "markdown",
      "metadata": {
        "id": "-N5_EDOFcnsc"
      },
      "source": [
        "We can add a \"key\" parameter to specify a function to be called on each list element prior to making comparisons. For example:"
      ]
    },
    {
      "cell_type": "code",
      "metadata": {
        "colab": {
          "base_uri": "https://localhost:8080/"
        },
        "id": "0i3peZ0bO2PS",
        "outputId": "abb2ae1e-0b2d-4623-8d4f-c66d62985249"
      },
      "source": [
        "price_list = [('AAPL',144.09),('GOOG',911.71),('MSFT',69),('FB',150),('WMT',75.32)]\n",
        "sorted(price_list, key = lambda x: x[1])"
      ],
      "execution_count": null,
      "outputs": [
        {
          "output_type": "execute_result",
          "data": {
            "text/plain": [
              "[('MSFT', 69), ('WMT', 75.32), ('AAPL', 144.09), ('FB', 150), ('GOOG', 911.71)]"
            ]
          },
          "metadata": {},
          "execution_count": 52
        }
      ]
    },
    {
      "cell_type": "code",
      "source": [
        "price_list = [('Hola',21.3),('Mundo',9.4),('Adios',20.01),('Tierra',13),('Aire',71.23)]\n",
        "sorted(price_list, key = lambda x: x[1]) # Se ordena la lista price_list de acuerdo al valor de la posicion 1, en cada elemento"
      ],
      "metadata": {
        "colab": {
          "base_uri": "https://localhost:8080/"
        },
        "id": "REQbHiYCaqtx",
        "outputId": "3413a547-0004-4d3c-d54c-04b21bbadc1c"
      },
      "execution_count": 47,
      "outputs": [
        {
          "output_type": "execute_result",
          "data": {
            "text/plain": [
              "[('Mundo', 9.4),\n",
              " ('Tierra', 13),\n",
              " ('Adios', 20.01),\n",
              " ('Hola', 21.3),\n",
              " ('Aire', 71.23)]"
            ]
          },
          "metadata": {},
          "execution_count": 47
        }
      ]
    },
    {
      "cell_type": "markdown",
      "metadata": {
        "id": "yun2zptKcxe_"
      },
      "source": [
        "By default the values are sorted by ascending order. We can change it to descending by adding an optional parameter \"reverse'."
      ]
    },
    {
      "cell_type": "code",
      "metadata": {
        "colab": {
          "base_uri": "https://localhost:8080/"
        },
        "id": "dEZqdl94O2PT",
        "outputId": "7a707211-8b7e-49ea-cf7e-8d7c87e53778"
      },
      "source": [
        "price_list = [('AAPL',144.09),('GOOG',911.71),('MSFT',69),('FB',150),('WMT',75.32)]\n",
        "sorted(price_list, key = lambda x: x[1],reverse = True)"
      ],
      "execution_count": null,
      "outputs": [
        {
          "output_type": "execute_result",
          "data": {
            "text/plain": [
              "[('GOOG', 911.71), ('FB', 150), ('AAPL', 144.09), ('WMT', 75.32), ('MSFT', 69)]"
            ]
          },
          "metadata": {},
          "execution_count": 53
        }
      ]
    },
    {
      "cell_type": "code",
      "source": [
        "price_list = [('Hola',21.3),('Mundo',9.4),('Adios',20.01),('Tierra',13),('Aire',71.23)]\n",
        "sorted(price_list, key = lambda x: x[1],reverse = True)  # Se ordena la lista price_list de acuerdo al valor de la posicion 1, en cada elemento. Y, luego, se reflexiona (inversa)"
      ],
      "metadata": {
        "colab": {
          "base_uri": "https://localhost:8080/"
        },
        "id": "cL7H3JlwbJzS",
        "outputId": "963697da-2285-42a0-87ea-20c60920476e"
      },
      "execution_count": 49,
      "outputs": [
        {
          "output_type": "execute_result",
          "data": {
            "text/plain": [
              "[('Aire', 71.23),\n",
              " ('Hola', 21.3),\n",
              " ('Adios', 20.01),\n",
              " ('Tierra', 13),\n",
              " ('Mundo', 9.4)]"
            ]
          },
          "metadata": {},
          "execution_count": 49
        }
      ]
    },
    {
      "cell_type": "markdown",
      "metadata": {
        "id": "OA2wYAa0c6Dn"
      },
      "source": [
        "Lists also have a function list.sort(). This function takes the same \"key\" and \"reverse\" arguments as sorted(), but it doesn't return a new list."
      ]
    },
    {
      "cell_type": "code",
      "metadata": {
        "colab": {
          "base_uri": "https://localhost:8080/"
        },
        "id": "pG9VQCLnO2PT",
        "outputId": "bf1b0694-5364-4e2f-f032-21ed620aab77"
      },
      "source": [
        "price_list = [('AAPL',144.09),('GOOG',911.71),('MSFT',69),('FB',150),('WMT',75.32)]\n",
        "price_list.sort(key = lambda x: x[1])\n",
        "print(price_list)"
      ],
      "execution_count": null,
      "outputs": [
        {
          "output_type": "stream",
          "name": "stdout",
          "text": [
            "[('MSFT', 69), ('WMT', 75.32), ('AAPL', 144.09), ('FB', 150), ('GOOG', 911.71)]\n"
          ]
        }
      ]
    },
    {
      "cell_type": "code",
      "source": [
        "price_list = [('Hola',21.3),('Mundo',9.4),('Adios',20.01),('Tierra',13),('Aire',71.23)]\n",
        "price_list.sort(key = lambda x: x[1]) # Se ordena la lista price_list, con el metodo sort, de acuerdo al valor de la posicion 1, en cada elemento\n",
        "print(price_list)"
      ],
      "metadata": {
        "colab": {
          "base_uri": "https://localhost:8080/"
        },
        "id": "a0qlTNqtbgec",
        "outputId": "dadcd88c-4c07-4f7a-f6d4-3f71d432fe1d"
      },
      "execution_count": 51,
      "outputs": [
        {
          "output_type": "stream",
          "name": "stdout",
          "text": [
            "[('Mundo', 9.4), ('Tierra', 13), ('Adios', 20.01), ('Hola', 21.3), ('Aire', 71.23)]\n"
          ]
        }
      ]
    },
    {
      "cell_type": "markdown",
      "metadata": {
        "id": "mxljL1W1c_c5"
      },
      "source": [
        "# Object-Oriented Programming\n",
        "Python is an object-oriented programming language. It's important to understand the concept of \"objects\" because almost every kind of data from QuantConnect API is an object.\n",
        "\n",
        "## Class\n",
        "A class is a type of data, just like a string, float, or list. When we create an object of that data type, we call it an instance of a class.\n",
        "\n",
        "In Python, everything is an object - everything is an instance of some class. The data stored inside an object are called attributes, and the functions which are associated with the object are called methods.\n",
        "\n",
        "For example, as mentioned above, a list is an object of the \"list\" class, and it has a method list.sort().\n",
        "\n",
        "We can create our own objects by defining a class. We would do this when it's helpful to group certain functions together. For example, we define a class named \"Stock\" here:"
      ]
    },
    {
      "cell_type": "code",
      "metadata": {
        "id": "zC4Y4PgDO2PT"
      },
      "source": [
        "class stock:\n",
        "    def __init__(self, ticker, open, close, volume):\n",
        "        self.ticker = ticker\n",
        "        self.open = open\n",
        "        self.close = close\n",
        "        self.volume = volume\n",
        "        self.rate_return = float(close)/open - 1\n",
        " \n",
        "    def update(self, open, close):\n",
        "        self.open = open\n",
        "        self.close = close\n",
        "        self.rate_return = float(self.close)/self.open - 1\n",
        " \n",
        "    def print_return(self):\n",
        "        print(self.rate_return)"
      ],
      "execution_count": 53,
      "outputs": []
    },
    {
      "cell_type": "markdown",
      "metadata": {
        "id": "rV06INT5dETi"
      },
      "source": [
        "The \"Stock\" class has attributes \"ticker\", \"open\", \"close\", \"volume\" and \"rate_return\". Inside the class body, the first method is called __init__, which is a special method. When we create a new instance of the class, the __init__ method is immediately executed with all the parameters that we pass to the \"Stock\" object. The purpose of this method is to set up a new \"Stock\" object using data we have provided.\n",
        "\n",
        "Here we create two Stock objects named \"apple\" and \"google\"."
      ]
    },
    {
      "cell_type": "code",
      "metadata": {
        "id": "8tIpNk93O2PU"
      },
      "source": [
        "apple = stock('AAPL', 143.69, 144.09, 20109375)\n",
        "google = stock('GOOG', 898.7, 911.7, 1561616)"
      ],
      "execution_count": null,
      "outputs": []
    },
    {
      "cell_type": "code",
      "source": [
        "hola = stock('Adios', 21.3, 7.09, 20221203)\n",
        "mundo = stock('Tierra', 9.04, 20.01, 21042100)"
      ],
      "metadata": {
        "id": "-8jIZQ7Xb2T5"
      },
      "execution_count": 57,
      "outputs": []
    },
    {
      "cell_type": "markdown",
      "metadata": {
        "id": "VxmELNiHdPKS"
      },
      "source": [
        "Stock objects also have two other methods: update() and print_return(). We can access the attribues of a Stock object and call its methods:"
      ]
    },
    {
      "cell_type": "code",
      "metadata": {
        "colab": {
          "base_uri": "https://localhost:8080/"
        },
        "id": "SsiIkmekO2PU",
        "outputId": "c525fccb-c3b3-4a9f-8fe8-38c620cca9a1"
      },
      "source": [
        "apple.ticker\n",
        "google.print_return()\n",
        "google.update(912.8,913.4)\n",
        "google.print_return()"
      ],
      "execution_count": null,
      "outputs": [
        {
          "output_type": "stream",
          "name": "stdout",
          "text": [
            "0.014465338822744034\n",
            "0.0006573181419806673\n"
          ]
        }
      ]
    },
    {
      "cell_type": "code",
      "source": [
        "hola.ticker # Obtiene el valor de la variable ticker del objeto hola\n",
        "mundo.print_return() # Ejecuta el metodo print_return del objeto mundo\n",
        "mundo.update(21.04,22.3) # Ejecuta el metodo update del objeto mundo\n",
        "mundo.print_return() # Ejecuta el metodo print_return del objeto mundo"
      ],
      "metadata": {
        "colab": {
          "base_uri": "https://localhost:8080/"
        },
        "id": "H7WyRKencSn0",
        "outputId": "373b359b-4678-4516-8995-f673eb2d5794"
      },
      "execution_count": 58,
      "outputs": [
        {
          "output_type": "stream",
          "name": "stdout",
          "text": [
            "1.2134955752212395\n",
            "0.05988593155893551\n"
          ]
        }
      ]
    },
    {
      "cell_type": "markdown",
      "metadata": {
        "id": "Q8fl7keNdVKF"
      },
      "source": [
        "By calling the update() function, we updated the open and close prices of a stock. Please note that when we use the attributes or call the methods **inside a class**, we need to specify them as self.attribute or self.method(), otherwise Python will deem them as global variables and thus raise an error.\n",
        "\n",
        "We can add an attribute to an object anywhere:"
      ]
    },
    {
      "cell_type": "code",
      "metadata": {
        "colab": {
          "base_uri": "https://localhost:8080/",
          "height": 35
        },
        "id": "rO4OLnqOO2PU",
        "outputId": "37a33902-755c-4c5f-be78-c8c136ece3aa"
      },
      "source": [
        "apple.ceo = 'Tim Cook'\n",
        "apple.ceo"
      ],
      "execution_count": null,
      "outputs": [
        {
          "output_type": "execute_result",
          "data": {
            "application/vnd.google.colaboratory.intrinsic+json": {
              "type": "string"
            },
            "text/plain": [
              "'Tim Cook'"
            ]
          },
          "metadata": {},
          "execution_count": 58
        }
      ]
    },
    {
      "cell_type": "code",
      "source": [
        "hola.ceo = 'Jose Suarez' # Asigna a la variable ceo del objeto hola, el valor 'Jose Suarez'\n",
        "hola.ceo # Obtiene el valor de la variable ceo del objeto hola"
      ],
      "metadata": {
        "colab": {
          "base_uri": "https://localhost:8080/",
          "height": 35
        },
        "id": "a9HfhKXkeG3l",
        "outputId": "0ffefecc-3c5e-49df-bbbb-7daf7d5dcdb3"
      },
      "execution_count": 60,
      "outputs": [
        {
          "output_type": "execute_result",
          "data": {
            "text/plain": [
              "'Jose Suarez'"
            ],
            "application/vnd.google.colaboratory.intrinsic+json": {
              "type": "string"
            }
          },
          "metadata": {},
          "execution_count": 60
        }
      ]
    },
    {
      "cell_type": "markdown",
      "metadata": {
        "id": "WyfnFgVidh4J"
      },
      "source": [
        "We can check what names (i.e. attributes and methods) are defined on an object using the dir() function:"
      ]
    },
    {
      "cell_type": "code",
      "metadata": {
        "colab": {
          "base_uri": "https://localhost:8080/"
        },
        "id": "pPoz0LA8O2PU",
        "outputId": "4dcea2e2-771b-4d71-c743-5cb63c81f277"
      },
      "source": [
        "dir(apple)"
      ],
      "execution_count": null,
      "outputs": [
        {
          "output_type": "execute_result",
          "data": {
            "text/plain": [
              "['__class__',\n",
              " '__delattr__',\n",
              " '__dict__',\n",
              " '__dir__',\n",
              " '__doc__',\n",
              " '__eq__',\n",
              " '__format__',\n",
              " '__ge__',\n",
              " '__getattribute__',\n",
              " '__gt__',\n",
              " '__hash__',\n",
              " '__init__',\n",
              " '__init_subclass__',\n",
              " '__le__',\n",
              " '__lt__',\n",
              " '__module__',\n",
              " '__ne__',\n",
              " '__new__',\n",
              " '__reduce__',\n",
              " '__reduce_ex__',\n",
              " '__repr__',\n",
              " '__setattr__',\n",
              " '__sizeof__',\n",
              " '__str__',\n",
              " '__subclasshook__',\n",
              " '__weakref__',\n",
              " 'ceo',\n",
              " 'close',\n",
              " 'open',\n",
              " 'print_return',\n",
              " 'rate_return',\n",
              " 'ticker',\n",
              " 'update',\n",
              " 'volume']"
            ]
          },
          "metadata": {},
          "execution_count": 59
        }
      ]
    },
    {
      "cell_type": "code",
      "source": [
        "dir(hola) # Obtiene los atributos y metodos definidos en el objeto hola"
      ],
      "metadata": {
        "colab": {
          "base_uri": "https://localhost:8080/"
        },
        "id": "IpTDf4iAeWMh",
        "outputId": "95da8b91-c2e8-4e1b-ed5d-110ee7371b4d"
      },
      "execution_count": 64,
      "outputs": [
        {
          "output_type": "execute_result",
          "data": {
            "text/plain": [
              "['__class__',\n",
              " '__delattr__',\n",
              " '__dict__',\n",
              " '__dir__',\n",
              " '__doc__',\n",
              " '__eq__',\n",
              " '__format__',\n",
              " '__ge__',\n",
              " '__getattribute__',\n",
              " '__gt__',\n",
              " '__hash__',\n",
              " '__init__',\n",
              " '__init_subclass__',\n",
              " '__le__',\n",
              " '__lt__',\n",
              " '__module__',\n",
              " '__ne__',\n",
              " '__new__',\n",
              " '__reduce__',\n",
              " '__reduce_ex__',\n",
              " '__repr__',\n",
              " '__setattr__',\n",
              " '__sizeof__',\n",
              " '__str__',\n",
              " '__subclasshook__',\n",
              " '__weakref__',\n",
              " 'ceo',\n",
              " 'close',\n",
              " 'open',\n",
              " 'print_return',\n",
              " 'rate_return',\n",
              " 'ticker',\n",
              " 'update',\n",
              " 'volume']"
            ]
          },
          "metadata": {},
          "execution_count": 64
        }
      ]
    },
    {
      "cell_type": "markdown",
      "metadata": {
        "id": "Qpemj1UZd2aa"
      },
      "source": [
        "## Inheritance\n",
        "Inheritance is a way of arranging classes in a hierarchy from the most general to the most specific. A \"child\" class is a more specific type of a \"parent\" class because a child class will inherit all the attribues and methods of its parent. For example, we define a class named \"Child\" which inherits \"Stock\":"
      ]
    },
    {
      "cell_type": "code",
      "metadata": {
        "id": "UELXnxomO2PV"
      },
      "source": [
        "class child(stock):\n",
        "    def __init__(self,name):\n",
        "        self.name = name"
      ],
      "execution_count": 66,
      "outputs": []
    },
    {
      "cell_type": "code",
      "metadata": {
        "colab": {
          "base_uri": "https://localhost:8080/"
        },
        "id": "ffS2THZyO2PV",
        "outputId": "0b5d99cf-477c-48a1-8f5c-4e523612a028"
      },
      "source": [
        "aa = child('aa')\n",
        "print(aa.name)\n",
        "aa.update(100,102)\n",
        "print(aa.open)\n",
        "print(aa.close)\n",
        "print(aa.print_return())"
      ],
      "execution_count": null,
      "outputs": [
        {
          "output_type": "stream",
          "name": "stdout",
          "text": [
            "aa\n",
            "100\n",
            "102\n",
            "0.020000000000000018\n",
            "None\n"
          ]
        }
      ]
    },
    {
      "cell_type": "code",
      "source": [
        "aa = child('bb') # Crea un objeto de la clase child, la cual hereda de la clase stock\n",
        "print(aa.name) # Imprime el valor de la variable name del objeto aa\n",
        "aa.update(12,13) # Ejecuta el metodo update del objeto aa\n",
        "print(aa.open) # Imprime el valor de la variable open del objeto aa\n",
        "print(aa.close) # Imprime el valor de la variable close del objeto aa\n",
        "print(aa.print_return()) # Imprime el retorno de la funcion print_return del objeto aa"
      ],
      "metadata": {
        "colab": {
          "base_uri": "https://localhost:8080/"
        },
        "id": "X69Boc9zehjR",
        "outputId": "b7999d14-58f2-449d-9a11-7f8f18af9d21"
      },
      "execution_count": 68,
      "outputs": [
        {
          "output_type": "stream",
          "name": "stdout",
          "text": [
            "bb\n",
            "12\n",
            "13\n",
            "0.08333333333333326\n",
            "None\n"
          ]
        }
      ]
    },
    {
      "cell_type": "markdown",
      "metadata": {
        "id": "pdIEjUv2eJqL"
      },
      "source": [
        "As seen above, the new class Child has inherited the methods from Stock.\n",
        "\n",
        "#Summary\n",
        "\n",
        "In this chapter we have introduced functions and classes. When we write a QuantConnect algorithm, we would define our algorithm as a class (QCAlgorithm). This means our algorithm inherited the QC API methods from QCAlgorithm class.\n",
        "\n",
        "In the next chapter, we will introduce NumPy and Pandas, which enable us to conduct scientific calculations in Python."
      ]
    },
    {
      "cell_type": "markdown",
      "metadata": {
        "id": "dQbENH6mexTd"
      },
      "source": [
        "<div align=\"center\">\n",
        "<img style=\"display: block; margin: auto;\" alt=\"photo\" src=\"https://cdn.quantconnect.com/web/i/icon.png\">\n",
        "\n",
        "Quantconnect\n",
        "\n",
        "Introduction to Financial Python\n",
        "</div>\n",
        "\n",
        "# 04 NumPy and Basic Pandas\n",
        "\n",
        "# Introduction\n",
        "\n",
        "Now that we have introduced the fundamentals of Python, it's time to learn about NumPy and Pandas.\n",
        "\n",
        "# NumPy\n",
        "NumPy is the core library for scientific computing in Python. It provides a high-performance multidimensional array object, and tools for working with these arrays. It also has strong integration with Pandas, which is another powerful tool for manipulating financial data.\n",
        "\n",
        "Python packages like NumPy and Pandas contain classes and methods which we can use by importing the package:"
      ]
    },
    {
      "cell_type": "code",
      "metadata": {
        "id": "aIESp-rdO58h"
      },
      "source": [
        "import numpy as np"
      ],
      "execution_count": 70,
      "outputs": []
    },
    {
      "cell_type": "markdown",
      "metadata": {
        "id": "GScHHJ5ke7ea"
      },
      "source": [
        "## Basic NumPy Arrays\n",
        "A NumPy array is a grid of values, all of the same type, and is indexed by a tuple of nonnegative integers. Here we make an array by passing a list of Apple stock prices:"
      ]
    },
    {
      "cell_type": "code",
      "metadata": {
        "colab": {
          "base_uri": "https://localhost:8080/"
        },
        "id": "lZI1wkwDO58i",
        "outputId": "7792634b-b0f5-47d4-f998-be207f9fb485"
      },
      "source": [
        "price_list = [143.73, 145.83, 143.68, 144.02, 143.5, 142.62]\n",
        "price_array = np.array(price_list)\n",
        "print(price_array, type(price_array))"
      ],
      "execution_count": null,
      "outputs": [
        {
          "output_type": "stream",
          "name": "stdout",
          "text": [
            "[143.73 145.83 143.68 144.02 143.5  142.62] <class 'numpy.ndarray'>\n"
          ]
        }
      ]
    },
    {
      "cell_type": "code",
      "source": [
        "price_list = [3.21, 9.04, 20.01, 12.3, 6.37, 11.34]\n",
        "price_array = np.array(price_list) # Asigna, al arreglo price_array, los elementos de la lista price_list\n",
        "print(price_array, type(price_array)) # Imprime los elementos del arreglo price_array y el tipo del objeto price_array"
      ],
      "metadata": {
        "colab": {
          "base_uri": "https://localhost:8080/"
        },
        "id": "mLaZEE_rfbNo",
        "outputId": "025d34c1-0670-4923-f8eb-c93a43a113dc"
      },
      "execution_count": 71,
      "outputs": [
        {
          "output_type": "stream",
          "name": "stdout",
          "text": [
            "[ 3.21  9.04 20.01 12.3   6.37 11.34] <class 'numpy.ndarray'>\n"
          ]
        }
      ]
    },
    {
      "cell_type": "markdown",
      "metadata": {
        "id": "-5Yj6u9ifB-t"
      },
      "source": [
        "Notice that the type of array is \"ndarray\" which is a multi-dimensional array. If we pass np.array() a list of lists, it will create a 2-dimensional array."
      ]
    },
    {
      "cell_type": "code",
      "metadata": {
        "colab": {
          "base_uri": "https://localhost:8080/"
        },
        "id": "obvIZrK-O58j",
        "outputId": "7bf6293a-350d-4167-a431-2fabb6353a74"
      },
      "source": [
        "Ar = np.array([[1,3],[2,4]])\n",
        "print(Ar, type(Ar))"
      ],
      "execution_count": null,
      "outputs": [
        {
          "output_type": "stream",
          "name": "stdout",
          "text": [
            "[[1 3]\n",
            " [2 4]] <class 'numpy.ndarray'>\n"
          ]
        }
      ]
    },
    {
      "cell_type": "code",
      "source": [
        "Ar = np.array([[2,4],[1,3],[5,7]]) # Asigna, al arreglo Ar, un arreglo tridimensional\n",
        "print(Ar, type(Ar)) # Imprime los elementos del arreglo Ar y el tipo del objeto Ar"
      ],
      "metadata": {
        "colab": {
          "base_uri": "https://localhost:8080/"
        },
        "id": "_b1HR2rVhELX",
        "outputId": "cd29771f-d0b5-43a0-aff5-51879d2f3761"
      },
      "execution_count": 74,
      "outputs": [
        {
          "output_type": "stream",
          "name": "stdout",
          "text": [
            "[[2 4]\n",
            " [1 3]\n",
            " [5 7]] <class 'numpy.ndarray'>\n"
          ]
        }
      ]
    },
    {
      "cell_type": "markdown",
      "metadata": {
        "id": "uDdfLD9HfHkl"
      },
      "source": [
        "We get the dimensions of an ndarray using the .shape attribute:"
      ]
    },
    {
      "cell_type": "code",
      "metadata": {
        "colab": {
          "base_uri": "https://localhost:8080/"
        },
        "id": "G2txdn73O58j",
        "outputId": "b6539a1f-7794-47bc-fd6f-744683e69ab7"
      },
      "source": [
        "print(Ar.shape)"
      ],
      "execution_count": null,
      "outputs": [
        {
          "output_type": "stream",
          "name": "stdout",
          "text": [
            "(2, 2)\n"
          ]
        }
      ]
    },
    {
      "cell_type": "code",
      "source": [
        "print(Ar.shape) # Imprime, con el atributo shape, las dimensaiones del arreglo Ar"
      ],
      "metadata": {
        "colab": {
          "base_uri": "https://localhost:8080/"
        },
        "id": "Ig8Nz5euhVhW",
        "outputId": "638264cb-5ec3-403d-ab38-4f4d9def42a0"
      },
      "execution_count": 76,
      "outputs": [
        {
          "output_type": "stream",
          "name": "stdout",
          "text": [
            "(3, 2)\n"
          ]
        }
      ]
    },
    {
      "cell_type": "markdown",
      "metadata": {
        "id": "87W5ueORfPEy"
      },
      "source": [
        "If we create an 2-dimensional array (i.e. matrix), each row can be accessed by index:"
      ]
    },
    {
      "cell_type": "code",
      "metadata": {
        "colab": {
          "base_uri": "https://localhost:8080/"
        },
        "id": "x_QV9aPbO58j",
        "outputId": "ceaeabd6-af8c-435b-f376-0f73fa6af72e"
      },
      "source": [
        "print(Ar[0])\n",
        "print(Ar[1])"
      ],
      "execution_count": null,
      "outputs": [
        {
          "output_type": "stream",
          "name": "stdout",
          "text": [
            "[1 3]\n",
            "[2 4]\n"
          ]
        }
      ]
    },
    {
      "cell_type": "code",
      "source": [
        "print(Ar[1]) # Imprime la fila en la posicion 1 del arreglo Ar\n",
        "print(Ar[2]) # Imprime la fila en la posicion 2 del arreglo Ar"
      ],
      "metadata": {
        "colab": {
          "base_uri": "https://localhost:8080/"
        },
        "id": "M5qKrwqAhxvU",
        "outputId": "de0d7f5c-c232-4762-c7ed-09d4946ef8a9"
      },
      "execution_count": 78,
      "outputs": [
        {
          "output_type": "stream",
          "name": "stdout",
          "text": [
            "[1 3]\n",
            "[5 7]\n"
          ]
        }
      ]
    },
    {
      "cell_type": "markdown",
      "metadata": {
        "id": "5Hke7Vt-fSGB"
      },
      "source": [
        "If we want to access the matrix by column instead:"
      ]
    },
    {
      "cell_type": "code",
      "metadata": {
        "colab": {
          "base_uri": "https://localhost:8080/"
        },
        "id": "gHVwbPfOO58j",
        "outputId": "fbc8f0ca-38bf-4f98-d85f-1e95b30bb6f3"
      },
      "source": [
        "print('the first column: ', Ar[:,0])\n",
        "print('the second column: ', Ar[:,1])"
      ],
      "execution_count": null,
      "outputs": [
        {
          "output_type": "stream",
          "name": "stdout",
          "text": [
            "the first column:  [1 2]\n",
            "the second column:  [3 4]\n"
          ]
        }
      ]
    },
    {
      "cell_type": "code",
      "source": [
        "print('La primera columna: ', Ar[:,0]) # Imprime la columna en la posicion 0 del arreglo Ar\n",
        "print('La segunda columna: ', Ar[:,1]) # Imprime la columna en la posicion 1 del arreglo Ar"
      ],
      "metadata": {
        "colab": {
          "base_uri": "https://localhost:8080/"
        },
        "id": "XzHCBzTZh96X",
        "outputId": "ab3d24ac-d186-4ba8-84ce-feec211ea153"
      },
      "execution_count": 82,
      "outputs": [
        {
          "output_type": "stream",
          "name": "stdout",
          "text": [
            "La primera columna:  [2 1 5]\n",
            "La segunda columna:  [4 3 7]\n"
          ]
        }
      ]
    },
    {
      "cell_type": "markdown",
      "metadata": {
        "id": "T61cD0HMfStB"
      },
      "source": [
        "## Array Functions\n",
        "Some functions built in NumPy that allow us to perform calculations on arrays. For example, we can apply the natural logarithm to each element of an array:"
      ]
    },
    {
      "cell_type": "code",
      "metadata": {
        "colab": {
          "base_uri": "https://localhost:8080/"
        },
        "id": "PKhwtJ7XO58k",
        "outputId": "5734372b-2ffa-44e4-8146-5906268cd6c8"
      },
      "source": [
        "print(np.log(price_array))"
      ],
      "execution_count": null,
      "outputs": [
        {
          "output_type": "stream",
          "name": "stdout",
          "text": [
            "[4.96793654 4.98244156 4.9675886  4.96995218 4.96633504 4.96018375]\n"
          ]
        }
      ]
    },
    {
      "cell_type": "code",
      "source": [
        "print(np.sqrt(price_array)) # Imprime la raiz de cada elemento del arreglo price_array"
      ],
      "metadata": {
        "colab": {
          "base_uri": "https://localhost:8080/"
        },
        "id": "2x-joXR6iS3N",
        "outputId": "fec1e4e2-9564-40b0-ae87-d3196d0d6e00"
      },
      "execution_count": 85,
      "outputs": [
        {
          "output_type": "stream",
          "name": "stdout",
          "text": [
            "[1.79164729 3.00665928 4.47325385 3.50713558 2.52388589 3.36749165]\n"
          ]
        }
      ]
    },
    {
      "cell_type": "markdown",
      "metadata": {
        "id": "uzjBRFBLfZ-D"
      },
      "source": [
        "Other functions return a single value:"
      ]
    },
    {
      "cell_type": "code",
      "metadata": {
        "colab": {
          "base_uri": "https://localhost:8080/"
        },
        "id": "nQuABZqUO58k",
        "outputId": "42151fdc-de6a-4a12-aebc-6689f288d9fa"
      },
      "source": [
        "print(np.mean(price_array))\n",
        "print(np.std(price_array))\n",
        "print(np.sum(price_array))\n",
        "print(np.max(price_array))"
      ],
      "execution_count": null,
      "outputs": [
        {
          "output_type": "stream",
          "name": "stdout",
          "text": [
            "143.89666666666668\n",
            "0.9673790478515796\n",
            "863.38\n",
            "145.83\n"
          ]
        }
      ]
    },
    {
      "cell_type": "code",
      "source": [
        "print(np.mean(price_array)) # Imprime la media del arreglo price_array\n",
        "print(np.var(price_array)) # Imprime la varianza del arreglo price_array\n",
        "print(np.sum(price_array)) # Imprime la suma del arreglo price_array\n",
        "print(np.min(price_array)) # Imprime el valor minimo del arreglo price_array"
      ],
      "metadata": {
        "colab": {
          "base_uri": "https://localhost:8080/"
        },
        "id": "NYGKsCYLjNwe",
        "outputId": "a7a179ec-4599-473b-c462-ec66826cd0f8"
      },
      "execution_count": 91,
      "outputs": [
        {
          "output_type": "stream",
          "name": "stdout",
          "text": [
            "10.378333333333332\n",
            "27.771580555555563\n",
            "62.269999999999996\n",
            "3.21\n"
          ]
        }
      ]
    },
    {
      "cell_type": "markdown",
      "metadata": {
        "id": "IRW95BsifgDB"
      },
      "source": [
        "The functions above return the mean, standard deviation, total and maximum value of an array.\n",
        "\n",
        "# Pandas\n",
        "Pandas is one of the most powerful tools for dealing with financial data. \n",
        "\n",
        "First we need to import Pandas:"
      ]
    },
    {
      "cell_type": "code",
      "metadata": {
        "id": "xIYH4oUfO58k"
      },
      "source": [
        "import pandas as pd"
      ],
      "execution_count": 92,
      "outputs": []
    },
    {
      "cell_type": "markdown",
      "metadata": {
        "id": "zOig5gORfnJU"
      },
      "source": [
        "## Series\n",
        "Series is a one-dimensional labeled array capable of holding any data type (integers, strings, float, Python object, etc.)\n",
        "\n",
        "We create a Series by calling pd.Series(data), where data can be a dictionary, an array or just a scalar value."
      ]
    },
    {
      "cell_type": "code",
      "metadata": {
        "colab": {
          "base_uri": "https://localhost:8080/"
        },
        "id": "JmzoNzrPO58k",
        "outputId": "b366da70-894e-4be5-fb47-9c8c6c09baae"
      },
      "source": [
        "price = [143.73, 145.83, 143.68, 144.02, 143.5, 142.62]\n",
        "s = pd.Series(price)\n",
        "s"
      ],
      "execution_count": null,
      "outputs": [
        {
          "output_type": "execute_result",
          "data": {
            "text/plain": [
              "0    143.73\n",
              "1    145.83\n",
              "2    143.68\n",
              "3    144.02\n",
              "4    143.50\n",
              "5    142.62\n",
              "dtype: float64"
            ]
          },
          "metadata": {},
          "execution_count": 71
        }
      ]
    },
    {
      "cell_type": "code",
      "source": [
        "price = [3.21, 9.04, 20.01, 12.3, 6.37, 11.34]\n",
        "s = pd.Series(price) # Asigna a la variable s, la serie de la lista price\n",
        "s # La variable s es de tipo punto flotante de 64 bits"
      ],
      "metadata": {
        "colab": {
          "base_uri": "https://localhost:8080/"
        },
        "id": "dpk3M3jakfDc",
        "outputId": "b300cd7e-d6d2-4c79-89cd-6d8d344f8834"
      },
      "execution_count": 96,
      "outputs": [
        {
          "output_type": "execute_result",
          "data": {
            "text/plain": [
              "0     3.21\n",
              "1     9.04\n",
              "2    20.01\n",
              "3    12.30\n",
              "4     6.37\n",
              "5    11.34\n",
              "dtype: float64"
            ]
          },
          "metadata": {},
          "execution_count": 96
        }
      ]
    },
    {
      "cell_type": "markdown",
      "metadata": {
        "id": "tP5iDnunfq46"
      },
      "source": [
        "We can customize the indices of a new Series:"
      ]
    },
    {
      "cell_type": "code",
      "metadata": {
        "colab": {
          "base_uri": "https://localhost:8080/"
        },
        "id": "eswQC3ZPO58l",
        "outputId": "6c6e3ff1-bc50-4ec9-8345-24f2af8feb18"
      },
      "source": [
        "s = pd.Series(price,index = ['a','b','c','d','e','f'])\n",
        "s"
      ],
      "execution_count": null,
      "outputs": [
        {
          "output_type": "execute_result",
          "data": {
            "text/plain": [
              "a    143.73\n",
              "b    145.83\n",
              "c    143.68\n",
              "d    144.02\n",
              "e    143.50\n",
              "f    142.62\n",
              "dtype: float64"
            ]
          },
          "metadata": {},
          "execution_count": 72
        }
      ]
    },
    {
      "cell_type": "code",
      "source": [
        "s = pd.Series(price,index = ['z','y','x','w','v','u']) # Asigna a la variable s, la serie de la lista price, con indices determinados\n",
        "s # La variable s es de tipo punto flotante de 64 bits"
      ],
      "metadata": {
        "colab": {
          "base_uri": "https://localhost:8080/"
        },
        "id": "ECPLGS32lFIc",
        "outputId": "ec869db6-71ca-4ffb-d106-57b9af70218b"
      },
      "execution_count": 98,
      "outputs": [
        {
          "output_type": "execute_result",
          "data": {
            "text/plain": [
              "z     3.21\n",
              "y     9.04\n",
              "x    20.01\n",
              "w    12.30\n",
              "v     6.37\n",
              "u    11.34\n",
              "dtype: float64"
            ]
          },
          "metadata": {},
          "execution_count": 98
        }
      ]
    },
    {
      "cell_type": "markdown",
      "metadata": {
        "id": "wdZrb8pEfuua"
      },
      "source": [
        "Or we can change the indices of an existing Series:"
      ]
    },
    {
      "cell_type": "code",
      "metadata": {
        "colab": {
          "base_uri": "https://localhost:8080/"
        },
        "id": "MwlRnPF6O58l",
        "outputId": "6f1d38f9-b562-40a7-8c69-cf7605ddf732"
      },
      "source": [
        "s.index = [6,5,4,3,2,1]\n",
        "s"
      ],
      "execution_count": null,
      "outputs": [
        {
          "output_type": "execute_result",
          "data": {
            "text/plain": [
              "6    143.73\n",
              "5    145.83\n",
              "4    143.68\n",
              "3    144.02\n",
              "2    143.50\n",
              "1    142.62\n",
              "dtype: float64"
            ]
          },
          "metadata": {},
          "execution_count": 73
        }
      ]
    },
    {
      "cell_type": "code",
      "source": [
        "s.index = [7,6,5,4,3,2] # Cambia los indices de la serie s\n",
        "s # La variable s es de tipo punto flotante de 64 bits"
      ],
      "metadata": {
        "colab": {
          "base_uri": "https://localhost:8080/"
        },
        "id": "N3XEqdUMlRc2",
        "outputId": "1b7a1037-2869-42b3-9223-9aac9466610d"
      },
      "execution_count": 100,
      "outputs": [
        {
          "output_type": "execute_result",
          "data": {
            "text/plain": [
              "7     3.21\n",
              "6     9.04\n",
              "5    20.01\n",
              "4    12.30\n",
              "3     6.37\n",
              "2    11.34\n",
              "dtype: float64"
            ]
          },
          "metadata": {},
          "execution_count": 100
        }
      ]
    },
    {
      "cell_type": "markdown",
      "metadata": {
        "id": "6cGNQZwLfxIz"
      },
      "source": [
        "Series is like a list since it can be sliced by index:"
      ]
    },
    {
      "cell_type": "code",
      "metadata": {
        "colab": {
          "base_uri": "https://localhost:8080/"
        },
        "id": "N9bBSg6cO58l",
        "outputId": "4fed1936-9b14-44ca-a4e8-6873d9b706d8"
      },
      "source": [
        "print(s[1:])\n",
        "print(s[:-2])"
      ],
      "execution_count": null,
      "outputs": [
        {
          "output_type": "stream",
          "name": "stdout",
          "text": [
            "5    145.83\n",
            "4    143.68\n",
            "3    144.02\n",
            "2    143.50\n",
            "1    142.62\n",
            "dtype: float64\n",
            "6    143.73\n",
            "5    145.83\n",
            "4    143.68\n",
            "3    144.02\n",
            "dtype: float64\n"
          ]
        }
      ]
    },
    {
      "cell_type": "code",
      "source": [
        "print(s[2:]) # Imprime la serie s desde la posicion 2\n",
        "print(s[:-1]) # Imprime la serie s inversamente desde la posicion 1 (derecha a izquierda)"
      ],
      "metadata": {
        "colab": {
          "base_uri": "https://localhost:8080/"
        },
        "id": "RBZjnztRmHHW",
        "outputId": "24231c46-16e3-4c1b-bd42-11acb8f5e55b"
      },
      "execution_count": 101,
      "outputs": [
        {
          "output_type": "stream",
          "name": "stdout",
          "text": [
            "5    20.01\n",
            "4    12.30\n",
            "3     6.37\n",
            "2    11.34\n",
            "dtype: float64\n",
            "7     3.21\n",
            "6     9.04\n",
            "5    20.01\n",
            "4    12.30\n",
            "3     6.37\n",
            "dtype: float64\n"
          ]
        }
      ]
    },
    {
      "cell_type": "markdown",
      "metadata": {
        "id": "5V25nViZfz3Z"
      },
      "source": [
        "Series is also like a dictionary whose values can be set or fetched by index label:"
      ]
    },
    {
      "cell_type": "code",
      "metadata": {
        "colab": {
          "base_uri": "https://localhost:8080/"
        },
        "id": "b3Y0kKGYO58l",
        "outputId": "beb4aa36-3e49-4d1a-cf11-5309214e9e60"
      },
      "source": [
        "print(s[4])\n",
        "s[4] = 0\n",
        "print(s)"
      ],
      "execution_count": null,
      "outputs": [
        {
          "output_type": "stream",
          "name": "stdout",
          "text": [
            "143.68\n",
            "6    143.73\n",
            "5    145.83\n",
            "4      0.00\n",
            "3    144.02\n",
            "2    143.50\n",
            "1    142.62\n",
            "dtype: float64\n"
          ]
        }
      ]
    },
    {
      "cell_type": "code",
      "source": [
        "print(s[5]) # Imprime el valor en la llave 5 de la serie s\n",
        "s[5] = 0 # Asigna el valor 0 a la llave 5 de la serie s\n",
        "print(s)"
      ],
      "metadata": {
        "colab": {
          "base_uri": "https://localhost:8080/"
        },
        "id": "cafFL-ABm97Q",
        "outputId": "0be3bc5c-0153-4ebe-8d64-3f67ddeb0a8c"
      },
      "execution_count": 102,
      "outputs": [
        {
          "output_type": "stream",
          "name": "stdout",
          "text": [
            "20.01\n",
            "7     3.21\n",
            "6     9.04\n",
            "5     0.00\n",
            "4    12.30\n",
            "3     6.37\n",
            "2    11.34\n",
            "dtype: float64\n"
          ]
        }
      ]
    },
    {
      "cell_type": "markdown",
      "metadata": {
        "id": "RQ1P7Gkyf060"
      },
      "source": [
        "Series can also have a name attribute, which will be used when we make up a Pandas DataFrame using several series."
      ]
    },
    {
      "cell_type": "code",
      "metadata": {
        "colab": {
          "base_uri": "https://localhost:8080/"
        },
        "id": "ZeD4-p7KO58m",
        "outputId": "add952eb-4ac8-49d4-c63b-59fe3da953a5"
      },
      "source": [
        "s = pd.Series(price, name = 'Apple Price List')\n",
        "print(s)\n",
        "print(s.name)"
      ],
      "execution_count": null,
      "outputs": [
        {
          "output_type": "stream",
          "name": "stdout",
          "text": [
            "0    143.73\n",
            "1    145.83\n",
            "2    143.68\n",
            "3    144.02\n",
            "4    143.50\n",
            "5    142.62\n",
            "Name: Apple Price List, dtype: float64\n",
            "Apple Price List\n"
          ]
        }
      ]
    },
    {
      "cell_type": "code",
      "source": [
        "s = pd.Series(price, name = 'Hola Mundo Adios') # Asigna el nombre a la serie s\n",
        "print(s)\n",
        "print(s.name) # Imprime el valor del atributo name de la serie s"
      ],
      "metadata": {
        "colab": {
          "base_uri": "https://localhost:8080/"
        },
        "id": "PZ9mDpXBnnot",
        "outputId": "cb6570e0-507e-4bab-f0c8-a70d81c0741a"
      },
      "execution_count": 103,
      "outputs": [
        {
          "output_type": "stream",
          "name": "stdout",
          "text": [
            "0     3.21\n",
            "1     9.04\n",
            "2    20.01\n",
            "3    12.30\n",
            "4     6.37\n",
            "5    11.34\n",
            "Name: Hola Mundo Adios, dtype: float64\n",
            "Hola Mundo Adios\n"
          ]
        }
      ]
    },
    {
      "cell_type": "markdown",
      "metadata": {
        "id": "geJb1pGHf5Et"
      },
      "source": [
        "We can get the statistical summaries of a Series:"
      ]
    },
    {
      "cell_type": "code",
      "metadata": {
        "colab": {
          "base_uri": "https://localhost:8080/"
        },
        "id": "mGPtFcjegm4i",
        "outputId": "c755fd81-f5cc-4e33-ac06-0286c3710356"
      },
      "source": [
        "print(s.describe())"
      ],
      "execution_count": null,
      "outputs": [
        {
          "output_type": "stream",
          "name": "stdout",
          "text": [
            "count      6.000000\n",
            "mean     143.896667\n",
            "std        1.059711\n",
            "min      142.620000\n",
            "25%      143.545000\n",
            "50%      143.705000\n",
            "75%      143.947500\n",
            "max      145.830000\n",
            "Name: Apple Price List, dtype: float64\n"
          ]
        }
      ]
    },
    {
      "cell_type": "code",
      "source": [
        "print(s.describe()) # Imprime un resumen estadistico de la serie s"
      ],
      "metadata": {
        "colab": {
          "base_uri": "https://localhost:8080/"
        },
        "id": "DQmdJTAYpHxP",
        "outputId": "5c75aa38-25f1-4cbe-9f4e-db7f983d05be"
      },
      "execution_count": 104,
      "outputs": [
        {
          "output_type": "stream",
          "name": "stdout",
          "text": [
            "count     6.000000\n",
            "mean     10.378333\n",
            "std       5.772859\n",
            "min       3.210000\n",
            "25%       7.037500\n",
            "50%      10.190000\n",
            "75%      12.060000\n",
            "max      20.010000\n",
            "Name: Hola Mundo Adios, dtype: float64\n"
          ]
        }
      ]
    },
    {
      "cell_type": "markdown",
      "metadata": {
        "id": "LkdZu-CDgvlR"
      },
      "source": [
        "## Time Index\n",
        "Pandas has a built-in function specifically for creating date indices: pd.date_range(). We use it to create a new index for our Series:"
      ]
    },
    {
      "cell_type": "code",
      "metadata": {
        "colab": {
          "base_uri": "https://localhost:8080/"
        },
        "id": "HJe5hU4zO58m",
        "outputId": "9d621c1b-9219-4df0-e281-c205122a501e"
      },
      "source": [
        "time_index = pd.date_range('2017-01-01',periods = len(s),freq = 'D')\n",
        "print(time_index)\n",
        "s.index = time_index\n",
        "print(s)"
      ],
      "execution_count": null,
      "outputs": [
        {
          "output_type": "stream",
          "name": "stdout",
          "text": [
            "DatetimeIndex(['2017-01-01', '2017-01-02', '2017-01-03', '2017-01-04',\n",
            "               '2017-01-05', '2017-01-06'],\n",
            "              dtype='datetime64[ns]', freq='D')\n",
            "2017-01-01    143.73\n",
            "2017-01-02    145.83\n",
            "2017-01-03    143.68\n",
            "2017-01-04    144.02\n",
            "2017-01-05    143.50\n",
            "2017-01-06    142.62\n",
            "Freq: D, Name: Apple Price List, dtype: float64\n"
          ]
        }
      ]
    },
    {
      "cell_type": "code",
      "source": [
        "time_index = pd.date_range('2022-03-12',periods = len(s),freq = 'W') # Asigna fechas a la variable time_index, con frecuencia semanal\n",
        "print(time_index)\n",
        "s.index = time_index # Asigna indices de fechas de la variable time_index a la serie s\n",
        "print(s)"
      ],
      "metadata": {
        "colab": {
          "base_uri": "https://localhost:8080/"
        },
        "id": "4N5-R5wEpM0U",
        "outputId": "30a8f0f7-540c-4d4b-abda-03de151910bd"
      },
      "execution_count": 109,
      "outputs": [
        {
          "output_type": "stream",
          "name": "stdout",
          "text": [
            "DatetimeIndex(['2022-03-13', '2022-03-20', '2022-03-27', '2022-04-03',\n",
            "               '2022-04-10', '2022-04-17'],\n",
            "              dtype='datetime64[ns]', freq='W-SUN')\n",
            "2022-03-13     3.21\n",
            "2022-03-20     9.04\n",
            "2022-03-27    20.01\n",
            "2022-04-03    12.30\n",
            "2022-04-10     6.37\n",
            "2022-04-17    11.34\n",
            "Freq: W-SUN, Name: Hola Mundo Adios, dtype: float64\n"
          ]
        }
      ]
    },
    {
      "cell_type": "markdown",
      "metadata": {
        "id": "7WedejFZg19J"
      },
      "source": [
        "Series are usually accessed using the iloc[] and loc[] methods. iloc[] is used to access elements by integer index, and loc[] is used to access the index of the series.\n",
        "\n",
        "iloc[] is necessary when the index of a series are integers, take our previous defined series as example:"
      ]
    },
    {
      "cell_type": "code",
      "metadata": {
        "colab": {
          "base_uri": "https://localhost:8080/"
        },
        "id": "KrVSOyMvO58m",
        "outputId": "53834718-43c5-4490-e361-2888f8651f96"
      },
      "source": [
        "s.index = [6,5,4,3,2,1]\n",
        "print(s)\n",
        "print(s[1])"
      ],
      "execution_count": null,
      "outputs": [
        {
          "output_type": "stream",
          "name": "stdout",
          "text": [
            "6    143.73\n",
            "5    145.83\n",
            "4    143.68\n",
            "3    144.02\n",
            "2    143.50\n",
            "1    142.62\n",
            "Name: Apple Price List, dtype: float64\n",
            "142.62\n"
          ]
        }
      ]
    },
    {
      "cell_type": "code",
      "source": [
        "s.index = [7,6,5,4,3,2]\n",
        "print(s)\n",
        "print(s[2]) # Imprime el valor en la llave 2 de la serie s"
      ],
      "metadata": {
        "colab": {
          "base_uri": "https://localhost:8080/"
        },
        "id": "_unyBVOJqNSi",
        "outputId": "7fa5b4bf-c897-42d0-88bd-bfc0a512d713"
      },
      "execution_count": 110,
      "outputs": [
        {
          "output_type": "stream",
          "name": "stdout",
          "text": [
            "7     3.21\n",
            "6     9.04\n",
            "5    20.01\n",
            "4    12.30\n",
            "3     6.37\n",
            "2    11.34\n",
            "Name: Hola Mundo Adios, dtype: float64\n",
            "11.34\n"
          ]
        }
      ]
    },
    {
      "cell_type": "markdown",
      "metadata": {
        "id": "r30VKPtpg61p"
      },
      "source": [
        "If we intended to take the second element of the series, we would make a mistake here, because the index are integers. In order to access to the element we want, we use iloc[] here:"
      ]
    },
    {
      "cell_type": "code",
      "metadata": {
        "colab": {
          "base_uri": "https://localhost:8080/"
        },
        "id": "bHukfaAmO58m",
        "outputId": "a75ed573-3d6e-45db-ece3-16aff3ced012"
      },
      "source": [
        "print(s.iloc[1])"
      ],
      "execution_count": null,
      "outputs": [
        {
          "output_type": "stream",
          "name": "stdout",
          "text": [
            "145.83\n"
          ]
        }
      ]
    },
    {
      "cell_type": "code",
      "source": [
        "print(s.iloc[2]) # Imprime el valor de la serie s en la posicion 2"
      ],
      "metadata": {
        "colab": {
          "base_uri": "https://localhost:8080/"
        },
        "id": "fK4wKTfLq8iN",
        "outputId": "603ee91f-3b6f-4311-ddf6-d92a3ebc3a87"
      },
      "execution_count": 113,
      "outputs": [
        {
          "output_type": "stream",
          "name": "stdout",
          "text": [
            "20.01\n"
          ]
        }
      ]
    },
    {
      "cell_type": "markdown",
      "metadata": {
        "id": "kHVBRL_Rg84j"
      },
      "source": [
        "While working with time series data, we often use time as the index. Pandas provides us with various methods to access the data by time index"
      ]
    },
    {
      "cell_type": "code",
      "metadata": {
        "colab": {
          "base_uri": "https://localhost:8080/"
        },
        "id": "FCf8Hg7jO58n",
        "outputId": "b095c269-31ed-40e4-e4a8-d6d0b0b1a46d"
      },
      "source": [
        "s.index = time_index\n",
        "print(s['2017-01-03'])"
      ],
      "execution_count": null,
      "outputs": [
        {
          "output_type": "stream",
          "name": "stdout",
          "text": [
            "143.68\n"
          ]
        }
      ]
    },
    {
      "cell_type": "code",
      "source": [
        "s.index = time_index\n",
        "print(s['2022-03-20']) # Imprime el valor en la llave '2022-03-20' de la serie s"
      ],
      "metadata": {
        "colab": {
          "base_uri": "https://localhost:8080/"
        },
        "id": "JsFMw2AzrDkF",
        "outputId": "33ac1ca8-d292-4e24-8e3d-0eca071e69d9"
      },
      "execution_count": 116,
      "outputs": [
        {
          "output_type": "stream",
          "name": "stdout",
          "text": [
            "9.04\n"
          ]
        }
      ]
    },
    {
      "cell_type": "markdown",
      "metadata": {
        "id": "XJXcrSFpg-To"
      },
      "source": [
        "We can even access to a range of dates:"
      ]
    },
    {
      "cell_type": "code",
      "metadata": {
        "colab": {
          "base_uri": "https://localhost:8080/"
        },
        "id": "NsE-Lr_9O58n",
        "outputId": "ecfd6e32-3661-4448-d4d7-9bf37fbe74c9"
      },
      "source": [
        "print(s['2017-01-02':'2017-01-05'])"
      ],
      "execution_count": null,
      "outputs": [
        {
          "output_type": "stream",
          "name": "stdout",
          "text": [
            "2017-01-02    145.83\n",
            "2017-01-03    143.68\n",
            "2017-01-04    144.02\n",
            "2017-01-05    143.50\n",
            "Freq: D, Name: Apple Price List, dtype: float64\n"
          ]
        }
      ]
    },
    {
      "cell_type": "code",
      "source": [
        "print(s['2022-03-12':'2022-04-10']) # Imprime los valores entre las llaves '2022-03-12' y '2022-04-10' de la serie s"
      ],
      "metadata": {
        "colab": {
          "base_uri": "https://localhost:8080/"
        },
        "id": "X4rfljs2rT7w",
        "outputId": "c5858ab9-bbb2-4786-8940-1d8e73be4021"
      },
      "execution_count": 118,
      "outputs": [
        {
          "output_type": "stream",
          "name": "stdout",
          "text": [
            "2022-03-13     3.21\n",
            "2022-03-20     9.04\n",
            "2022-03-27    20.01\n",
            "2022-04-03    12.30\n",
            "2022-04-10     6.37\n",
            "Freq: W-SUN, Name: Hola Mundo Adios, dtype: float64\n"
          ]
        }
      ]
    },
    {
      "cell_type": "markdown",
      "metadata": {
        "id": "cWA3NCXEhCLB"
      },
      "source": [
        "Series[] provides us a very flexible way to index data. We can add any condition in the square brackets:"
      ]
    },
    {
      "cell_type": "code",
      "metadata": {
        "colab": {
          "base_uri": "https://localhost:8080/"
        },
        "id": "aawbrg2EO58n",
        "outputId": "2df57a9d-6d50-4e9a-fbf9-b281692ec3d2"
      },
      "source": [
        "print(s[s < np.mean(s)] )\n",
        "print([(s > np.mean(s)) & (s < np.mean(s) + 1.64*np.std(s))])"
      ],
      "execution_count": null,
      "outputs": [
        {
          "output_type": "stream",
          "name": "stdout",
          "text": [
            "2017-01-01    143.73\n",
            "2017-01-03    143.68\n",
            "2017-01-05    143.50\n",
            "2017-01-06    142.62\n",
            "Name: Apple Price List, dtype: float64\n",
            "[2017-01-01    False\n",
            "2017-01-02    False\n",
            "2017-01-03    False\n",
            "2017-01-04     True\n",
            "2017-01-05    False\n",
            "2017-01-06    False\n",
            "Freq: D, Name: Apple Price List, dtype: bool]\n"
          ]
        }
      ]
    },
    {
      "cell_type": "code",
      "source": [
        "print(s[s < np.mean(s)] ) # Se pueden realizar comparaciones logicas en los indices de las series, en este caso, imprime los valores de los indices menores que la media de la serie s\n",
        "print([(s > np.mean(s)) & (s < np.mean(s) + 1.64*np.std(s))])"
      ],
      "metadata": {
        "colab": {
          "base_uri": "https://localhost:8080/"
        },
        "id": "IBRgelMjrpxh",
        "outputId": "32c8660c-a805-4bc2-9da5-6cfd5f7247ee"
      },
      "execution_count": 120,
      "outputs": [
        {
          "output_type": "stream",
          "name": "stdout",
          "text": [
            "2022-03-13    3.21\n",
            "2022-03-20    9.04\n",
            "2022-04-10    6.37\n",
            "Name: Hola Mundo Adios, dtype: float64\n",
            "[2022-03-13    False\n",
            "2022-03-20    False\n",
            "2022-03-27    False\n",
            "2022-04-03     True\n",
            "2022-04-10    False\n",
            "2022-04-17     True\n",
            "Freq: W-SUN, Name: Hola Mundo Adios, dtype: bool]\n"
          ]
        }
      ]
    },
    {
      "cell_type": "markdown",
      "metadata": {
        "id": "jAByChIwhEuI"
      },
      "source": [
        "As demonstrated, we can use logical operators like & (and), | (or) and ~ (not) to group multiple conditions.\n",
        "\n",
        "# Summary\n",
        "Here we have introduced NumPy and Pandas for scientific computing in Python. In the next chapter, we will dive into Pandas to learn resampling and manipulating Pandas DataFrame, which are commonly used in financial data analysis."
      ]
    },
    {
      "cell_type": "markdown",
      "metadata": {
        "id": "OtjOpw6oJp6z"
      },
      "source": [
        "<div align=\"center\">\n",
        "<img style=\"display: block; margin: auto;\" alt=\"photo\" src=\"https://cdn.quantconnect.com/web/i/icon.png\"> <img style=\"display: block; margin: auto;\" alt=\"photo\" src=\"https://www.marketing-branding.com/wp-content/uploads/2020/07/google-colaboratory-colab-guia-completa.jpg \" width=\"50\" height=\"50\">\n",
        "<img style=\"display: block; margin: auto;\" alt=\"photo\" src=\"https://upload.wikimedia.org/wikipedia/commons/d/da/Yahoo_Finance_Logo_2019.svg\" width=\"50\" height=\"50\">  \n",
        "\n",
        "Quantconnect -> Google Colab with Yahoo Finance data\n",
        "\n",
        "Introduction to Financial Python\n",
        "</div>\n",
        "\n",
        "# 05 Pandas-Resampling and DataFrame\n",
        "\n",
        "# Introduction\n",
        "In the last chapter we had a glimpse of Pandas. In this chapter we will learn about resampling methods and the DataFrame object, which is a powerful tool for financial data analysis.\n",
        "\n",
        "# Fetching Data\n",
        "Here we use the Yahoo Finance to retrieve data.\n"
      ]
    },
    {
      "cell_type": "code",
      "metadata": {
        "colab": {
          "base_uri": "https://localhost:8080/"
        },
        "id": "luU8mZTsHW9x",
        "outputId": "7674974b-75fc-41a5-a00a-b59d3609fc6b"
      },
      "source": [
        "!pip install yfinance"
      ],
      "execution_count": 1,
      "outputs": [
        {
          "output_type": "stream",
          "name": "stdout",
          "text": [
            "Requirement already satisfied: yfinance in /usr/local/lib/python3.7/dist-packages (0.1.70)\n",
            "Requirement already satisfied: numpy>=1.15 in /usr/local/lib/python3.7/dist-packages (from yfinance) (1.21.5)\n",
            "Requirement already satisfied: lxml>=4.5.1 in /usr/local/lib/python3.7/dist-packages (from yfinance) (4.8.0)\n",
            "Requirement already satisfied: requests>=2.26 in /usr/local/lib/python3.7/dist-packages (from yfinance) (2.27.1)\n",
            "Requirement already satisfied: pandas>=0.24.0 in /usr/local/lib/python3.7/dist-packages (from yfinance) (1.3.5)\n",
            "Requirement already satisfied: multitasking>=0.0.7 in /usr/local/lib/python3.7/dist-packages (from yfinance) (0.0.10)\n",
            "Requirement already satisfied: python-dateutil>=2.7.3 in /usr/local/lib/python3.7/dist-packages (from pandas>=0.24.0->yfinance) (2.8.2)\n",
            "Requirement already satisfied: pytz>=2017.3 in /usr/local/lib/python3.7/dist-packages (from pandas>=0.24.0->yfinance) (2018.9)\n",
            "Requirement already satisfied: six>=1.5 in /usr/local/lib/python3.7/dist-packages (from python-dateutil>=2.7.3->pandas>=0.24.0->yfinance) (1.15.0)\n",
            "Requirement already satisfied: certifi>=2017.4.17 in /usr/local/lib/python3.7/dist-packages (from requests>=2.26->yfinance) (2021.10.8)\n",
            "Requirement already satisfied: urllib3<1.27,>=1.21.1 in /usr/local/lib/python3.7/dist-packages (from requests>=2.26->yfinance) (1.24.3)\n",
            "Requirement already satisfied: charset-normalizer~=2.0.0 in /usr/local/lib/python3.7/dist-packages (from requests>=2.26->yfinance) (2.0.12)\n",
            "Requirement already satisfied: idna<4,>=2.5 in /usr/local/lib/python3.7/dist-packages (from requests>=2.26->yfinance) (2.10)\n"
          ]
        }
      ]
    },
    {
      "cell_type": "code",
      "metadata": {
        "colab": {
          "base_uri": "https://localhost:8080/",
          "height": 492
        },
        "id": "mWZ-nirTZHrE",
        "outputId": "18d17e74-2266-45dd-b9a9-2d156c09c2a5"
      },
      "source": [
        "import yfinance as yf\n",
        "\n",
        "aapl = yf.Ticker(\"AAPL\")\n",
        "\n",
        "# get stock info\n",
        "print(aapl.info)\n",
        "\n",
        "# get historical market data\n",
        "aapl_table = aapl.history(start=\"2016-01-01\",  end=\"2017-12-31\")\n",
        "aapl_table"
      ],
      "execution_count": 5,
      "outputs": [
        {
          "output_type": "stream",
          "name": "stdout",
          "text": [
            "{'zip': '95014', 'sector': 'Technology', 'fullTimeEmployees': 100000, 'longBusinessSummary': 'Apple Inc. designs, manufactures, and markets smartphones, personal computers, tablets, wearables, and accessories worldwide. It also sells various related services. In addition, the company offers iPhone, a line of smartphones; Mac, a line of personal computers; iPad, a line of multi-purpose tablets; AirPods Max, an over-ear wireless headphone; and wearables, home, and accessories comprising AirPods, Apple TV, Apple Watch, Beats products, HomePod, and iPod touch. Further, it provides AppleCare support services; cloud services store services; and operates various platforms, including the App Store that allow customers to discover and download applications and digital content, such as books, music, video, games, and podcasts. Additionally, the company offers various services, such as Apple Arcade, a game subscription service; Apple Music, which offers users a curated listening experience with on-demand radio stations; Apple News+, a subscription news and magazine service; Apple TV+, which offers exclusive original content; Apple Card, a co-branded credit card; and Apple Pay, a cashless payment service, as well as licenses its intellectual property. The company serves consumers, and small and mid-sized businesses; and the education, enterprise, and government markets. It distributes third-party applications for its products through the App Store. The company also sells its products through its retail and online stores, and direct sales force; and third-party cellular network carriers, wholesalers, retailers, and resellers. Apple Inc. was incorporated in 1977 and is headquartered in Cupertino, California.', 'city': 'Cupertino', 'phone': '408 996 1010', 'state': 'CA', 'country': 'United States', 'companyOfficers': [], 'website': 'https://www.apple.com', 'maxAge': 1, 'address1': 'One Apple Park Way', 'industry': 'Consumer Electronics', 'ebitdaMargins': 0.33890998, 'profitMargins': 0.26579002, 'grossMargins': 0.43019, 'operatingCashflow': 112241000448, 'revenueGrowth': 0.112, 'operatingMargins': 0.309, 'ebitda': 128217997312, 'targetLowPrice': 160, 'recommendationKey': 'buy', 'grossProfits': 152836000000, 'freeCashflow': 80153247744, 'targetMedianPrice': 199.5, 'currentPrice': 154.73, 'earningsGrowth': 0.25, 'currentRatio': 1.038, 'returnOnAssets': 0.19875, 'numberOfAnalystOpinions': 44, 'targetMeanPrice': 193.53, 'debtToEquity': 170.714, 'returnOnEquity': 1.45567, 'targetHighPrice': 215, 'totalCash': 63913000960, 'totalDebt': 122797998080, 'totalRevenue': 378323009536, 'totalCashPerShare': 3.916, 'financialCurrency': 'USD', 'revenuePerShare': 22.838, 'quickRatio': 0.875, 'recommendationMean': 1.8, 'exchange': 'NMS', 'shortName': 'Apple Inc.', 'longName': 'Apple Inc.', 'exchangeTimezoneName': 'America/New_York', 'exchangeTimezoneShortName': 'EST', 'isEsgPopulated': False, 'gmtOffSetMilliseconds': '-18000000', 'quoteType': 'EQUITY', 'symbol': 'AAPL', 'messageBoardId': 'finmb_24937', 'market': 'us_market', 'annualHoldingsTurnover': None, 'enterpriseToRevenue': 6.83, 'beta3Year': None, 'enterpriseToEbitda': 20.153, '52WeekChange': 0.24792325, 'morningStarRiskRating': None, 'forwardEps': 6.56, 'revenueQuarterlyGrowth': None, 'sharesOutstanding': 16319399936, 'fundInceptionDate': None, 'annualReportExpenseRatio': None, 'totalAssets': None, 'bookValue': 4.402, 'sharesShort': 110322490, 'sharesPercentSharesOut': 0.0068, 'fundFamily': None, 'lastFiscalYearEnd': 1632528000, 'heldPercentInstitutions': 0.59426, 'netIncomeToCommon': 100554997760, 'trailingEps': 6.015, 'lastDividendValue': 0.22, 'SandP52WeekChange': 0.059303045, 'priceToBook': 35.149933, 'heldPercentInsiders': 0.0007, 'nextFiscalYearEnd': 1695600000, 'yield': None, 'mostRecentQuarter': 1640390400, 'shortRatio': 1.2, 'sharesShortPreviousMonthDate': 1643587200, 'floatShares': 16302795170, 'beta': 1.185531, 'enterpriseValue': 2583992205312, 'priceHint': 2, 'threeYearAverageReturn': None, 'lastSplitDate': 1598832000, 'lastSplitFactor': '4:1', 'legalType': None, 'lastDividendDate': 1643932800, 'morningStarOverallRating': None, 'earningsQuarterlyGrowth': 0.204, 'priceToSalesTrailing12Months': 6.674457, 'dateShortInterest': 1646006400, 'pegRatio': 1.73, 'ytdReturn': None, 'forwardPE': 23.58689, 'lastCapGain': None, 'shortPercentOfFloat': 0.0068, 'sharesShortPriorMonth': 91388112, 'impliedSharesOutstanding': 0, 'category': None, 'fiveYearAverageReturn': None, 'previousClose': 158.52, 'regularMarketOpen': 158.93, 'twoHundredDayAverage': 153.6086, 'trailingAnnualDividendYield': 0.0054567247, 'payoutRatio': 0.1434, 'volume24Hr': None, 'regularMarketDayHigh': 159.2799, 'navPrice': None, 'averageDailyVolume10Day': 93968420, 'regularMarketPreviousClose': 158.52, 'fiftyDayAverage': 168.6374, 'trailingAnnualDividendRate': 0.865, 'open': 158.93, 'toCurrency': None, 'averageVolume10days': 93968420, 'expireDate': None, 'algorithm': None, 'dividendRate': 0.88, 'exDividendDate': 1643932800, 'circulatingSupply': None, 'startDate': None, 'regularMarketDayLow': 154.5, 'currency': 'USD', 'trailingPE': 25.724024, 'regularMarketVolume': 96970102, 'lastMarket': None, 'maxSupply': None, 'openInterest': None, 'marketCap': 2525100769280, 'volumeAllCurrencies': None, 'strikePrice': None, 'averageVolume': 97563235, 'dayLow': 154.5, 'ask': 154.49, 'askSize': 2900, 'volume': 96970102, 'fiftyTwoWeekHigh': 182.94, 'fromCurrency': None, 'fiveYearAvgDividendYield': 1.13, 'fiftyTwoWeekLow': 118.86, 'bid': 154.44, 'tradeable': False, 'dividendYield': 0.0057, 'bidSize': 1000, 'dayHigh': 159.2799, 'regularMarketPrice': 154.73, 'preMarketPrice': None, 'logo_url': 'https://logo.clearbit.com/apple.com', 'trailingPegRatio': 3.2017}\n"
          ]
        },
        {
          "output_type": "execute_result",
          "data": {
            "text/plain": [
              "                 Open       High        Low      Close     Volume  Dividends  \\\n",
              "Date                                                                           \n",
              "2016-01-04  23.590634  24.225174  23.450391  24.220575  270597600        0.0   \n",
              "2016-01-05  24.312536  24.335527  23.544652  23.613623  223164000        0.0   \n",
              "2016-01-06  23.119329  23.535460  22.960695  23.151516  273829600        0.0   \n",
              "2016-01-07  22.687108  23.020471  22.169820  22.174417  324377600        0.0   \n",
              "2016-01-08  22.657217  22.785964  22.245686  22.291666  283192000        0.0   \n",
              "...               ...        ...        ...        ...        ...        ...   \n",
              "2017-12-22  41.713653  41.890367  41.670671  41.792458   65397600        0.0   \n",
              "2017-12-26  40.787112  40.947108  40.519653  40.732189  132742000        0.0   \n",
              "2017-12-27  40.619949  40.782332  40.526817  40.739349   85992800        0.0   \n",
              "2017-12-28  40.834877  41.037858  40.710699  40.853981   65920800        0.0   \n",
              "2017-12-29  40.720248  40.736962  40.409807  40.412193  103999600        0.0   \n",
              "\n",
              "            Stock Splits  \n",
              "Date                      \n",
              "2016-01-04             0  \n",
              "2016-01-05             0  \n",
              "2016-01-06             0  \n",
              "2016-01-07             0  \n",
              "2016-01-08             0  \n",
              "...                  ...  \n",
              "2017-12-22             0  \n",
              "2017-12-26             0  \n",
              "2017-12-27             0  \n",
              "2017-12-28             0  \n",
              "2017-12-29             0  \n",
              "\n",
              "[503 rows x 7 columns]"
            ],
            "text/html": [
              "\n",
              "  <div id=\"df-dca85730-411a-4e9c-950a-2bbd2baa4576\">\n",
              "    <div class=\"colab-df-container\">\n",
              "      <div>\n",
              "<style scoped>\n",
              "    .dataframe tbody tr th:only-of-type {\n",
              "        vertical-align: middle;\n",
              "    }\n",
              "\n",
              "    .dataframe tbody tr th {\n",
              "        vertical-align: top;\n",
              "    }\n",
              "\n",
              "    .dataframe thead th {\n",
              "        text-align: right;\n",
              "    }\n",
              "</style>\n",
              "<table border=\"1\" class=\"dataframe\">\n",
              "  <thead>\n",
              "    <tr style=\"text-align: right;\">\n",
              "      <th></th>\n",
              "      <th>Open</th>\n",
              "      <th>High</th>\n",
              "      <th>Low</th>\n",
              "      <th>Close</th>\n",
              "      <th>Volume</th>\n",
              "      <th>Dividends</th>\n",
              "      <th>Stock Splits</th>\n",
              "    </tr>\n",
              "    <tr>\n",
              "      <th>Date</th>\n",
              "      <th></th>\n",
              "      <th></th>\n",
              "      <th></th>\n",
              "      <th></th>\n",
              "      <th></th>\n",
              "      <th></th>\n",
              "      <th></th>\n",
              "    </tr>\n",
              "  </thead>\n",
              "  <tbody>\n",
              "    <tr>\n",
              "      <th>2016-01-04</th>\n",
              "      <td>23.590634</td>\n",
              "      <td>24.225174</td>\n",
              "      <td>23.450391</td>\n",
              "      <td>24.220575</td>\n",
              "      <td>270597600</td>\n",
              "      <td>0.0</td>\n",
              "      <td>0</td>\n",
              "    </tr>\n",
              "    <tr>\n",
              "      <th>2016-01-05</th>\n",
              "      <td>24.312536</td>\n",
              "      <td>24.335527</td>\n",
              "      <td>23.544652</td>\n",
              "      <td>23.613623</td>\n",
              "      <td>223164000</td>\n",
              "      <td>0.0</td>\n",
              "      <td>0</td>\n",
              "    </tr>\n",
              "    <tr>\n",
              "      <th>2016-01-06</th>\n",
              "      <td>23.119329</td>\n",
              "      <td>23.535460</td>\n",
              "      <td>22.960695</td>\n",
              "      <td>23.151516</td>\n",
              "      <td>273829600</td>\n",
              "      <td>0.0</td>\n",
              "      <td>0</td>\n",
              "    </tr>\n",
              "    <tr>\n",
              "      <th>2016-01-07</th>\n",
              "      <td>22.687108</td>\n",
              "      <td>23.020471</td>\n",
              "      <td>22.169820</td>\n",
              "      <td>22.174417</td>\n",
              "      <td>324377600</td>\n",
              "      <td>0.0</td>\n",
              "      <td>0</td>\n",
              "    </tr>\n",
              "    <tr>\n",
              "      <th>2016-01-08</th>\n",
              "      <td>22.657217</td>\n",
              "      <td>22.785964</td>\n",
              "      <td>22.245686</td>\n",
              "      <td>22.291666</td>\n",
              "      <td>283192000</td>\n",
              "      <td>0.0</td>\n",
              "      <td>0</td>\n",
              "    </tr>\n",
              "    <tr>\n",
              "      <th>...</th>\n",
              "      <td>...</td>\n",
              "      <td>...</td>\n",
              "      <td>...</td>\n",
              "      <td>...</td>\n",
              "      <td>...</td>\n",
              "      <td>...</td>\n",
              "      <td>...</td>\n",
              "    </tr>\n",
              "    <tr>\n",
              "      <th>2017-12-22</th>\n",
              "      <td>41.713653</td>\n",
              "      <td>41.890367</td>\n",
              "      <td>41.670671</td>\n",
              "      <td>41.792458</td>\n",
              "      <td>65397600</td>\n",
              "      <td>0.0</td>\n",
              "      <td>0</td>\n",
              "    </tr>\n",
              "    <tr>\n",
              "      <th>2017-12-26</th>\n",
              "      <td>40.787112</td>\n",
              "      <td>40.947108</td>\n",
              "      <td>40.519653</td>\n",
              "      <td>40.732189</td>\n",
              "      <td>132742000</td>\n",
              "      <td>0.0</td>\n",
              "      <td>0</td>\n",
              "    </tr>\n",
              "    <tr>\n",
              "      <th>2017-12-27</th>\n",
              "      <td>40.619949</td>\n",
              "      <td>40.782332</td>\n",
              "      <td>40.526817</td>\n",
              "      <td>40.739349</td>\n",
              "      <td>85992800</td>\n",
              "      <td>0.0</td>\n",
              "      <td>0</td>\n",
              "    </tr>\n",
              "    <tr>\n",
              "      <th>2017-12-28</th>\n",
              "      <td>40.834877</td>\n",
              "      <td>41.037858</td>\n",
              "      <td>40.710699</td>\n",
              "      <td>40.853981</td>\n",
              "      <td>65920800</td>\n",
              "      <td>0.0</td>\n",
              "      <td>0</td>\n",
              "    </tr>\n",
              "    <tr>\n",
              "      <th>2017-12-29</th>\n",
              "      <td>40.720248</td>\n",
              "      <td>40.736962</td>\n",
              "      <td>40.409807</td>\n",
              "      <td>40.412193</td>\n",
              "      <td>103999600</td>\n",
              "      <td>0.0</td>\n",
              "      <td>0</td>\n",
              "    </tr>\n",
              "  </tbody>\n",
              "</table>\n",
              "<p>503 rows × 7 columns</p>\n",
              "</div>\n",
              "      <button class=\"colab-df-convert\" onclick=\"convertToInteractive('df-dca85730-411a-4e9c-950a-2bbd2baa4576')\"\n",
              "              title=\"Convert this dataframe to an interactive table.\"\n",
              "              style=\"display:none;\">\n",
              "        \n",
              "  <svg xmlns=\"http://www.w3.org/2000/svg\" height=\"24px\"viewBox=\"0 0 24 24\"\n",
              "       width=\"24px\">\n",
              "    <path d=\"M0 0h24v24H0V0z\" fill=\"none\"/>\n",
              "    <path d=\"M18.56 5.44l.94 2.06.94-2.06 2.06-.94-2.06-.94-.94-2.06-.94 2.06-2.06.94zm-11 1L8.5 8.5l.94-2.06 2.06-.94-2.06-.94L8.5 2.5l-.94 2.06-2.06.94zm10 10l.94 2.06.94-2.06 2.06-.94-2.06-.94-.94-2.06-.94 2.06-2.06.94z\"/><path d=\"M17.41 7.96l-1.37-1.37c-.4-.4-.92-.59-1.43-.59-.52 0-1.04.2-1.43.59L10.3 9.45l-7.72 7.72c-.78.78-.78 2.05 0 2.83L4 21.41c.39.39.9.59 1.41.59.51 0 1.02-.2 1.41-.59l7.78-7.78 2.81-2.81c.8-.78.8-2.07 0-2.86zM5.41 20L4 18.59l7.72-7.72 1.47 1.35L5.41 20z\"/>\n",
              "  </svg>\n",
              "      </button>\n",
              "      \n",
              "  <style>\n",
              "    .colab-df-container {\n",
              "      display:flex;\n",
              "      flex-wrap:wrap;\n",
              "      gap: 12px;\n",
              "    }\n",
              "\n",
              "    .colab-df-convert {\n",
              "      background-color: #E8F0FE;\n",
              "      border: none;\n",
              "      border-radius: 50%;\n",
              "      cursor: pointer;\n",
              "      display: none;\n",
              "      fill: #1967D2;\n",
              "      height: 32px;\n",
              "      padding: 0 0 0 0;\n",
              "      width: 32px;\n",
              "    }\n",
              "\n",
              "    .colab-df-convert:hover {\n",
              "      background-color: #E2EBFA;\n",
              "      box-shadow: 0px 1px 2px rgba(60, 64, 67, 0.3), 0px 1px 3px 1px rgba(60, 64, 67, 0.15);\n",
              "      fill: #174EA6;\n",
              "    }\n",
              "\n",
              "    [theme=dark] .colab-df-convert {\n",
              "      background-color: #3B4455;\n",
              "      fill: #D2E3FC;\n",
              "    }\n",
              "\n",
              "    [theme=dark] .colab-df-convert:hover {\n",
              "      background-color: #434B5C;\n",
              "      box-shadow: 0px 1px 3px 1px rgba(0, 0, 0, 0.15);\n",
              "      filter: drop-shadow(0px 1px 2px rgba(0, 0, 0, 0.3));\n",
              "      fill: #FFFFFF;\n",
              "    }\n",
              "  </style>\n",
              "\n",
              "      <script>\n",
              "        const buttonEl =\n",
              "          document.querySelector('#df-dca85730-411a-4e9c-950a-2bbd2baa4576 button.colab-df-convert');\n",
              "        buttonEl.style.display =\n",
              "          google.colab.kernel.accessAllowed ? 'block' : 'none';\n",
              "\n",
              "        async function convertToInteractive(key) {\n",
              "          const element = document.querySelector('#df-dca85730-411a-4e9c-950a-2bbd2baa4576');\n",
              "          const dataTable =\n",
              "            await google.colab.kernel.invokeFunction('convertToInteractive',\n",
              "                                                     [key], {});\n",
              "          if (!dataTable) return;\n",
              "\n",
              "          const docLinkHtml = 'Like what you see? Visit the ' +\n",
              "            '<a target=\"_blank\" href=https://colab.research.google.com/notebooks/data_table.ipynb>data table notebook</a>'\n",
              "            + ' to learn more about interactive tables.';\n",
              "          element.innerHTML = '';\n",
              "          dataTable['output_type'] = 'display_data';\n",
              "          await google.colab.output.renderOutput(dataTable, element);\n",
              "          const docLink = document.createElement('div');\n",
              "          docLink.innerHTML = docLinkHtml;\n",
              "          element.appendChild(docLink);\n",
              "        }\n",
              "      </script>\n",
              "    </div>\n",
              "  </div>\n",
              "  "
            ]
          },
          "metadata": {},
          "execution_count": 5
        }
      ]
    },
    {
      "cell_type": "markdown",
      "metadata": {
        "id": "NkFztSYhJyVA"
      },
      "source": [
        "We will create a Series named \"aapl\" whose values are Apple's daily closing prices, which are of course indexed by dates:"
      ]
    },
    {
      "cell_type": "code",
      "metadata": {
        "id": "QDJbOpCeHW91"
      },
      "source": [
        "aapl = aapl_table['Close']['2017']"
      ],
      "execution_count": null,
      "outputs": []
    },
    {
      "cell_type": "code",
      "source": [
        "aapl = aapl_table['Close']['2016'] # Asigna a la serie aapl los valores de la columna Close del año 2016 de la tabla appl_table"
      ],
      "metadata": {
        "id": "S0vlUnU0u_un"
      },
      "execution_count": 6,
      "outputs": []
    },
    {
      "cell_type": "code",
      "metadata": {
        "colab": {
          "base_uri": "https://localhost:8080/"
        },
        "id": "SXfgCQJOHW91",
        "outputId": "3edebb45-f7b8-43b4-c41d-1fb005c5c443"
      },
      "source": [
        "print(aapl)"
      ],
      "execution_count": null,
      "outputs": [
        {
          "output_type": "stream",
          "name": "stdout",
          "text": [
            "Date\n",
            "2017-01-03    27.372364\n",
            "2017-01-04    27.341724\n",
            "2017-01-05    27.480768\n",
            "2017-01-06    27.787132\n",
            "2017-01-09    28.041645\n",
            "                ...    \n",
            "2017-12-22    41.906776\n",
            "2017-12-26    40.843601\n",
            "2017-12-27    40.850777\n",
            "2017-12-28    40.965721\n",
            "2017-12-29    40.522736\n",
            "Name: Close, Length: 251, dtype: float64\n"
          ]
        }
      ]
    },
    {
      "cell_type": "code",
      "source": [
        "print(aapl) # Imprime los valores de la columna Close del año 2016 de la tabla appl_table"
      ],
      "metadata": {
        "colab": {
          "base_uri": "https://localhost:8080/"
        },
        "id": "bJbDI3zVv5LH",
        "outputId": "44cc6449-c3a9-4fd8-f5d7-ec3e4d973b30"
      },
      "execution_count": 7,
      "outputs": [
        {
          "output_type": "stream",
          "name": "stdout",
          "text": [
            "Date\n",
            "2016-01-04    24.220575\n",
            "2016-01-05    23.613623\n",
            "2016-01-06    23.151516\n",
            "2016-01-07    22.174417\n",
            "2016-01-08    22.291666\n",
            "                ...    \n",
            "2016-12-23    27.384647\n",
            "2016-12-27    27.558563\n",
            "2016-12-28    27.441050\n",
            "2016-12-29    27.434006\n",
            "2016-12-30    27.220137\n",
            "Name: Close, Length: 252, dtype: float64\n"
          ]
        }
      ]
    },
    {
      "cell_type": "markdown",
      "metadata": {
        "id": "waUEgBhzKEcA"
      },
      "source": [
        "Recall that we can fetch a specific data point using series['yyyy-mm-dd']. We can also fetch the data in a specific month using series['yyyy-mm']."
      ]
    },
    {
      "cell_type": "code",
      "metadata": {
        "colab": {
          "base_uri": "https://localhost:8080/"
        },
        "id": "2gS50G0zHW92",
        "outputId": "c964a391-f9db-450d-aa01-52e041570c4e"
      },
      "source": [
        "print(aapl['2017-3'])"
      ],
      "execution_count": null,
      "outputs": [
        {
          "output_type": "stream",
          "name": "stdout",
          "text": [
            "Date\n",
            "2017-03-01    33.086281\n",
            "2017-03-02    32.889839\n",
            "2017-03-03    33.083920\n",
            "2017-03-06    32.979778\n",
            "2017-03-07    33.022373\n",
            "2017-03-08    32.899296\n",
            "2017-03-09    32.823563\n",
            "2017-03-10    32.932434\n",
            "2017-03-13    32.946640\n",
            "2017-03-14    32.896942\n",
            "2017-03-15    33.244865\n",
            "2017-03-16    33.299305\n",
            "2017-03-17    33.133617\n",
            "2017-03-20    33.481544\n",
            "2017-03-21    33.098122\n",
            "2017-03-22    33.472084\n",
            "2017-03-23    33.353741\n",
            "2017-03-24    33.287464\n",
            "2017-03-27    33.344276\n",
            "2017-03-28    34.035393\n",
            "2017-03-29    34.111141\n",
            "2017-03-30    34.066158\n",
            "2017-03-31    34.002254\n",
            "Name: Close, dtype: float64\n"
          ]
        }
      ]
    },
    {
      "cell_type": "code",
      "source": [
        "print(aapl['2016-7']) # Imprime los valores de la columna Close del año 2016 y mes 7 de la tabla appl_table"
      ],
      "metadata": {
        "colab": {
          "base_uri": "https://localhost:8080/"
        },
        "id": "6DlKJYCtwEkt",
        "outputId": "c971e4b0-ec39-4562-b105-243b75454a2e"
      },
      "execution_count": 8,
      "outputs": [
        {
          "output_type": "stream",
          "name": "stdout",
          "text": [
            "Date\n",
            "2016-07-01    22.300245\n",
            "2016-07-05    22.090946\n",
            "2016-07-06    22.216524\n",
            "2016-07-07    22.311871\n",
            "2016-07-08    22.483967\n",
            "2016-07-11    22.553740\n",
            "2016-07-12    22.656061\n",
            "2016-07-13    22.528154\n",
            "2016-07-14    22.974670\n",
            "2016-07-15    22.972347\n",
            "2016-07-18    23.216537\n",
            "2016-07-19    23.225840\n",
            "2016-07-20    23.246773\n",
            "2016-07-21    23.123512\n",
            "2016-07-22    22.944441\n",
            "2016-07-25    22.637461\n",
            "2016-07-26    22.481642\n",
            "2016-07-27    23.942122\n",
            "2016-07-28    24.265383\n",
            "2016-07-29    24.235151\n",
            "Name: Close, dtype: float64\n"
          ]
        }
      ]
    },
    {
      "cell_type": "code",
      "metadata": {
        "colab": {
          "base_uri": "https://localhost:8080/"
        },
        "id": "vpvxGwXtHW92",
        "outputId": "5b1625b9-71e5-4db7-99c4-a4914e3922c2"
      },
      "source": [
        "aapl['2017-2':'2017-4']"
      ],
      "execution_count": null,
      "outputs": [
        {
          "output_type": "execute_result",
          "data": {
            "text/plain": [
              "Date\n",
              "2017-02-01    30.341726\n",
              "2017-02-02    30.289885\n",
              "2017-02-03    30.419493\n",
              "2017-02-06    30.704651\n",
              "2017-02-07    30.996870\n",
              "                ...    \n",
              "2017-04-24    33.997528\n",
              "2017-04-25    34.208179\n",
              "2017-04-26    34.006985\n",
              "2017-04-27    34.033024\n",
              "2017-04-28    33.999889\n",
              "Name: Close, Length: 61, dtype: float64"
            ]
          },
          "metadata": {},
          "execution_count": 89
        }
      ]
    },
    {
      "cell_type": "code",
      "source": [
        "aapl['2016-3':'2016-5'] # Imprime los valores de la columna Close del año 2016 entre el mes 3 y 5 de la tabla appl_table"
      ],
      "metadata": {
        "colab": {
          "base_uri": "https://localhost:8080/"
        },
        "id": "TMtXxVXHwOqH",
        "outputId": "70f2ca77-2fd6-45ac-8ea0-1606a4beab6e"
      },
      "execution_count": 10,
      "outputs": [
        {
          "output_type": "execute_result",
          "data": {
            "text/plain": [
              "Date\n",
              "2016-03-01    23.237846\n",
              "2016-03-02    23.288700\n",
              "2016-03-03    23.462070\n",
              "2016-03-04    23.811108\n",
              "2016-03-07    23.547590\n",
              "                ...    \n",
              "2016-05-24    22.767698\n",
              "2016-05-25    23.167696\n",
              "2016-05-26    23.351421\n",
              "2016-05-27    23.337467\n",
              "2016-05-31    23.223513\n",
              "Name: Close, Length: 64, dtype: float64"
            ]
          },
          "metadata": {},
          "execution_count": 10
        }
      ]
    },
    {
      "cell_type": "markdown",
      "metadata": {
        "id": "lWwoD39pKNKb"
      },
      "source": [
        ".head(N) and .tail(N) are methods for quickly accessing the first or last N elements."
      ]
    },
    {
      "cell_type": "code",
      "metadata": {
        "colab": {
          "base_uri": "https://localhost:8080/"
        },
        "id": "1eU218ALHW93",
        "outputId": "a5c6f29f-9b4e-45ab-ec16-381ebf0defd3"
      },
      "source": [
        "print(aapl.head(5))\n",
        "print(aapl.tail(10))"
      ],
      "execution_count": null,
      "outputs": [
        {
          "output_type": "stream",
          "name": "stdout",
          "text": [
            "Date\n",
            "2017-01-03    27.372364\n",
            "2017-01-04    27.341724\n",
            "2017-01-05    27.480768\n",
            "2017-01-06    27.787132\n",
            "2017-01-09    28.041645\n",
            "Name: Close, dtype: float64\n",
            "Date\n",
            "2017-12-15    41.657745\n",
            "2017-12-18    42.244392\n",
            "2017-12-19    41.794228\n",
            "2017-12-20    41.748734\n",
            "2017-12-21    41.906776\n",
            "2017-12-22    41.906776\n",
            "2017-12-26    40.843601\n",
            "2017-12-27    40.850777\n",
            "2017-12-28    40.965721\n",
            "2017-12-29    40.522736\n",
            "Name: Close, dtype: float64\n"
          ]
        }
      ]
    },
    {
      "cell_type": "code",
      "source": [
        "print(aapl.head(7)) # Imprime los primeros 7 registros de la serie aapl\n",
        "print(aapl.tail(3)) # Imprime los ultimos 3 registros de la serie aapl"
      ],
      "metadata": {
        "colab": {
          "base_uri": "https://localhost:8080/"
        },
        "id": "RSh-YXSuwZ5K",
        "outputId": "6452edbe-d25f-4247-9994-12793f9dd6ba"
      },
      "execution_count": 11,
      "outputs": [
        {
          "output_type": "stream",
          "name": "stdout",
          "text": [
            "Date\n",
            "2016-01-04    24.220575\n",
            "2016-01-05    23.613623\n",
            "2016-01-06    23.151516\n",
            "2016-01-07    22.174417\n",
            "2016-01-08    22.291666\n",
            "2016-01-11    22.652620\n",
            "2016-01-12    22.981388\n",
            "Name: Close, dtype: float64\n",
            "Date\n",
            "2016-12-28    27.441050\n",
            "2016-12-29    27.434006\n",
            "2016-12-30    27.220137\n",
            "Name: Close, dtype: float64\n"
          ]
        }
      ]
    },
    {
      "cell_type": "markdown",
      "metadata": {
        "id": "IxhKxtj-KQ66"
      },
      "source": [
        "# Resampling\n",
        "**_series.resample(freq)_** is a class called \"DatetimeIndexResampler\" which groups data in a Series object into regular time intervals. The argument \"freq\" determines the length of each interval.\n",
        "\n",
        "**_series.resample.mean()_** is a complete statement that groups data into intervals, and then compute the mean of each interval. For example, if we want to aggregate the daily data into monthly data by mean:"
      ]
    },
    {
      "cell_type": "code",
      "metadata": {
        "colab": {
          "base_uri": "https://localhost:8080/"
        },
        "id": "rAV8NkHkHW93",
        "outputId": "c29d30ec-ab67-43e8-de4f-ccf601869faf"
      },
      "source": [
        "by_month = aapl.resample('M').mean()\n",
        "print(by_month)"
      ],
      "execution_count": null,
      "outputs": [
        {
          "output_type": "stream",
          "name": "stdout",
          "text": [
            "Date\n",
            "2017-01-31    28.178332\n",
            "2017-02-28    31.606276\n",
            "2017-03-31    33.282219\n",
            "2017-04-30    33.819262\n",
            "2017-05-31    36.125686\n",
            "2017-06-30    35.133984\n",
            "2017-07-31    35.245242\n",
            "2017-08-31    37.897228\n",
            "2017-09-30    37.604739\n",
            "2017-10-31    37.654550\n",
            "2017-11-30    41.233914\n",
            "2017-12-31    41.160038\n",
            "Freq: M, Name: Close, dtype: float64\n"
          ]
        }
      ]
    },
    {
      "cell_type": "code",
      "source": [
        "by_week = aapl.resample('W').mean() # Asigna a la serie by_week la media en intervalos semanales de la serie aapl\n",
        "print(by_week)"
      ],
      "metadata": {
        "colab": {
          "base_uri": "https://localhost:8080/"
        },
        "id": "-icevJZlwp8D",
        "outputId": "ac251f64-f215-4f83-8441-a78e57da0c1b"
      },
      "execution_count": 12,
      "outputs": [
        {
          "output_type": "stream",
          "name": "stdout",
          "text": [
            "Date\n",
            "2016-01-10    23.090359\n",
            "2016-01-17    22.647104\n",
            "2016-01-24    22.483063\n",
            "2016-01-31    22.267757\n",
            "2016-02-07    22.021039\n",
            "2016-02-14    21.819026\n",
            "2016-02-21    22.367553\n",
            "2016-02-28    22.252669\n",
            "2016-03-06    23.229988\n",
            "2016-03-13    23.459755\n",
            "2016-03-20    24.261395\n",
            "2016-03-27    24.527101\n",
            "2016-04-03    25.029748\n",
            "2016-04-10    25.384797\n",
            "2016-04-17    25.586362\n",
            "2016-04-24    24.648807\n",
            "2016-05-01    22.922091\n",
            "2016-05-08    21.733138\n",
            "2016-05-15    21.376051\n",
            "2016-05-22    21.923497\n",
            "2016-05-29    23.010022\n",
            "2016-06-05    22.904904\n",
            "2016-06-12    23.027232\n",
            "2016-06-19    22.550016\n",
            "2016-06-26    22.142570\n",
            "2016-07-03    21.931405\n",
            "2016-07-10    22.275827\n",
            "2016-07-17    22.736995\n",
            "2016-07-24    23.151421\n",
            "2016-07-31    23.512352\n",
            "2016-08-07    24.689845\n",
            "2016-08-14    25.312943\n",
            "2016-08-21    25.557522\n",
            "2016-08-28    25.247941\n",
            "2016-09-04    24.943039\n",
            "2016-09-11    24.826478\n",
            "2016-09-18    25.984477\n",
            "2016-09-25    26.563417\n",
            "2016-10-02    26.428735\n",
            "2016-10-09    26.492803\n",
            "2016-10-16    27.324267\n",
            "2016-10-23    27.394416\n",
            "2016-10-30    27.108685\n",
            "2016-11-06    26.020144\n",
            "2016-11-13    25.785098\n",
            "2016-11-20    25.514822\n",
            "2016-11-27    26.237161\n",
            "2016-12-04    25.990504\n",
            "2016-12-11    26.141858\n",
            "2016-12-18    27.049511\n",
            "2016-12-25    27.425074\n",
            "2017-01-01    27.413439\n",
            "Freq: W-SUN, Name: Close, dtype: float64\n"
          ]
        }
      ]
    },
    {
      "cell_type": "markdown",
      "metadata": {
        "id": "QDPfVzBEKV6Q"
      },
      "source": [
        "We can also aggregate the data by week:"
      ]
    },
    {
      "cell_type": "code",
      "metadata": {
        "colab": {
          "base_uri": "https://localhost:8080/"
        },
        "id": "aAP3tKkBHW94",
        "outputId": "7a27268b-2052-445d-d0c0-f0d53f680de9"
      },
      "source": [
        "by_week = aapl.resample('W').mean()\n",
        "print(by_week.head())"
      ],
      "execution_count": null,
      "outputs": [
        {
          "output_type": "stream",
          "name": "stdout",
          "text": [
            "Date\n",
            "2017-01-08    27.495497\n",
            "2017-01-15    28.097734\n",
            "2017-01-22    28.266116\n",
            "2017-01-29    28.553982\n",
            "2017-02-05    29.662543\n",
            "Freq: W-SUN, Name: Close, dtype: float64\n"
          ]
        }
      ]
    },
    {
      "cell_type": "code",
      "source": [
        "by_month = aapl.resample('M').mean() # Asigna a la serie by_month la media en intervalos mensuales de la serie aapl\n",
        "print(by_month.head()) # Imprime los primeros registros de la serie by_month"
      ],
      "metadata": {
        "colab": {
          "base_uri": "https://localhost:8080/"
        },
        "id": "duVSCRujxRPF",
        "outputId": "971d5844-17ba-4927-f687-88547daf8d90"
      },
      "execution_count": 20,
      "outputs": [
        {
          "output_type": "stream",
          "name": "stdout",
          "text": [
            "Date\n",
            "2016-01-31    22.629387\n",
            "2016-02-29    22.114205\n",
            "2016-03-31    24.101730\n",
            "2016-04-30    24.673088\n",
            "2016-05-31    22.068431\n",
            "Freq: M, Name: Close, dtype: float64\n"
          ]
        }
      ]
    },
    {
      "cell_type": "markdown",
      "metadata": {
        "id": "o_MXSVsILoBS"
      },
      "source": [
        "We can also aggregate the data by month with max:"
      ]
    },
    {
      "cell_type": "code",
      "metadata": {
        "colab": {
          "base_uri": "https://localhost:8080/"
        },
        "id": "gn0wqXBTHW95",
        "outputId": "863ffe25-7dff-480c-eda8-ee995ebbd923"
      },
      "source": [
        "aapl.resample('M').max()"
      ],
      "execution_count": null,
      "outputs": [
        {
          "output_type": "execute_result",
          "data": {
            "text/plain": [
              "Date\n",
              "2017-01-31    28.739218\n",
              "2017-02-28    32.451969\n",
              "2017-03-31    34.111141\n",
              "2017-04-30    34.264977\n",
              "2017-05-31    37.099133\n",
              "2017-06-30    36.944649\n",
              "2017-07-31    36.471699\n",
              "2017-08-31    39.129719\n",
              "2017-09-30    39.141655\n",
              "2017-10-31    40.332241\n",
              "2017-11-30    42.050140\n",
              "2017-12-31    42.244392\n",
              "Freq: M, Name: Close, dtype: float64"
            ]
          },
          "metadata": {},
          "execution_count": 93
        }
      ]
    },
    {
      "cell_type": "code",
      "source": [
        "aapl.resample('W').max() # Obtiene los registros semanales maximos de la serie aapl"
      ],
      "metadata": {
        "colab": {
          "base_uri": "https://localhost:8080/"
        },
        "id": "BFGBwjX_x80F",
        "outputId": "c883e8db-78e8-4cb4-dfb5-1bc2d93acbdd"
      },
      "execution_count": 22,
      "outputs": [
        {
          "output_type": "execute_result",
          "data": {
            "text/plain": [
              "Date\n",
              "2016-01-10    24.220575\n",
              "2016-01-17    22.981388\n",
              "2016-01-24    23.317043\n",
              "2016-01-31    22.988285\n",
              "2016-02-07    22.329412\n",
              "2016-02-14    21.961882\n",
              "2016-02-21    22.680767\n",
              "2016-02-28    22.401068\n",
              "2016-03-06    23.811108\n",
              "2016-03-13    23.637743\n",
              "2016-03-20    24.495323\n",
              "2016-03-27    24.668684\n",
              "2016-04-03    25.424557\n",
              "2016-04-10    25.685759\n",
              "2016-04-17    25.912289\n",
              "2016-04-24    24.844364\n",
              "2016-05-01    24.289595\n",
              "2016-05-08    22.001177\n",
              "2016-05-15    21.725822\n",
              "2016-05-22    22.144430\n",
              "2016-05-29    23.351421\n",
              "2016-06-05    23.223513\n",
              "2016-06-12    23.174677\n",
              "2016-06-19    22.686298\n",
              "2016-06-26    22.349083\n",
              "2016-07-03    22.300245\n",
              "2016-07-10    22.483967\n",
              "2016-07-17    22.974670\n",
              "2016-07-24    23.246773\n",
              "2016-07-31    24.265383\n",
              "2016-08-07    25.131033\n",
              "2016-08-14    25.442011\n",
              "2016-08-21    25.598675\n",
              "2016-08-28    25.451365\n",
              "2016-09-04    25.189482\n",
              "2016-09-11    25.336794\n",
              "2016-09-18    27.022640\n",
              "2016-09-25    26.800512\n",
              "2016-10-02    26.643848\n",
              "2016-10-09    26.669571\n",
              "2016-10-16    27.504307\n",
              "2016-10-23    27.485605\n",
              "2016-10-30    27.649273\n",
              "2016-11-06    26.547985\n",
              "2016-11-13    26.101437\n",
              "2016-11-20    25.866411\n",
              "2016-11-27    26.275351\n",
              "2016-12-04    26.221294\n",
              "2016-12-11    26.780645\n",
              "2016-12-18    27.255392\n",
              "2016-12-25    27.511566\n",
              "2017-01-01    27.558563\n",
              "Freq: W-SUN, Name: Close, dtype: float64"
            ]
          },
          "metadata": {},
          "execution_count": 22
        }
      ]
    },
    {
      "cell_type": "markdown",
      "metadata": {
        "id": "Z8r46UFlLdAh"
      },
      "source": [
        "We can choose almost any frequency by using the format 'nf', where 'n' is an integer and 'f' is M for month, W for week and D for day."
      ]
    },
    {
      "cell_type": "code",
      "metadata": {
        "colab": {
          "base_uri": "https://localhost:8080/"
        },
        "id": "kdVB_-JFHW96",
        "outputId": "49704fff-b319-4947-b02e-e3f78f6bb972"
      },
      "source": [
        "three_day = aapl.resample('3D').mean()\n",
        "two_week = aapl.resample('2W').mean()\n",
        "two_month = aapl.resample('2M').mean()\n",
        "\n",
        "\n",
        "print(three_day)\n",
        "print(two_week)\n",
        "print(two_month )"
      ],
      "execution_count": null,
      "outputs": [
        {
          "output_type": "stream",
          "name": "stdout",
          "text": [
            "Date\n",
            "2017-01-03    27.398286\n",
            "2017-01-06    27.787132\n",
            "2017-01-09    28.110774\n",
            "2017-01-12    28.078175\n",
            "2017-01-15    28.279665\n",
            "                ...    \n",
            "2017-12-17    42.019310\n",
            "2017-12-20    41.854095\n",
            "2017-12-23          NaN\n",
            "2017-12-26    40.886700\n",
            "2017-12-29    40.522736\n",
            "Freq: 3D, Name: Close, Length: 121, dtype: float64\n",
            "Date\n",
            "2017-01-08    27.495497\n",
            "2017-01-22    28.172571\n",
            "2017-02-05    29.108263\n",
            "2017-02-19    31.516817\n",
            "2017-03-05    32.595556\n",
            "2017-03-19    33.017881\n",
            "2017-04-02    33.625218\n",
            "2017-04-16    33.849726\n",
            "2017-04-30    33.791843\n",
            "2017-05-14    35.697633\n",
            "2017-05-28    36.496181\n",
            "2017-06-11    36.515007\n",
            "2017-06-25    34.529047\n",
            "2017-07-09    34.265135\n",
            "2017-07-23    35.278873\n",
            "2017-08-06    36.272775\n",
            "2017-08-20    37.904119\n",
            "2017-09-03    38.458793\n",
            "2017-09-17    38.282708\n",
            "2017-10-01    36.840876\n",
            "2017-10-15    37.071593\n",
            "2017-10-29    37.757321\n",
            "2017-11-12    41.032237\n",
            "2017-11-26    41.204375\n",
            "2017-12-10    40.867067\n",
            "2017-12-24    41.620866\n",
            "2018-01-07    40.795709\n",
            "Freq: 2W-SUN, Name: Close, dtype: float64\n",
            "Date\n",
            "2017-01-31    28.178332\n",
            "2017-03-31    32.524054\n",
            "2017-05-31    35.056855\n",
            "2017-07-31    35.186964\n",
            "2017-09-30    37.761187\n",
            "2017-11-30    39.402611\n",
            "2018-01-31    41.160038\n",
            "Freq: 2M, Name: Close, dtype: float64\n"
          ]
        }
      ]
    },
    {
      "cell_type": "code",
      "source": [
        "four_day = aapl.resample('4D').mean() # Asigna a la serie four_day la media de los registros diarios (cada 4 dias) de la serie aapl\n",
        "three_week = aapl.resample('3W').mean() # Asigna a la serie three_week la media los registros semanales (cada 3 semanas) de la serie aapl\n",
        "five_month = aapl.resample('5M').mean() # Asigna a la serie five_month la media los registros mensuales (cada 5 meses) de la serie aapl\n",
        "\n",
        "\n",
        "print(four_day) \n",
        "print(three_week)\n",
        "print(five_month )"
      ],
      "metadata": {
        "colab": {
          "base_uri": "https://localhost:8080/"
        },
        "id": "jSLWQz7lyQmE",
        "outputId": "73e69620-f4e8-43d9-ceea-ac472edcb466"
      },
      "execution_count": 24,
      "outputs": [
        {
          "output_type": "stream",
          "name": "stdout",
          "text": [
            "Date\n",
            "2016-01-04    23.290033\n",
            "2016-01-08    22.472143\n",
            "2016-01-12    22.645724\n",
            "2016-01-16    22.222691\n",
            "2016-01-20    22.569853\n",
            "                ...    \n",
            "2016-12-13    27.154918\n",
            "2016-12-17    27.449280\n",
            "2016-12-21    27.408936\n",
            "2016-12-25    27.499806\n",
            "2016-12-29    27.327071\n",
            "Freq: 4D, Name: Close, Length: 91, dtype: float64\n",
            "Date\n",
            "2016-01-10    23.090359\n",
            "2016-01-31    22.464754\n",
            "2016-02-21    22.047895\n",
            "2016-03-13    22.980804\n",
            "2016-04-03    24.611723\n",
            "2016-04-24    25.206656\n",
            "2016-05-15    22.010427\n",
            "2016-06-05    22.591944\n",
            "2016-06-26    22.573273\n",
            "2016-07-17    22.317522\n",
            "2016-08-07    23.784539\n",
            "2016-08-28    25.372802\n",
            "2016-09-18    25.281678\n",
            "2016-10-09    26.494985\n",
            "2016-10-30    27.275789\n",
            "2016-11-20    25.773354\n",
            "2016-12-11    26.115032\n",
            "2017-01-01    27.287620\n",
            "Freq: 3W-SUN, Name: Close, dtype: float64\n",
            "Date\n",
            "2016-01-31    22.629387\n",
            "2016-06-30    23.098547\n",
            "2016-11-30    25.404660\n",
            "2017-04-30    26.871297\n",
            "Freq: 5M, Name: Close, dtype: float64\n"
          ]
        }
      ]
    },
    {
      "cell_type": "markdown",
      "metadata": {
        "id": "iy4RqsnwL-Bw"
      },
      "source": [
        "Besides the mean() method, other methods can also be used with the resampler:\n",
        "\n"
      ]
    },
    {
      "cell_type": "code",
      "metadata": {
        "colab": {
          "base_uri": "https://localhost:8080/"
        },
        "id": "DNT8Fx9dHW96",
        "outputId": "8b73ed41-5341-44f2-ffc3-478bd92f73f4"
      },
      "source": [
        "std = aapl.resample('W').std()\n",
        "max = aapl.resample('W').max()\n",
        "min = aapl.resample('W').min()\n",
        "\n",
        "\n",
        "print(std)\n",
        "print(max)\n",
        "print(min)"
      ],
      "execution_count": null,
      "outputs": [
        {
          "output_type": "stream",
          "name": "stdout",
          "text": [
            "Date\n",
            "2017-01-08    0.203368\n",
            "2017-01-15    0.072530\n",
            "2017-01-22    0.025554\n",
            "2017-01-29    0.245288\n",
            "2017-02-05    0.943260\n",
            "2017-02-12    0.252001\n",
            "2017-02-19    0.231394\n",
            "2017-02-26    0.059345\n",
            "2017-03-05    0.340094\n",
            "2017-03-12    0.076284\n",
            "2017-03-19    0.177834\n",
            "2017-03-26    0.157262\n",
            "2017-04-02    0.319806\n",
            "2017-04-09    0.128689\n",
            "2017-04-16    0.212476\n",
            "2017-04-23    0.174672\n",
            "2017-04-30    0.090027\n",
            "2017-05-07    0.235639\n",
            "2017-05-14    0.352980\n",
            "2017-05-21    0.536091\n",
            "2017-05-28    0.060392\n",
            "2017-06-04    0.281225\n",
            "2017-06-11    0.620034\n",
            "2017-06-18    0.382564\n",
            "2017-06-25    0.128893\n",
            "2017-07-02    0.264113\n",
            "2017-07-09    0.158890\n",
            "2017-07-16    0.404281\n",
            "2017-07-23    0.124988\n",
            "2017-07-30    0.384441\n",
            "2017-08-06    0.924388\n",
            "2017-08-13    0.467469\n",
            "2017-08-20    0.435251\n",
            "2017-08-27    0.275762\n",
            "2017-09-03    0.251722\n",
            "2017-09-10    0.381637\n",
            "2017-09-17    0.294141\n",
            "2017-09-24    0.735195\n",
            "2017-10-01    0.354840\n",
            "2017-10-08    0.204857\n",
            "2017-10-15    0.118733\n",
            "2017-10-22    0.517001\n",
            "2017-10-29    0.680452\n",
            "2017-11-05    0.560686\n",
            "2017-11-12    0.190971\n",
            "2017-11-19    0.436199\n",
            "2017-11-26    0.563047\n",
            "2017-12-03    0.427439\n",
            "2017-12-10    0.073130\n",
            "2017-12-17    0.205266\n",
            "2017-12-24    0.194120\n",
            "2017-12-31    0.190390\n",
            "Freq: W-SUN, Name: Close, dtype: float64\n",
            "Date\n",
            "2017-01-08    27.787132\n",
            "2017-01-15    28.220753\n",
            "2017-01-22    28.279665\n",
            "2017-01-29    28.739218\n",
            "2017-02-05    30.419493\n",
            "2017-02-12    31.341911\n",
            "2017-02-19    32.122974\n",
            "2017-02-26    32.451969\n",
            "2017-03-05    33.086281\n",
            "2017-03-12    33.022373\n",
            "2017-03-19    33.299305\n",
            "2017-03-26    33.481544\n",
            "2017-04-02    34.111141\n",
            "2017-04-09    34.264977\n",
            "2017-04-16    33.886284\n",
            "2017-04-23    33.713501\n",
            "2017-04-30    34.208179\n",
            "2017-05-07    35.256695\n",
            "2017-05-14    37.099133\n",
            "2017-05-21    37.004063\n",
            "2017-05-28    36.597664\n",
            "2017-06-04    36.944649\n",
            "2017-06-11    36.925632\n",
            "2017-06-18    34.838963\n",
            "2017-06-25    34.779545\n",
            "2017-07-02    34.658337\n",
            "2017-07-09    34.266190\n",
            "2017-07-16    35.421230\n",
            "2017-07-23    35.891800\n",
            "2017-07-30    36.471699\n",
            "2017-08-06    37.346291\n",
            "2017-08-13    38.277939\n",
            "2017-08-20    38.557095\n",
            "2017-08-27    38.170567\n",
            "2017-09-03    39.141655\n",
            "2017-09-10    38.671623\n",
            "2017-09-17    38.533234\n",
            "2017-09-24    37.872326\n",
            "2017-10-01    36.798645\n",
            "2017-10-08    37.075409\n",
            "2017-10-15    37.457165\n",
            "2017-10-22    38.287479\n",
            "2017-10-29    38.903053\n",
            "2017-11-05    41.157795\n",
            "2017-11-12    42.050140\n",
            "2017-11-19    41.657745\n",
            "2017-11-26    41.897190\n",
            "2017-12-03    41.686470\n",
            "2017-12-10    40.659222\n",
            "2017-12-17    41.657745\n",
            "2017-12-24    42.244392\n",
            "2017-12-31    40.965721\n",
            "Freq: W-SUN, Name: Close, dtype: float64\n",
            "Date\n",
            "2017-01-08    27.341724\n",
            "2017-01-15    28.041645\n",
            "2017-01-22    28.227821\n",
            "2017-01-29    28.272598\n",
            "2017-02-05    28.597816\n",
            "2017-02-12    30.704651\n",
            "2017-02-19    31.547823\n",
            "2017-02-26    32.314690\n",
            "2017-03-05    32.409355\n",
            "2017-03-12    32.823563\n",
            "2017-03-19    32.896942\n",
            "2017-03-26    33.098122\n",
            "2017-04-02    33.344276\n",
            "2017-04-09    33.926514\n",
            "2017-04-16    33.384510\n",
            "2017-04-23    33.296936\n",
            "2017-04-30    33.997528\n",
            "2017-05-07    34.681545\n",
            "2017-05-14    36.215267\n",
            "2017-05-21    35.708805\n",
            "2017-05-28    36.443184\n",
            "2017-06-04    36.305332\n",
            "2017-06-11    35.406971\n",
            "2017-06-18    33.812263\n",
            "2017-06-25    34.463455\n",
            "2017-07-02    34.147358\n",
            "2017-07-09    33.921577\n",
            "2017-07-16    34.475338\n",
            "2017-07-23    35.544815\n",
            "2017-07-30    35.530552\n",
            "2017-08-06    35.347557\n",
            "2017-08-13    37.058720\n",
            "2017-08-20    37.578846\n",
            "2017-08-27    37.509666\n",
            "2017-09-03    38.526081\n",
            "2017-09-10    37.848465\n",
            "2017-09-17    37.764950\n",
            "2017-09-24    36.240326\n",
            "2017-10-01    35.920620\n",
            "2017-10-08    36.619694\n",
            "2017-10-15    37.182777\n",
            "2017-10-22    37.216179\n",
            "2017-10-29    37.261517\n",
            "2017-11-05    39.778702\n",
            "2017-11-12    41.575333\n",
            "2017-11-19    40.486816\n",
            "2017-11-26    40.702312\n",
            "2017-12-03    40.582603\n",
            "2017-12-10    40.470051\n",
            "2017-12-17    41.114185\n",
            "2017-12-24    41.748734\n",
            "2017-12-31    40.522736\n",
            "Freq: W-SUN, Name: Close, dtype: float64\n"
          ]
        }
      ]
    },
    {
      "cell_type": "code",
      "source": [
        "std = aapl.resample('M').std() # Asigna a la serie std la desviacion estandar de los registros mensuales de la serie aapl\n",
        "max = aapl.resample('W').max() # Asigna a la serie max el maximo de los registros semanales de la serie aapl\n",
        "min = aapl.resample('D').min() # Asigna a la serie min el minimo de los registros diarios de la serie aapl\n",
        "\n",
        "\n",
        "print(std)\n",
        "print(max)\n",
        "print(min)"
      ],
      "metadata": {
        "colab": {
          "base_uri": "https://localhost:8080/"
        },
        "id": "hljNGN1iy_4R",
        "outputId": "2bc22617-a3af-408e-8f0b-c31eb1f6a17b"
      },
      "execution_count": 27,
      "outputs": [
        {
          "output_type": "stream",
          "name": "stdout",
          "text": [
            "Date\n",
            "2016-01-31    0.667269\n",
            "2016-02-29    0.290097\n",
            "2016-03-31    0.644845\n",
            "2016-04-30    1.212854\n",
            "2016-05-31    0.710971\n",
            "2016-06-30    0.482325\n",
            "2016-07-31    0.635610\n",
            "2016-08-31    0.361003\n",
            "2016-09-30    0.864467\n",
            "2016-10-31    0.439146\n",
            "2016-11-30    0.389903\n",
            "2016-12-31    0.672201\n",
            "Freq: M, Name: Close, dtype: float64\n",
            "Date\n",
            "2016-01-10    24.220575\n",
            "2016-01-17    22.981388\n",
            "2016-01-24    23.317043\n",
            "2016-01-31    22.988285\n",
            "2016-02-07    22.329412\n",
            "2016-02-14    21.961882\n",
            "2016-02-21    22.680767\n",
            "2016-02-28    22.401068\n",
            "2016-03-06    23.811108\n",
            "2016-03-13    23.637743\n",
            "2016-03-20    24.495323\n",
            "2016-03-27    24.668684\n",
            "2016-04-03    25.424557\n",
            "2016-04-10    25.685759\n",
            "2016-04-17    25.912289\n",
            "2016-04-24    24.844364\n",
            "2016-05-01    24.289595\n",
            "2016-05-08    22.001177\n",
            "2016-05-15    21.725822\n",
            "2016-05-22    22.144430\n",
            "2016-05-29    23.351421\n",
            "2016-06-05    23.223513\n",
            "2016-06-12    23.174677\n",
            "2016-06-19    22.686298\n",
            "2016-06-26    22.349083\n",
            "2016-07-03    22.300245\n",
            "2016-07-10    22.483967\n",
            "2016-07-17    22.974670\n",
            "2016-07-24    23.246773\n",
            "2016-07-31    24.265383\n",
            "2016-08-07    25.131033\n",
            "2016-08-14    25.442011\n",
            "2016-08-21    25.598675\n",
            "2016-08-28    25.451365\n",
            "2016-09-04    25.189482\n",
            "2016-09-11    25.336794\n",
            "2016-09-18    27.022640\n",
            "2016-09-25    26.800512\n",
            "2016-10-02    26.643848\n",
            "2016-10-09    26.669571\n",
            "2016-10-16    27.504307\n",
            "2016-10-23    27.485605\n",
            "2016-10-30    27.649273\n",
            "2016-11-06    26.547985\n",
            "2016-11-13    26.101437\n",
            "2016-11-20    25.866411\n",
            "2016-11-27    26.275351\n",
            "2016-12-04    26.221294\n",
            "2016-12-11    26.780645\n",
            "2016-12-18    27.255392\n",
            "2016-12-25    27.511566\n",
            "2017-01-01    27.558563\n",
            "Freq: W-SUN, Name: Close, dtype: float64\n",
            "Date\n",
            "2016-01-04    24.220575\n",
            "2016-01-05    23.613623\n",
            "2016-01-06    23.151516\n",
            "2016-01-07    22.174417\n",
            "2016-01-08    22.291666\n",
            "                ...    \n",
            "2016-12-26          NaN\n",
            "2016-12-27    27.558563\n",
            "2016-12-28    27.441050\n",
            "2016-12-29    27.434006\n",
            "2016-12-30    27.220137\n",
            "Freq: D, Name: Close, Length: 362, dtype: float64\n"
          ]
        }
      ]
    },
    {
      "cell_type": "markdown",
      "metadata": {
        "id": "uqln0s5DMI3I"
      },
      "source": [
        "Often we want to calculate monthly returns of a stock, based on prices on the last day of each month. To fetch those prices, we use the series.resample.agg() method:"
      ]
    },
    {
      "cell_type": "code",
      "metadata": {
        "colab": {
          "base_uri": "https://localhost:8080/"
        },
        "id": "A6FSYvqbHW97",
        "outputId": "2d8df5ca-cc77-40a4-fe0d-6c80266d3ca7"
      },
      "source": [
        "last_day = aapl.resample('M').agg(lambda x: x[-1])\n",
        "print(last_day)"
      ],
      "execution_count": null,
      "outputs": [
        {
          "output_type": "stream",
          "name": "stdout",
          "text": [
            "Date\n",
            "2017-01-31    28.597816\n",
            "2017-02-28    32.423561\n",
            "2017-03-31    34.002254\n",
            "2017-04-30    33.999889\n",
            "2017-05-31    36.305332\n",
            "2017-06-30    34.228172\n",
            "2017-07-31    35.347557\n",
            "2017-08-31    39.129719\n",
            "2017-09-30    36.772392\n",
            "2017-10-31    40.332241\n",
            "2017-11-30    41.150097\n",
            "2017-12-31    40.522736\n",
            "Freq: M, Name: Close, dtype: float64\n"
          ]
        }
      ]
    },
    {
      "cell_type": "code",
      "source": [
        "last_day = aapl.resample('W').agg(lambda x: x[-1]) # Asigna a la serie last_day los ultimos valores semanales de la serie aapl\n",
        "print(last_day)"
      ],
      "metadata": {
        "colab": {
          "base_uri": "https://localhost:8080/"
        },
        "id": "Pt90eMVizrY9",
        "outputId": "471c8986-7e00-4e3f-cd01-2d6ac3d8eb3a"
      },
      "execution_count": 28,
      "outputs": [
        {
          "output_type": "stream",
          "name": "stdout",
          "text": [
            "Date\n",
            "2016-01-10    22.291666\n",
            "2016-01-17    22.330748\n",
            "2016-01-24    23.317043\n",
            "2016-01-31    22.379034\n",
            "2016-02-07    21.733040\n",
            "2016-02-14    21.726097\n",
            "2016-02-21    22.199965\n",
            "2016-02-28    22.401068\n",
            "2016-03-06    23.811108\n",
            "2016-03-13    23.637743\n",
            "2016-03-20    24.483759\n",
            "2016-03-27    24.425966\n",
            "2016-04-03    25.424557\n",
            "2016-04-10    25.117123\n",
            "2016-04-17    25.392193\n",
            "2016-04-24    24.428288\n",
            "2016-05-01    21.668316\n",
            "2016-05-08    21.563026\n",
            "2016-05-15    21.051395\n",
            "2016-05-22    22.144430\n",
            "2016-05-29    23.337467\n",
            "2016-06-05    22.772343\n",
            "2016-06-12    22.983973\n",
            "2016-06-19    22.170015\n",
            "2016-06-26    21.721172\n",
            "2016-07-03    22.300245\n",
            "2016-07-10    22.483967\n",
            "2016-07-17    22.972347\n",
            "2016-07-24    22.944441\n",
            "2016-07-31    24.235151\n",
            "2016-08-07    25.131033\n",
            "2016-08-14    25.294708\n",
            "2016-08-21    25.570616\n",
            "2016-08-28    25.004768\n",
            "2016-09-04    25.189482\n",
            "2016-09-11    24.113911\n",
            "2016-09-18    26.870651\n",
            "2016-09-25    26.353912\n",
            "2016-10-02    26.433413\n",
            "2016-10-09    26.669571\n",
            "2016-10-16    27.504307\n",
            "2016-10-23    27.263475\n",
            "2016-10-30    26.590071\n",
            "2016-11-06    25.579685\n",
            "2016-11-13    25.483332\n",
            "2016-11-20    25.866411\n",
            "2016-11-27    26.273001\n",
            "2016-12-04    25.828814\n",
            "2016-12-11    26.780645\n",
            "2016-12-18    27.255392\n",
            "2016-12-25    27.384647\n",
            "2017-01-01    27.220137\n",
            "Freq: W-SUN, Name: Close, dtype: float64\n"
          ]
        }
      ]
    },
    {
      "cell_type": "markdown",
      "metadata": {
        "id": "uwomY3aXMR46"
      },
      "source": [
        "Or directly calculate the monthly rates of return using the data for the first day and the last day:"
      ]
    },
    {
      "cell_type": "code",
      "metadata": {
        "colab": {
          "base_uri": "https://localhost:8080/"
        },
        "id": "qK2NMJrNHW96",
        "outputId": "b6ef704f-d164-486d-ad77-4b8391d02e5e"
      },
      "source": [
        "monthly_return = aapl.resample('M').agg(lambda x: x[-1]/x[0] - 1)\n",
        "print(monthly_return)"
      ],
      "execution_count": null,
      "outputs": [
        {
          "output_type": "stream",
          "name": "stdout",
          "text": [
            "Date\n",
            "2017-01-31    0.044770\n",
            "2017-02-28    0.068613\n",
            "2017-03-31    0.027684\n",
            "2017-04-30   -0.000348\n",
            "2017-05-31    0.046463\n",
            "2017-06-30   -0.059799\n",
            "2017-07-31    0.036446\n",
            "2017-08-31    0.097261\n",
            "2017-09-30   -0.060530\n",
            "2017-10-31    0.099018\n",
            "2017-11-30    0.033422\n",
            "2017-12-31   -0.010640\n",
            "Freq: M, Name: Close, dtype: float64\n"
          ]
        }
      ]
    },
    {
      "cell_type": "code",
      "source": [
        "weekly_return = aapl.resample('W').agg(lambda x: x[-1]/x[0] - 1) # Asigna a la serie weekly_return las cuotas semanales de la serie aapl\n",
        "print(weekly_return)"
      ],
      "metadata": {
        "colab": {
          "base_uri": "https://localhost:8080/"
        },
        "id": "3YiOLBxh0Jbz",
        "outputId": "946f65ff-297e-472c-8c0c-697040ac2d37"
      },
      "execution_count": 29,
      "outputs": [
        {
          "output_type": "stream",
          "name": "stdout",
          "text": [
            "Date\n",
            "2016-01-10   -0.079639\n",
            "2016-01-17   -0.014209\n",
            "2016-01-24    0.049245\n",
            "2016-01-31   -0.021118\n",
            "2016-02-07   -0.019702\n",
            "2016-02-14   -0.010736\n",
            "2016-02-21   -0.006209\n",
            "2016-02-28    0.000310\n",
            "2016-03-06    0.065364\n",
            "2016-03-13    0.003829\n",
            "2016-03-20    0.033164\n",
            "2016-03-27   -0.002266\n",
            "2016-04-03    0.045632\n",
            "2016-04-10   -0.022138\n",
            "2016-04-17    0.007613\n",
            "2016-04-24   -0.016747\n",
            "2016-05-01   -0.107918\n",
            "2016-05-08   -0.003796\n",
            "2016-05-15   -0.024464\n",
            "2016-05-22    0.014274\n",
            "2016-05-29    0.040651\n",
            "2016-06-05   -0.019427\n",
            "2016-06-12    0.002028\n",
            "2016-06-19   -0.020649\n",
            "2016-06-26   -0.017876\n",
            "2016-07-03    0.041829\n",
            "2016-07-10    0.017791\n",
            "2016-07-17    0.018560\n",
            "2016-07-24   -0.011720\n",
            "2016-07-31    0.070577\n",
            "2016-08-07    0.018975\n",
            "2016-08-14   -0.001753\n",
            "2016-08-21   -0.001096\n",
            "2016-08-28   -0.014469\n",
            "2016-09-04    0.008519\n",
            "2016-09-11   -0.042433\n",
            "2016-09-18    0.089909\n",
            "2016-09-25   -0.007660\n",
            "2016-10-02    0.001506\n",
            "2016-10-09    0.013686\n",
            "2016-10-16    0.013615\n",
            "2016-10-23   -0.008082\n",
            "2016-10-30   -0.033404\n",
            "2016-11-06   -0.036474\n",
            "2016-11-13   -0.017933\n",
            "2016-11-20    0.041150\n",
            "2016-11-27    0.000537\n",
            "2016-12-04   -0.014968\n",
            "2016-12-11    0.044359\n",
            "2016-12-18    0.023566\n",
            "2016-12-25   -0.001029\n",
            "2017-01-01   -0.012280\n",
            "Freq: W-SUN, Name: Close, dtype: float64\n"
          ]
        }
      ]
    },
    {
      "cell_type": "markdown",
      "metadata": {
        "id": "_DYbMTFWMj8J"
      },
      "source": [
        "Series object also provides us some convenient methods to do some quick calculation."
      ]
    },
    {
      "cell_type": "code",
      "metadata": {
        "colab": {
          "base_uri": "https://localhost:8080/"
        },
        "id": "1Mxc0HwvHW98",
        "outputId": "d3f0a1bf-5cb9-453c-be0c-d672fd27802e"
      },
      "source": [
        "print(monthly_return.mean())\n",
        "print(monthly_return.std())\n",
        "print(monthly_return.max())"
      ],
      "execution_count": null,
      "outputs": [
        {
          "output_type": "stream",
          "name": "stdout",
          "text": [
            "0.02686331860727394\n",
            "0.052258487776588924\n",
            "0.09901841642506737\n"
          ]
        }
      ]
    },
    {
      "cell_type": "code",
      "source": [
        "print(weekly_return.var()) # Imprime la varianza de la serie weekly_return\n",
        "print(weekly_return.std()) # Imprime la desviacion estandar de la serie weekly_return\n",
        "print(weekly_return.max()) # Imprime el maximo de la serie weekly_return"
      ],
      "metadata": {
        "colab": {
          "base_uri": "https://localhost:8080/"
        },
        "id": "wHkp0SSx0nDx",
        "outputId": "cc8fab99-6212-4b86-d3d8-a64fd5e05cc4"
      },
      "execution_count": 30,
      "outputs": [
        {
          "output_type": "stream",
          "name": "stdout",
          "text": [
            "0.0011629297813335574\n",
            "0.03410175627931144\n",
            "0.08990858450892625\n"
          ]
        }
      ]
    },
    {
      "cell_type": "markdown",
      "metadata": {
        "id": "mn59J5dqMpqX"
      },
      "source": [
        "Another two methods frequently used on Series are .diff() and .pct_change(). The former calculates the difference between consecutive elements, and the latter calculates the percentage change."
      ]
    },
    {
      "cell_type": "code",
      "metadata": {
        "colab": {
          "base_uri": "https://localhost:8080/"
        },
        "id": "DupZTSqqHW99",
        "outputId": "141cb6b9-3a98-4204-b65c-1291020b7745"
      },
      "source": [
        "print(last_day.diff())\n",
        "print(last_day.pct_change())"
      ],
      "execution_count": null,
      "outputs": [
        {
          "output_type": "stream",
          "name": "stdout",
          "text": [
            "Date\n",
            "2017-01-31         NaN\n",
            "2017-02-28    3.825745\n",
            "2017-03-31    1.578693\n",
            "2017-04-30   -0.002365\n",
            "2017-05-31    2.305443\n",
            "2017-06-30   -2.077160\n",
            "2017-07-31    1.119385\n",
            "2017-08-31    3.782162\n",
            "2017-09-30   -2.357327\n",
            "2017-10-31    3.559849\n",
            "2017-11-30    0.817856\n",
            "2017-12-31   -0.627361\n",
            "Freq: M, Name: Close, dtype: float64\n",
            "Date\n",
            "2017-01-31         NaN\n",
            "2017-02-28    0.133778\n",
            "2017-03-31    0.048690\n",
            "2017-04-30   -0.000070\n",
            "2017-05-31    0.067807\n",
            "2017-06-30   -0.057214\n",
            "2017-07-31    0.032704\n",
            "2017-08-31    0.106999\n",
            "2017-09-30   -0.060244\n",
            "2017-10-31    0.096808\n",
            "2017-11-30    0.020278\n",
            "2017-12-31   -0.015246\n",
            "Freq: M, Name: Close, dtype: float64\n"
          ]
        }
      ]
    },
    {
      "cell_type": "code",
      "source": [
        "print(last_day.diff()) # Imprime la diferencia entre dos elementos consecutivos de la serie last_day\n",
        "print(last_day.pct_change()) # Imprime el porcentaje de cambio entre dos elementos consecutivos de la serie last_day"
      ],
      "metadata": {
        "colab": {
          "base_uri": "https://localhost:8080/"
        },
        "id": "-4XfkN1w012q",
        "outputId": "efa47112-b06d-4837-bace-44c8121784f1"
      },
      "execution_count": 31,
      "outputs": [
        {
          "output_type": "stream",
          "name": "stdout",
          "text": [
            "Date\n",
            "2016-01-10         NaN\n",
            "2016-01-17    0.039082\n",
            "2016-01-24    0.986296\n",
            "2016-01-31   -0.938009\n",
            "2016-02-07   -0.645994\n",
            "2016-02-14   -0.006943\n",
            "2016-02-21    0.473867\n",
            "2016-02-28    0.201103\n",
            "2016-03-06    1.410040\n",
            "2016-03-13   -0.173365\n",
            "2016-03-20    0.846016\n",
            "2016-03-27   -0.057793\n",
            "2016-04-03    0.998590\n",
            "2016-04-10   -0.307434\n",
            "2016-04-17    0.275070\n",
            "2016-04-24   -0.963905\n",
            "2016-05-01   -2.759972\n",
            "2016-05-08   -0.105289\n",
            "2016-05-15   -0.511631\n",
            "2016-05-22    1.093035\n",
            "2016-05-29    1.193037\n",
            "2016-06-05   -0.565125\n",
            "2016-06-12    0.211630\n",
            "2016-06-19   -0.813957\n",
            "2016-06-26   -0.448843\n",
            "2016-07-03    0.579073\n",
            "2016-07-10    0.183722\n",
            "2016-07-17    0.488380\n",
            "2016-07-24   -0.027906\n",
            "2016-07-31    1.290710\n",
            "2016-08-07    0.895882\n",
            "2016-08-14    0.163675\n",
            "2016-08-21    0.275908\n",
            "2016-08-28   -0.565847\n",
            "2016-09-04    0.184713\n",
            "2016-09-11   -1.075571\n",
            "2016-09-18    2.756741\n",
            "2016-09-25   -0.516739\n",
            "2016-10-02    0.079500\n",
            "2016-10-09    0.236158\n",
            "2016-10-16    0.834736\n",
            "2016-10-23   -0.240831\n",
            "2016-10-30   -0.673405\n",
            "2016-11-06   -1.010386\n",
            "2016-11-13   -0.096354\n",
            "2016-11-20    0.383080\n",
            "2016-11-27    0.406590\n",
            "2016-12-04   -0.444187\n",
            "2016-12-11    0.951832\n",
            "2016-12-18    0.474747\n",
            "2016-12-25    0.129255\n",
            "2017-01-01   -0.164511\n",
            "Freq: W-SUN, Name: Close, dtype: float64\n",
            "Date\n",
            "2016-01-10         NaN\n",
            "2016-01-17    0.001753\n",
            "2016-01-24    0.044168\n",
            "2016-01-31   -0.040228\n",
            "2016-02-07   -0.028866\n",
            "2016-02-14   -0.000319\n",
            "2016-02-21    0.021811\n",
            "2016-02-28    0.009059\n",
            "2016-03-06    0.062945\n",
            "2016-03-13   -0.007281\n",
            "2016-03-20    0.035791\n",
            "2016-03-27   -0.002360\n",
            "2016-04-03    0.040882\n",
            "2016-04-10   -0.012092\n",
            "2016-04-17    0.010952\n",
            "2016-04-24   -0.037961\n",
            "2016-05-01   -0.112983\n",
            "2016-05-08   -0.004859\n",
            "2016-05-15   -0.023727\n",
            "2016-05-22    0.051922\n",
            "2016-05-29    0.053875\n",
            "2016-06-05   -0.024215\n",
            "2016-06-12    0.009293\n",
            "2016-06-19   -0.035414\n",
            "2016-06-26   -0.020245\n",
            "2016-07-03    0.026659\n",
            "2016-07-10    0.008239\n",
            "2016-07-17    0.021721\n",
            "2016-07-24   -0.001215\n",
            "2016-07-31    0.056254\n",
            "2016-08-07    0.036966\n",
            "2016-08-14    0.006513\n",
            "2016-08-21    0.010908\n",
            "2016-08-28   -0.022129\n",
            "2016-09-04    0.007387\n",
            "2016-09-11   -0.042699\n",
            "2016-09-18    0.114322\n",
            "2016-09-25   -0.019231\n",
            "2016-10-02    0.003017\n",
            "2016-10-09    0.008934\n",
            "2016-10-16    0.031299\n",
            "2016-10-23   -0.008756\n",
            "2016-10-30   -0.024700\n",
            "2016-11-06   -0.037999\n",
            "2016-11-13   -0.003767\n",
            "2016-11-20    0.015033\n",
            "2016-11-27    0.015719\n",
            "2016-12-04   -0.016907\n",
            "2016-12-11    0.036852\n",
            "2016-12-18    0.017727\n",
            "2016-12-25    0.004742\n",
            "2017-01-01   -0.006007\n",
            "Freq: W-SUN, Name: Close, dtype: float64\n"
          ]
        }
      ]
    },
    {
      "cell_type": "markdown",
      "metadata": {
        "id": "RaMAOFepM6Io"
      },
      "source": [
        "Notice that we induced a NaN value while calculating percentage changes i.e. returns.\n",
        "\n",
        "When dealing with NaN values, we usually either removing the data point or fill it with a specific value. Here we fill it with 0:"
      ]
    },
    {
      "cell_type": "code",
      "metadata": {
        "colab": {
          "base_uri": "https://localhost:8080/"
        },
        "id": "-xyLb3A3HW99",
        "outputId": "9831c7d3-abb2-48f4-aaaa-b0451d8a1f53"
      },
      "source": [
        "daily_return = last_day.pct_change()\n",
        "print(daily_return.fillna(0))"
      ],
      "execution_count": null,
      "outputs": [
        {
          "output_type": "stream",
          "name": "stdout",
          "text": [
            "Date\n",
            "2017-01-31    0.000000\n",
            "2017-02-28    0.133778\n",
            "2017-03-31    0.048690\n",
            "2017-04-30   -0.000070\n",
            "2017-05-31    0.067807\n",
            "2017-06-30   -0.057214\n",
            "2017-07-31    0.032704\n",
            "2017-08-31    0.106999\n",
            "2017-09-30   -0.060244\n",
            "2017-10-31    0.096808\n",
            "2017-11-30    0.020278\n",
            "2017-12-31   -0.015246\n",
            "Freq: M, Name: Close, dtype: float64\n"
          ]
        }
      ]
    },
    {
      "cell_type": "code",
      "source": [
        "daily_return = last_day.pct_change() # Asigna, a la serie daily_return, el porcentaje de cambio entre dos elementos consecutivos de la serie last_day\n",
        "print(daily_return.fillna(0)) # Reemplaza los valores NaN, de la serie daily_return, con 0"
      ],
      "metadata": {
        "colab": {
          "base_uri": "https://localhost:8080/"
        },
        "id": "dh9zjxno1WhD",
        "outputId": "b76f1210-ad6b-46ec-c2b8-c250e0c391aa"
      },
      "execution_count": 33,
      "outputs": [
        {
          "output_type": "stream",
          "name": "stdout",
          "text": [
            "Date\n",
            "2016-01-10    0.000000\n",
            "2016-01-17    0.001753\n",
            "2016-01-24    0.044168\n",
            "2016-01-31   -0.040228\n",
            "2016-02-07   -0.028866\n",
            "2016-02-14   -0.000319\n",
            "2016-02-21    0.021811\n",
            "2016-02-28    0.009059\n",
            "2016-03-06    0.062945\n",
            "2016-03-13   -0.007281\n",
            "2016-03-20    0.035791\n",
            "2016-03-27   -0.002360\n",
            "2016-04-03    0.040882\n",
            "2016-04-10   -0.012092\n",
            "2016-04-17    0.010952\n",
            "2016-04-24   -0.037961\n",
            "2016-05-01   -0.112983\n",
            "2016-05-08   -0.004859\n",
            "2016-05-15   -0.023727\n",
            "2016-05-22    0.051922\n",
            "2016-05-29    0.053875\n",
            "2016-06-05   -0.024215\n",
            "2016-06-12    0.009293\n",
            "2016-06-19   -0.035414\n",
            "2016-06-26   -0.020245\n",
            "2016-07-03    0.026659\n",
            "2016-07-10    0.008239\n",
            "2016-07-17    0.021721\n",
            "2016-07-24   -0.001215\n",
            "2016-07-31    0.056254\n",
            "2016-08-07    0.036966\n",
            "2016-08-14    0.006513\n",
            "2016-08-21    0.010908\n",
            "2016-08-28   -0.022129\n",
            "2016-09-04    0.007387\n",
            "2016-09-11   -0.042699\n",
            "2016-09-18    0.114322\n",
            "2016-09-25   -0.019231\n",
            "2016-10-02    0.003017\n",
            "2016-10-09    0.008934\n",
            "2016-10-16    0.031299\n",
            "2016-10-23   -0.008756\n",
            "2016-10-30   -0.024700\n",
            "2016-11-06   -0.037999\n",
            "2016-11-13   -0.003767\n",
            "2016-11-20    0.015033\n",
            "2016-11-27    0.015719\n",
            "2016-12-04   -0.016907\n",
            "2016-12-11    0.036852\n",
            "2016-12-18    0.017727\n",
            "2016-12-25    0.004742\n",
            "2017-01-01   -0.006007\n",
            "Freq: W-SUN, Name: Close, dtype: float64\n"
          ]
        }
      ]
    },
    {
      "cell_type": "markdown",
      "metadata": {
        "id": "BYS10Om1NQVC"
      },
      "source": [
        "Alternatively, we can fill a NaN with the next fitted value. This is called 'backward fill', or 'bfill' in short:"
      ]
    },
    {
      "cell_type": "code",
      "metadata": {
        "colab": {
          "base_uri": "https://localhost:8080/"
        },
        "id": "J513kHeKHW9-",
        "outputId": "3ab13c91-dcf3-46c7-94dd-39acf7616a79"
      },
      "source": [
        "daily_return = last_day.pct_change()\n",
        "print(daily_return.fillna(method = 'bfill'))"
      ],
      "execution_count": null,
      "outputs": [
        {
          "output_type": "stream",
          "name": "stdout",
          "text": [
            "Date\n",
            "2017-01-31    0.133778\n",
            "2017-02-28    0.133778\n",
            "2017-03-31    0.048690\n",
            "2017-04-30   -0.000070\n",
            "2017-05-31    0.067807\n",
            "2017-06-30   -0.057214\n",
            "2017-07-31    0.032704\n",
            "2017-08-31    0.106999\n",
            "2017-09-30   -0.060244\n",
            "2017-10-31    0.096808\n",
            "2017-11-30    0.020278\n",
            "2017-12-31   -0.015246\n",
            "Freq: M, Name: Close, dtype: float64\n"
          ]
        }
      ]
    },
    {
      "cell_type": "code",
      "source": [
        "daily_return = last_day.pct_change() # Asigna, a la serie daily_return, el porcentaje de cambio entre dos elementos consecutivos de la serie last_day\n",
        "print(daily_return.fillna(method = 'bfill')) # Reemplaza los valores NaN, de la serie daily_return, con el siguiente valor ajustado"
      ],
      "metadata": {
        "colab": {
          "base_uri": "https://localhost:8080/"
        },
        "id": "LsQBschF10YE",
        "outputId": "af46a63f-8f73-4b05-b0c3-6c8644e12a2c"
      },
      "execution_count": 34,
      "outputs": [
        {
          "output_type": "stream",
          "name": "stdout",
          "text": [
            "Date\n",
            "2016-01-10    0.001753\n",
            "2016-01-17    0.001753\n",
            "2016-01-24    0.044168\n",
            "2016-01-31   -0.040228\n",
            "2016-02-07   -0.028866\n",
            "2016-02-14   -0.000319\n",
            "2016-02-21    0.021811\n",
            "2016-02-28    0.009059\n",
            "2016-03-06    0.062945\n",
            "2016-03-13   -0.007281\n",
            "2016-03-20    0.035791\n",
            "2016-03-27   -0.002360\n",
            "2016-04-03    0.040882\n",
            "2016-04-10   -0.012092\n",
            "2016-04-17    0.010952\n",
            "2016-04-24   -0.037961\n",
            "2016-05-01   -0.112983\n",
            "2016-05-08   -0.004859\n",
            "2016-05-15   -0.023727\n",
            "2016-05-22    0.051922\n",
            "2016-05-29    0.053875\n",
            "2016-06-05   -0.024215\n",
            "2016-06-12    0.009293\n",
            "2016-06-19   -0.035414\n",
            "2016-06-26   -0.020245\n",
            "2016-07-03    0.026659\n",
            "2016-07-10    0.008239\n",
            "2016-07-17    0.021721\n",
            "2016-07-24   -0.001215\n",
            "2016-07-31    0.056254\n",
            "2016-08-07    0.036966\n",
            "2016-08-14    0.006513\n",
            "2016-08-21    0.010908\n",
            "2016-08-28   -0.022129\n",
            "2016-09-04    0.007387\n",
            "2016-09-11   -0.042699\n",
            "2016-09-18    0.114322\n",
            "2016-09-25   -0.019231\n",
            "2016-10-02    0.003017\n",
            "2016-10-09    0.008934\n",
            "2016-10-16    0.031299\n",
            "2016-10-23   -0.008756\n",
            "2016-10-30   -0.024700\n",
            "2016-11-06   -0.037999\n",
            "2016-11-13   -0.003767\n",
            "2016-11-20    0.015033\n",
            "2016-11-27    0.015719\n",
            "2016-12-04   -0.016907\n",
            "2016-12-11    0.036852\n",
            "2016-12-18    0.017727\n",
            "2016-12-25    0.004742\n",
            "2017-01-01   -0.006007\n",
            "Freq: W-SUN, Name: Close, dtype: float64\n"
          ]
        }
      ]
    },
    {
      "cell_type": "markdown",
      "metadata": {
        "id": "bj8QUSgdNepf"
      },
      "source": [
        "As expected, since there is a 'backward fill' method, there must be a 'forward fill' method, or 'ffill' in short. However we can't use it here because the NaN is the first value.\n",
        "\n",
        "We can also simply remove NaN values by **_.dropna()_**"
      ]
    },
    {
      "cell_type": "code",
      "metadata": {
        "colab": {
          "base_uri": "https://localhost:8080/"
        },
        "id": "WG5ux1lqHW9-",
        "outputId": "8de2381f-7731-446b-c31f-be094e559ed3"
      },
      "source": [
        "daily_return = last_day.pct_change()\n",
        "daily_return.dropna()"
      ],
      "execution_count": null,
      "outputs": [
        {
          "output_type": "execute_result",
          "data": {
            "text/plain": [
              "Date\n",
              "2017-02-28    0.133778\n",
              "2017-03-31    0.048690\n",
              "2017-04-30   -0.000070\n",
              "2017-05-31    0.067807\n",
              "2017-06-30   -0.057214\n",
              "2017-07-31    0.032704\n",
              "2017-08-31    0.106999\n",
              "2017-09-30   -0.060244\n",
              "2017-10-31    0.096808\n",
              "2017-11-30    0.020278\n",
              "2017-12-31   -0.015246\n",
              "Freq: M, Name: Close, dtype: float64"
            ]
          },
          "metadata": {},
          "execution_count": 102
        }
      ]
    },
    {
      "cell_type": "code",
      "source": [
        "daily_return = last_day.pct_change() # Asigna, a la serie daily_return, el porcentaje de cambio entre dos elementos consecutivos de la serie last_day\n",
        "daily_return.dropna() # Elimina los valores NaN de la serie daily_return"
      ],
      "metadata": {
        "colab": {
          "base_uri": "https://localhost:8080/"
        },
        "id": "36jTnOwT2TZp",
        "outputId": "bb579322-dbf0-45e7-f174-862a090e1cfd"
      },
      "execution_count": 35,
      "outputs": [
        {
          "output_type": "execute_result",
          "data": {
            "text/plain": [
              "Date\n",
              "2016-01-17    0.001753\n",
              "2016-01-24    0.044168\n",
              "2016-01-31   -0.040228\n",
              "2016-02-07   -0.028866\n",
              "2016-02-14   -0.000319\n",
              "2016-02-21    0.021811\n",
              "2016-02-28    0.009059\n",
              "2016-03-06    0.062945\n",
              "2016-03-13   -0.007281\n",
              "2016-03-20    0.035791\n",
              "2016-03-27   -0.002360\n",
              "2016-04-03    0.040882\n",
              "2016-04-10   -0.012092\n",
              "2016-04-17    0.010952\n",
              "2016-04-24   -0.037961\n",
              "2016-05-01   -0.112983\n",
              "2016-05-08   -0.004859\n",
              "2016-05-15   -0.023727\n",
              "2016-05-22    0.051922\n",
              "2016-05-29    0.053875\n",
              "2016-06-05   -0.024215\n",
              "2016-06-12    0.009293\n",
              "2016-06-19   -0.035414\n",
              "2016-06-26   -0.020245\n",
              "2016-07-03    0.026659\n",
              "2016-07-10    0.008239\n",
              "2016-07-17    0.021721\n",
              "2016-07-24   -0.001215\n",
              "2016-07-31    0.056254\n",
              "2016-08-07    0.036966\n",
              "2016-08-14    0.006513\n",
              "2016-08-21    0.010908\n",
              "2016-08-28   -0.022129\n",
              "2016-09-04    0.007387\n",
              "2016-09-11   -0.042699\n",
              "2016-09-18    0.114322\n",
              "2016-09-25   -0.019231\n",
              "2016-10-02    0.003017\n",
              "2016-10-09    0.008934\n",
              "2016-10-16    0.031299\n",
              "2016-10-23   -0.008756\n",
              "2016-10-30   -0.024700\n",
              "2016-11-06   -0.037999\n",
              "2016-11-13   -0.003767\n",
              "2016-11-20    0.015033\n",
              "2016-11-27    0.015719\n",
              "2016-12-04   -0.016907\n",
              "2016-12-11    0.036852\n",
              "2016-12-18    0.017727\n",
              "2016-12-25    0.004742\n",
              "2017-01-01   -0.006007\n",
              "Freq: W-SUN, Name: Close, dtype: float64"
            ]
          },
          "metadata": {},
          "execution_count": 35
        }
      ]
    },
    {
      "cell_type": "markdown",
      "metadata": {
        "id": "nQH2eBWkNjdC"
      },
      "source": [
        "# DataFrame\n",
        "The **DataFrame** is the most commonly used data structure in Pandas. It is essentially a table, just like an Excel spreadsheet.\n",
        "\n",
        "More precisely, a DataFrame is a collection of Series objects, each of which may contain different data types. A DataFrame can be created from various data types: dictionary, 2-D numpy.ndarray, a Series or another DataFrame.\n",
        "\n",
        "## Create DataFrames\n",
        "The most common method of creating a DataFrame is passing a dictionary:"
      ]
    },
    {
      "cell_type": "code",
      "metadata": {
        "colab": {
          "base_uri": "https://localhost:8080/"
        },
        "id": "vd5Wf1ohHW9-",
        "outputId": "44179e64-8f91-4eac-9d41-bc81dac1603c"
      },
      "source": [
        "import pandas as pd\n",
        "\n",
        "dict = {'AAPL': [143.5, 144.09, 142.73, 144.18, 143.77],'GOOG':[898.7, 911.71, 906.69, 918.59, 926.99],\n",
        "        'IBM':[155.58, 153.67, 152.36, 152.94, 153.49]}\n",
        "data_index = pd.date_range('2017-07-03',periods = 5, freq = 'D')\n",
        "df = pd.DataFrame(dict, index = data_index)\n",
        "print(df)"
      ],
      "execution_count": null,
      "outputs": [
        {
          "output_type": "stream",
          "name": "stdout",
          "text": [
            "              AAPL    GOOG     IBM\n",
            "2017-07-03  143.50  898.70  155.58\n",
            "2017-07-04  144.09  911.71  153.67\n",
            "2017-07-05  142.73  906.69  152.36\n",
            "2017-07-06  144.18  918.59  152.94\n",
            "2017-07-07  143.77  926.99  153.49\n"
          ]
        }
      ]
    },
    {
      "cell_type": "code",
      "source": [
        "import pandas as pd\n",
        "\n",
        "dict = {'AAPL': [143.5, 144.09, 142.73, 144.18, 143.77],'GOOG':[898.7, 911.71, 906.69, 918.59, 926.99],\n",
        "        'IBM':[155.58, 153.67, 152.36, 152.94, 153.49]}\n",
        "data_index = pd.date_range('2017-02-01',periods = 5, freq = 'W') # Asigna a la variable data_index los indices semanales que serviran para el DataFrame df\n",
        "df = pd.DataFrame(dict, index = data_index) # Asigna al DataFrame df los valores del diccionario dict con indices de la variable data_index\n",
        "print(df)"
      ],
      "metadata": {
        "colab": {
          "base_uri": "https://localhost:8080/"
        },
        "id": "NGdBsVKS2iVT",
        "outputId": "3c848e1d-0cbf-4027-8087-9372bbee6360"
      },
      "execution_count": 38,
      "outputs": [
        {
          "output_type": "stream",
          "name": "stdout",
          "text": [
            "              AAPL    GOOG     IBM\n",
            "2017-02-05  143.50  898.70  155.58\n",
            "2017-02-12  144.09  911.71  153.67\n",
            "2017-02-19  142.73  906.69  152.36\n",
            "2017-02-26  144.18  918.59  152.94\n",
            "2017-03-05  143.77  926.99  153.49\n"
          ]
        }
      ]
    },
    {
      "cell_type": "markdown",
      "metadata": {
        "id": "0uYmLQTgOPnX"
      },
      "source": [
        "## Manipulating DataFrames\n",
        "We can fetch values in a DataFrame by columns and index. Each column in a DataFrame is essentially a Pandas Series. We can fetch a column by square brackets: **df['column_name']**\n",
        "\n",
        "If a column name contains no spaces, then we can also use df.column_name to fetch a column:"
      ]
    },
    {
      "cell_type": "code",
      "metadata": {
        "colab": {
          "base_uri": "https://localhost:8080/"
        },
        "id": "2pB2f7lBHW9_",
        "outputId": "fd17e613-08f4-470e-981d-727c3ddfb954"
      },
      "source": [
        "df = aapl_table\n",
        "print(df.Close.tail(5))\n",
        "print(df['Volume'].tail(5))"
      ],
      "execution_count": null,
      "outputs": [
        {
          "output_type": "stream",
          "name": "stdout",
          "text": [
            "Date\n",
            "2017-12-22    41.906776\n",
            "2017-12-26    40.843601\n",
            "2017-12-27    40.850777\n",
            "2017-12-28    40.965721\n",
            "2017-12-29    40.522736\n",
            "Name: Close, dtype: float64\n",
            "Date\n",
            "2017-12-22     65397600\n",
            "2017-12-26    132742000\n",
            "2017-12-27     85992800\n",
            "2017-12-28     65920800\n",
            "2017-12-29    103999600\n",
            "Name: Volume, dtype: int64\n"
          ]
        }
      ]
    },
    {
      "cell_type": "code",
      "source": [
        "df = aapl_table # Asigna al DataFrame df el contenido de la tabla appl_table\n",
        "print(df.Close.tail(3)) # Imprime los ultimos 3 registros del DataFrame df\n",
        "print(df['Volume'].tail(3)) # Imprime el volumen de los ultimos 3 registros del DataFrame df"
      ],
      "metadata": {
        "colab": {
          "base_uri": "https://localhost:8080/"
        },
        "id": "Yi7oVz-44Ptk",
        "outputId": "7b4932ca-4faa-4ff1-e77c-99caebfa4a29"
      },
      "execution_count": 39,
      "outputs": [
        {
          "output_type": "stream",
          "name": "stdout",
          "text": [
            "Date\n",
            "2017-12-27    40.739349\n",
            "2017-12-28    40.853981\n",
            "2017-12-29    40.412193\n",
            "Name: Close, dtype: float64\n",
            "Date\n",
            "2017-12-27     85992800\n",
            "2017-12-28     65920800\n",
            "2017-12-29    103999600\n",
            "Name: Volume, dtype: int64\n"
          ]
        }
      ]
    },
    {
      "cell_type": "markdown",
      "metadata": {
        "id": "z0ugOel9O4-P"
      },
      "source": [
        "All the methods we applied to a Series index such as iloc[], loc[] and resampling methods, can also be applied to a DataFrame:"
      ]
    },
    {
      "cell_type": "code",
      "metadata": {
        "colab": {
          "base_uri": "https://localhost:8080/"
        },
        "id": "_8dfjkedHW9_",
        "outputId": "893c8607-cf18-4e12-a0d5-e697c91ac7c1"
      },
      "source": [
        "aapl_2016 = df['2016']\n",
        "aapl_month = aapl_2016.resample('M').agg(lambda x: x[-1])\n",
        "print(aapl_month)"
      ],
      "execution_count": null,
      "outputs": [
        {
          "output_type": "stream",
          "name": "stdout",
          "text": [
            "                 Open       High        Low  ...     Volume  Dividends  Stock Splits\n",
            "Date                                         ...                                    \n",
            "2016-01-31  21.852388  22.440250  21.750952  ...  257666000        0.0             0\n",
            "2016-02-29  22.450761  22.768308  22.402086  ...  140865200        0.0             0\n",
            "2016-03-31  25.431520  25.473242  25.236819  ...  103553600        0.0             0\n",
            "2016-04-30  21.785529  21.954734  21.442488  ...  274126000        0.0             0\n",
            "2016-05-31  23.226409  23.412967  23.044516  ...  169228800        0.0             0\n",
            "2016-06-30  22.023112  22.333262  21.990464  ...  143345600        0.0             0\n",
            "2016-07-31  24.296780  24.380731  24.177849  ...  110934800        0.0             0\n",
            "2016-08-31  24.773054  24.986412  24.768364  ...  118649600        0.0             0\n",
            "2016-09-30  26.367388  26.580747  26.212645  ...  145516400        0.0             0\n",
            "2016-10-31  26.646396  26.782384  26.540888  ...  105677600        0.0             0\n",
            "2016-11-30  26.300094  26.441492  25.986660  ...  144649200        0.0             0\n",
            "2016-12-31  27.490193  27.619807  27.202683  ...  122345200        0.0             0\n",
            "\n",
            "[12 rows x 7 columns]\n"
          ]
        }
      ]
    },
    {
      "cell_type": "code",
      "source": [
        "aapl_2016 = df['2016']\n",
        "aapl_week = aapl_2016.resample('W').agg(lambda x: x[-1]) # Asigna, al DataFrame aapl_week, los ultimos intervalos semanales del periodo del DataFrame aapl\n",
        "print(aapl_week)"
      ],
      "metadata": {
        "colab": {
          "base_uri": "https://localhost:8080/"
        },
        "id": "Ob_xJyVk4sMA",
        "outputId": "9a5d43f5-5aca-48ba-c0c7-09126a3c3a26"
      },
      "execution_count": 43,
      "outputs": [
        {
          "output_type": "stream",
          "name": "stdout",
          "text": [
            "                 Open       High        Low      Close     Volume  Dividends  \\\n",
            "Date                                                                           \n",
            "2016-01-10  22.657217  22.785964  22.245686  22.291666  283192000        0.0   \n",
            "2016-01-17  22.116935  22.464093  21.923815  22.330748  319335600        0.0   \n",
            "2016-01-24  22.675606  23.326240  22.615832  23.317043  263202000        0.0   \n",
            "2016-01-31  21.792775  22.379034  21.691616  22.379034  257666000        0.0   \n",
            "2016-02-07  22.310923  22.403385  21.656761  21.733040  185672400        0.0   \n",
            "2016-02-14  21.772329  21.843986  21.499568  21.726097  161405600        0.0   \n",
            "2016-02-21  22.190718  22.366395  22.144488  22.199965  141496800        0.0   \n",
            "2016-02-28  22.468101  22.657646  22.324787  22.401068  115964400        0.0   \n",
            "2016-03-06  23.663170  23.982161  23.432016  23.811108  184220400        0.0   \n",
            "2016-03-13  23.633119  23.642365  23.462066  23.637743  109632800        0.0   \n",
            "2016-03-20  24.580843  24.617828  24.315018  24.483759  176820800        0.0   \n",
            "2016-03-27  24.379736  24.560036  24.245667  24.425966  104532000        0.0   \n",
            "2016-04-03  25.144861  25.426869  25.010792  25.424557  103496000        0.0   \n",
            "2016-04-10  25.174911  25.373701  25.003856  25.117123   94326800        0.0   \n",
            "2016-04-17  25.914600  25.958520  25.364456  25.392193  187756000        0.0   \n",
            "2016-04-24  24.273415  24.613211  24.183266  24.428288  134732400        0.0   \n",
            "2016-05-01  21.726104  21.894847  21.383998  21.668316  274126000        0.0   \n",
            "2016-05-08  21.714191  21.732795  21.360698  21.563026  174799600        0.0   \n",
            "2016-05-15  20.930465  21.318841  20.930465  21.051395  177571200        0.0   \n",
            "2016-05-22  22.009545  22.193268  21.981637  22.144430  128104000        0.0   \n",
            "2016-05-29  23.125838  23.365375  23.081651  23.337467  145364800        0.0   \n",
            "2016-06-05  22.742110  22.853739  22.663039  22.772343  114019600        0.0   \n",
            "2016-06-12  22.914204  23.104903  22.902577  22.983973  126851600        0.0   \n",
            "2016-06-19  22.470019  22.476995  22.163039  22.170015  244032800        0.0   \n",
            "2016-06-26  21.607218  22.014199  21.546752  21.721172  301245600        0.0   \n",
            "2016-07-03  22.207221  22.435131  22.170012  22.300245  104106000        0.0   \n",
            "2016-07-10  22.439780  22.532804  22.337454  22.483967  115648400        0.0   \n",
            "2016-07-17  23.004906  23.093280  22.907231  22.972347  120548000        0.0   \n",
            "2016-07-24  23.083977  23.093280  22.863043  22.944441  113254800        0.0   \n",
            "2016-07-31  24.230501  24.314223  24.111894  24.235151  110934800        0.0   \n",
            "2016-08-07  24.848109  25.170782  24.827066  25.131033  162213600        0.0   \n",
            "2016-08-14  25.201180  25.355502  25.201180  25.294708   74641600        0.0   \n",
            "2016-08-21  25.432661  25.647777  25.336795  25.570616  101472400        0.0   \n",
            "2016-08-28  25.114664  25.240926  24.857460  25.004768  111065200        0.0   \n",
            "2016-09-04  25.182466  25.252612  24.976704  25.189482  107210000        0.0   \n",
            "2016-09-11  24.466980  24.719507  24.113911  24.113911  186228000        0.0   \n",
            "2016-09-18  26.917416  27.153574  26.664890  26.870651  319547600        0.0   \n",
            "2016-09-25  26.753745  26.840259  26.082681  26.353912  209924800        0.0   \n",
            "2016-10-02  26.295458  26.508235  26.141137  26.433413  145516400        0.0   \n",
            "2016-10-09  26.728026  26.786481  26.540971  26.669571   97433600        0.0   \n",
            "2016-10-16  27.562762  27.630570  27.387397  27.504307  142608800        0.0   \n",
            "2016-10-23  27.312578  27.335961  27.188653  27.263475   92770800        0.0   \n",
            "2016-10-30  26.625144  26.938463  26.526938  26.590071  151446800        0.0   \n",
            "2016-11-06  25.506829  25.911066  25.408121  25.579685  123348000        0.0   \n",
            "2016-11-13  25.175455  25.586742  25.041493  25.483332  136575600        0.0   \n",
            "2016-11-20  25.786505  25.979222  25.772404  25.866411  113715600        0.0   \n",
            "2016-11-27  26.117886  26.291803  26.075582  26.273001   45903600        0.0   \n",
            "2016-12-04  25.657247  25.873466  25.582041  25.828814  106112000        0.0   \n",
            "2016-12-11  26.395211  26.956911  26.395211  26.780645  137610400        0.0   \n",
            "2016-12-18  27.372903  27.379953  27.180185  27.255392  177404400        0.0   \n",
            "2016-12-25  27.166078  27.384647  27.166078  27.384647   56998000        0.0   \n",
            "2017-01-01  27.415205  27.544465  27.128479  27.220137  122345200        0.0   \n",
            "\n",
            "            Stock Splits  \n",
            "Date                      \n",
            "2016-01-10             0  \n",
            "2016-01-17             0  \n",
            "2016-01-24             0  \n",
            "2016-01-31             0  \n",
            "2016-02-07             0  \n",
            "2016-02-14             0  \n",
            "2016-02-21             0  \n",
            "2016-02-28             0  \n",
            "2016-03-06             0  \n",
            "2016-03-13             0  \n",
            "2016-03-20             0  \n",
            "2016-03-27             0  \n",
            "2016-04-03             0  \n",
            "2016-04-10             0  \n",
            "2016-04-17             0  \n",
            "2016-04-24             0  \n",
            "2016-05-01             0  \n",
            "2016-05-08             0  \n",
            "2016-05-15             0  \n",
            "2016-05-22             0  \n",
            "2016-05-29             0  \n",
            "2016-06-05             0  \n",
            "2016-06-12             0  \n",
            "2016-06-19             0  \n",
            "2016-06-26             0  \n",
            "2016-07-03             0  \n",
            "2016-07-10             0  \n",
            "2016-07-17             0  \n",
            "2016-07-24             0  \n",
            "2016-07-31             0  \n",
            "2016-08-07             0  \n",
            "2016-08-14             0  \n",
            "2016-08-21             0  \n",
            "2016-08-28             0  \n",
            "2016-09-04             0  \n",
            "2016-09-11             0  \n",
            "2016-09-18             0  \n",
            "2016-09-25             0  \n",
            "2016-10-02             0  \n",
            "2016-10-09             0  \n",
            "2016-10-16             0  \n",
            "2016-10-23             0  \n",
            "2016-10-30             0  \n",
            "2016-11-06             0  \n",
            "2016-11-13             0  \n",
            "2016-11-20             0  \n",
            "2016-11-27             0  \n",
            "2016-12-04             0  \n",
            "2016-12-11             0  \n",
            "2016-12-18             0  \n",
            "2016-12-25             0  \n",
            "2017-01-01             0  \n"
          ]
        },
        {
          "output_type": "stream",
          "name": "stderr",
          "text": [
            "/usr/local/lib/python3.7/dist-packages/ipykernel_launcher.py:1: FutureWarning: Indexing a DataFrame with a datetimelike index using a single string to slice the rows, like `frame[string]`, is deprecated and will be removed in a future version. Use `frame.loc[string]` instead.\n",
            "  \"\"\"Entry point for launching an IPython kernel.\n"
          ]
        }
      ]
    },
    {
      "cell_type": "markdown",
      "metadata": {
        "id": "CqrbrbFZPTJe"
      },
      "source": [
        "We may select certain columns of a DataFrame using their names:"
      ]
    },
    {
      "cell_type": "code",
      "metadata": {
        "colab": {
          "base_uri": "https://localhost:8080/"
        },
        "id": "7bQGeyCAHW9_",
        "outputId": "7a427233-719f-482d-ec12-28baf91dd1de"
      },
      "source": [
        "aapl_bar = aapl_month[['Open', 'High', 'Low', 'Close']]\n",
        "print(aapl_bar)"
      ],
      "execution_count": null,
      "outputs": [
        {
          "output_type": "stream",
          "name": "stdout",
          "text": [
            "                 Open       High        Low      Close\n",
            "Date                                                  \n",
            "2016-01-31  21.852388  22.440250  21.750952  22.440250\n",
            "2016-02-29  22.450761  22.768308  22.402086  22.411358\n",
            "2016-03-31  25.431520  25.473242  25.236819  25.262316\n",
            "2016-04-30  21.785529  21.954734  21.442488  21.727583\n",
            "2016-05-31  23.226409  23.412967  23.044516  23.287041\n",
            "2016-06-30  22.023112  22.333262  21.990464  22.293619\n",
            "2016-07-31  24.296780  24.380731  24.177849  24.301443\n",
            "2016-08-31  24.773054  24.986412  24.768364  24.876215\n",
            "2016-09-30  26.367388  26.580747  26.212645  26.505720\n",
            "2016-10-31  26.646396  26.782384  26.540888  26.620605\n",
            "2016-11-30  26.300094  26.441492  25.986660  26.045576\n",
            "2016-12-31  27.490193  27.619807  27.202683  27.294592\n"
          ]
        }
      ]
    },
    {
      "cell_type": "code",
      "source": [
        "aapl_bar = aapl_week[['Open', 'High', 'Low', 'Close']] # Asigna al DataFrame appl_bar los registros cuyos campos son 'Open', 'High', 'Low' y 'Close' del DataFrame aapl_week\n",
        "print(aapl_bar)"
      ],
      "metadata": {
        "colab": {
          "base_uri": "https://localhost:8080/"
        },
        "id": "gYLEa4as5-Ke",
        "outputId": "de8acf27-033f-40cb-9360-f6321e9cb97c"
      },
      "execution_count": 44,
      "outputs": [
        {
          "output_type": "stream",
          "name": "stdout",
          "text": [
            "                 Open       High        Low      Close\n",
            "Date                                                  \n",
            "2016-01-10  22.657217  22.785964  22.245686  22.291666\n",
            "2016-01-17  22.116935  22.464093  21.923815  22.330748\n",
            "2016-01-24  22.675606  23.326240  22.615832  23.317043\n",
            "2016-01-31  21.792775  22.379034  21.691616  22.379034\n",
            "2016-02-07  22.310923  22.403385  21.656761  21.733040\n",
            "2016-02-14  21.772329  21.843986  21.499568  21.726097\n",
            "2016-02-21  22.190718  22.366395  22.144488  22.199965\n",
            "2016-02-28  22.468101  22.657646  22.324787  22.401068\n",
            "2016-03-06  23.663170  23.982161  23.432016  23.811108\n",
            "2016-03-13  23.633119  23.642365  23.462066  23.637743\n",
            "2016-03-20  24.580843  24.617828  24.315018  24.483759\n",
            "2016-03-27  24.379736  24.560036  24.245667  24.425966\n",
            "2016-04-03  25.144861  25.426869  25.010792  25.424557\n",
            "2016-04-10  25.174911  25.373701  25.003856  25.117123\n",
            "2016-04-17  25.914600  25.958520  25.364456  25.392193\n",
            "2016-04-24  24.273415  24.613211  24.183266  24.428288\n",
            "2016-05-01  21.726104  21.894847  21.383998  21.668316\n",
            "2016-05-08  21.714191  21.732795  21.360698  21.563026\n",
            "2016-05-15  20.930465  21.318841  20.930465  21.051395\n",
            "2016-05-22  22.009545  22.193268  21.981637  22.144430\n",
            "2016-05-29  23.125838  23.365375  23.081651  23.337467\n",
            "2016-06-05  22.742110  22.853739  22.663039  22.772343\n",
            "2016-06-12  22.914204  23.104903  22.902577  22.983973\n",
            "2016-06-19  22.470019  22.476995  22.163039  22.170015\n",
            "2016-06-26  21.607218  22.014199  21.546752  21.721172\n",
            "2016-07-03  22.207221  22.435131  22.170012  22.300245\n",
            "2016-07-10  22.439780  22.532804  22.337454  22.483967\n",
            "2016-07-17  23.004906  23.093280  22.907231  22.972347\n",
            "2016-07-24  23.083977  23.093280  22.863043  22.944441\n",
            "2016-07-31  24.230501  24.314223  24.111894  24.235151\n",
            "2016-08-07  24.848109  25.170782  24.827066  25.131033\n",
            "2016-08-14  25.201180  25.355502  25.201180  25.294708\n",
            "2016-08-21  25.432661  25.647777  25.336795  25.570616\n",
            "2016-08-28  25.114664  25.240926  24.857460  25.004768\n",
            "2016-09-04  25.182466  25.252612  24.976704  25.189482\n",
            "2016-09-11  24.466980  24.719507  24.113911  24.113911\n",
            "2016-09-18  26.917416  27.153574  26.664890  26.870651\n",
            "2016-09-25  26.753745  26.840259  26.082681  26.353912\n",
            "2016-10-02  26.295458  26.508235  26.141137  26.433413\n",
            "2016-10-09  26.728026  26.786481  26.540971  26.669571\n",
            "2016-10-16  27.562762  27.630570  27.387397  27.504307\n",
            "2016-10-23  27.312578  27.335961  27.188653  27.263475\n",
            "2016-10-30  26.625144  26.938463  26.526938  26.590071\n",
            "2016-11-06  25.506829  25.911066  25.408121  25.579685\n",
            "2016-11-13  25.175455  25.586742  25.041493  25.483332\n",
            "2016-11-20  25.786505  25.979222  25.772404  25.866411\n",
            "2016-11-27  26.117886  26.291803  26.075582  26.273001\n",
            "2016-12-04  25.657247  25.873466  25.582041  25.828814\n",
            "2016-12-11  26.395211  26.956911  26.395211  26.780645\n",
            "2016-12-18  27.372903  27.379953  27.180185  27.255392\n",
            "2016-12-25  27.166078  27.384647  27.166078  27.384647\n",
            "2017-01-01  27.415205  27.544465  27.128479  27.220137\n"
          ]
        }
      ]
    },
    {
      "cell_type": "markdown",
      "metadata": {
        "id": "8CQaZCAQP68O"
      },
      "source": [
        "We can even specify both rows and columns using loc[]. The row indices and column names are separated by a comma:"
      ]
    },
    {
      "cell_type": "code",
      "metadata": {
        "colab": {
          "base_uri": "https://localhost:8080/"
        },
        "id": "YjWWiHVpHW-A",
        "outputId": "5972e593-5289-4636-f913-2c04e9fe179c"
      },
      "source": [
        "print(aapl_month.loc['2016-03':'2016-06',['Open', 'High', 'Low', 'Close']])"
      ],
      "execution_count": null,
      "outputs": [
        {
          "output_type": "stream",
          "name": "stdout",
          "text": [
            "                 Open       High        Low      Close\n",
            "Date                                                  \n",
            "2016-03-31  25.431520  25.473242  25.236819  25.262316\n",
            "2016-04-30  21.785529  21.954734  21.442488  21.727583\n",
            "2016-05-31  23.226409  23.412967  23.044516  23.287041\n",
            "2016-06-30  22.023112  22.333262  21.990464  22.293619\n"
          ]
        }
      ]
    },
    {
      "cell_type": "code",
      "source": [
        "print(aapl_week.loc['2016-02':'2016-04',['Open', 'High', 'Low', 'Close']]) # Imprime los registros, del DataFrame aapl_week, en un intervalo especifico"
      ],
      "metadata": {
        "colab": {
          "base_uri": "https://localhost:8080/"
        },
        "id": "BH0YOF8U6XCH",
        "outputId": "18073568-935b-499d-b03d-09b763a55472"
      },
      "execution_count": 45,
      "outputs": [
        {
          "output_type": "stream",
          "name": "stdout",
          "text": [
            "                 Open       High        Low      Close\n",
            "Date                                                  \n",
            "2016-02-07  22.310923  22.403385  21.656761  21.733040\n",
            "2016-02-14  21.772329  21.843986  21.499568  21.726097\n",
            "2016-02-21  22.190718  22.366395  22.144488  22.199965\n",
            "2016-02-28  22.468101  22.657646  22.324787  22.401068\n",
            "2016-03-06  23.663170  23.982161  23.432016  23.811108\n",
            "2016-03-13  23.633119  23.642365  23.462066  23.637743\n",
            "2016-03-20  24.580843  24.617828  24.315018  24.483759\n",
            "2016-03-27  24.379736  24.560036  24.245667  24.425966\n",
            "2016-04-03  25.144861  25.426869  25.010792  25.424557\n",
            "2016-04-10  25.174911  25.373701  25.003856  25.117123\n",
            "2016-04-17  25.914600  25.958520  25.364456  25.392193\n",
            "2016-04-24  24.273415  24.613211  24.183266  24.428288\n"
          ]
        }
      ]
    },
    {
      "cell_type": "markdown",
      "metadata": {
        "id": "Xcn_pHNLQBEH"
      },
      "source": [
        "The subset methods in DataFrame is quite useful. By writing logical statements in square brackets, we can make customized subsets:"
      ]
    },
    {
      "cell_type": "code",
      "metadata": {
        "colab": {
          "base_uri": "https://localhost:8080/"
        },
        "id": "RxKg4dObHW-A",
        "outputId": "907ce3c6-da1b-4b18-c8e2-daf5a2bb23e7"
      },
      "source": [
        "import numpy as np\n",
        "\n",
        "above = aapl_bar[aapl_bar.Close > np.mean(aapl_bar.Close)]\n",
        "print(above)"
      ],
      "execution_count": null,
      "outputs": [
        {
          "output_type": "stream",
          "name": "stdout",
          "text": [
            "                 Open       High        Low      Close\n",
            "Date                                                  \n",
            "2016-03-31  25.431520  25.473242  25.236819  25.262316\n",
            "2016-08-31  24.773054  24.986412  24.768364  24.876215\n",
            "2016-09-30  26.367388  26.580747  26.212645  26.505720\n",
            "2016-10-31  26.646396  26.782384  26.540888  26.620605\n",
            "2016-11-30  26.300094  26.441492  25.986660  26.045576\n",
            "2016-12-31  27.490193  27.619807  27.202683  27.294592\n"
          ]
        }
      ]
    },
    {
      "cell_type": "code",
      "source": [
        "import numpy as np\n",
        "\n",
        "above = aapl_bar[aapl_bar.Close < np.mean(aapl_bar.Close)] # Asigna al DataFrame above los registros del DataFrame aapl_bar menores que su media\n",
        "print(above)"
      ],
      "metadata": {
        "colab": {
          "base_uri": "https://localhost:8080/"
        },
        "id": "r3sUuyq86p26",
        "outputId": "262c46f1-7f01-4944-d92b-868b2bb94176"
      },
      "execution_count": 49,
      "outputs": [
        {
          "output_type": "stream",
          "name": "stdout",
          "text": [
            "                 Open       High        Low      Close\n",
            "Date                                                  \n",
            "2016-01-10  22.657217  22.785964  22.245686  22.291666\n",
            "2016-01-17  22.116935  22.464093  21.923815  22.330748\n",
            "2016-01-24  22.675606  23.326240  22.615832  23.317043\n",
            "2016-01-31  21.792775  22.379034  21.691616  22.379034\n",
            "2016-02-07  22.310923  22.403385  21.656761  21.733040\n",
            "2016-02-14  21.772329  21.843986  21.499568  21.726097\n",
            "2016-02-21  22.190718  22.366395  22.144488  22.199965\n",
            "2016-02-28  22.468101  22.657646  22.324787  22.401068\n",
            "2016-03-06  23.663170  23.982161  23.432016  23.811108\n",
            "2016-03-13  23.633119  23.642365  23.462066  23.637743\n",
            "2016-05-01  21.726104  21.894847  21.383998  21.668316\n",
            "2016-05-08  21.714191  21.732795  21.360698  21.563026\n",
            "2016-05-15  20.930465  21.318841  20.930465  21.051395\n",
            "2016-05-22  22.009545  22.193268  21.981637  22.144430\n",
            "2016-05-29  23.125838  23.365375  23.081651  23.337467\n",
            "2016-06-05  22.742110  22.853739  22.663039  22.772343\n",
            "2016-06-12  22.914204  23.104903  22.902577  22.983973\n",
            "2016-06-19  22.470019  22.476995  22.163039  22.170015\n",
            "2016-06-26  21.607218  22.014199  21.546752  21.721172\n",
            "2016-07-03  22.207221  22.435131  22.170012  22.300245\n",
            "2016-07-10  22.439780  22.532804  22.337454  22.483967\n",
            "2016-07-17  23.004906  23.093280  22.907231  22.972347\n",
            "2016-07-24  23.083977  23.093280  22.863043  22.944441\n",
            "2016-07-31  24.230501  24.314223  24.111894  24.235151\n",
            "2016-09-11  24.466980  24.719507  24.113911  24.113911\n"
          ]
        }
      ]
    },
    {
      "cell_type": "markdown",
      "metadata": {
        "id": "wcm_UadkQLL5"
      },
      "source": [
        "## Data Validation\n",
        "As mentioned, all methods that apply to a Series can also be applied to a DataFrame. Here we add a new column to an existing DataFrame:"
      ]
    },
    {
      "cell_type": "code",
      "metadata": {
        "colab": {
          "base_uri": "https://localhost:8080/"
        },
        "id": "jZXFdOVFHW-A",
        "outputId": "35e1d9c9-1460-417c-940e-c6fa70c9947b"
      },
      "source": [
        "aapl_bar['rate_return'] = aapl_bar.Close.pct_change()\n",
        "print(aapl_bar)"
      ],
      "execution_count": null,
      "outputs": [
        {
          "output_type": "stream",
          "name": "stdout",
          "text": [
            "                 Open       High        Low      Close  rate_return\n",
            "Date                                                               \n",
            "2016-01-31  21.852388  22.440250  21.750952  22.440250          NaN\n",
            "2016-02-29  22.450761  22.768308  22.402086  22.411358    -0.001288\n",
            "2016-03-31  25.431520  25.473242  25.236819  25.262316     0.127210\n",
            "2016-04-30  21.785529  21.954734  21.442488  21.727583    -0.139921\n",
            "2016-05-31  23.226409  23.412967  23.044516  23.287041     0.071773\n",
            "2016-06-30  22.023112  22.333262  21.990464  22.293619    -0.042660\n",
            "2016-07-31  24.296780  24.380731  24.177849  24.301443     0.090063\n",
            "2016-08-31  24.773054  24.986412  24.768364  24.876215     0.023652\n",
            "2016-09-30  26.367388  26.580747  26.212645  26.505720     0.065505\n",
            "2016-10-31  26.646396  26.782384  26.540888  26.620605     0.004334\n",
            "2016-11-30  26.300094  26.441492  25.986660  26.045576    -0.021601\n",
            "2016-12-31  27.490193  27.619807  27.202683  27.294592     0.047955\n"
          ]
        },
        {
          "output_type": "stream",
          "name": "stderr",
          "text": [
            "/usr/local/lib/python3.7/dist-packages/ipykernel_launcher.py:1: SettingWithCopyWarning: \n",
            "A value is trying to be set on a copy of a slice from a DataFrame.\n",
            "Try using .loc[row_indexer,col_indexer] = value instead\n",
            "\n",
            "See the caveats in the documentation: https://pandas.pydata.org/pandas-docs/stable/user_guide/indexing.html#returning-a-view-versus-a-copy\n",
            "  \"\"\"Entry point for launching an IPython kernel.\n"
          ]
        }
      ]
    },
    {
      "cell_type": "code",
      "source": [
        "aapl_bar['rate_return'] = aapl_bar.Close.pct_change() # Agrega un nuevo campo al DataFrame aapl_bar, a partir del porcentaje de cambio del DataFrame aapl_bar\n",
        "print(aapl_bar)"
      ],
      "metadata": {
        "colab": {
          "base_uri": "https://localhost:8080/"
        },
        "id": "hWYa5YK07Dun",
        "outputId": "1735cb79-ca4f-4f75-8830-2aa0234aebe7"
      },
      "execution_count": 50,
      "outputs": [
        {
          "output_type": "stream",
          "name": "stdout",
          "text": [
            "                 Open       High        Low      Close  rate_return\n",
            "Date                                                               \n",
            "2016-01-10  22.657217  22.785964  22.245686  22.291666          NaN\n",
            "2016-01-17  22.116935  22.464093  21.923815  22.330748     0.001753\n",
            "2016-01-24  22.675606  23.326240  22.615832  23.317043     0.044168\n",
            "2016-01-31  21.792775  22.379034  21.691616  22.379034    -0.040228\n",
            "2016-02-07  22.310923  22.403385  21.656761  21.733040    -0.028866\n",
            "2016-02-14  21.772329  21.843986  21.499568  21.726097    -0.000319\n",
            "2016-02-21  22.190718  22.366395  22.144488  22.199965     0.021811\n",
            "2016-02-28  22.468101  22.657646  22.324787  22.401068     0.009059\n",
            "2016-03-06  23.663170  23.982161  23.432016  23.811108     0.062945\n",
            "2016-03-13  23.633119  23.642365  23.462066  23.637743    -0.007281\n",
            "2016-03-20  24.580843  24.617828  24.315018  24.483759     0.035791\n",
            "2016-03-27  24.379736  24.560036  24.245667  24.425966    -0.002360\n",
            "2016-04-03  25.144861  25.426869  25.010792  25.424557     0.040882\n",
            "2016-04-10  25.174911  25.373701  25.003856  25.117123    -0.012092\n",
            "2016-04-17  25.914600  25.958520  25.364456  25.392193     0.010952\n",
            "2016-04-24  24.273415  24.613211  24.183266  24.428288    -0.037961\n",
            "2016-05-01  21.726104  21.894847  21.383998  21.668316    -0.112983\n",
            "2016-05-08  21.714191  21.732795  21.360698  21.563026    -0.004859\n",
            "2016-05-15  20.930465  21.318841  20.930465  21.051395    -0.023727\n",
            "2016-05-22  22.009545  22.193268  21.981637  22.144430     0.051922\n",
            "2016-05-29  23.125838  23.365375  23.081651  23.337467     0.053875\n",
            "2016-06-05  22.742110  22.853739  22.663039  22.772343    -0.024215\n",
            "2016-06-12  22.914204  23.104903  22.902577  22.983973     0.009293\n",
            "2016-06-19  22.470019  22.476995  22.163039  22.170015    -0.035414\n",
            "2016-06-26  21.607218  22.014199  21.546752  21.721172    -0.020245\n",
            "2016-07-03  22.207221  22.435131  22.170012  22.300245     0.026659\n",
            "2016-07-10  22.439780  22.532804  22.337454  22.483967     0.008239\n",
            "2016-07-17  23.004906  23.093280  22.907231  22.972347     0.021721\n",
            "2016-07-24  23.083977  23.093280  22.863043  22.944441    -0.001215\n",
            "2016-07-31  24.230501  24.314223  24.111894  24.235151     0.056254\n",
            "2016-08-07  24.848109  25.170782  24.827066  25.131033     0.036966\n",
            "2016-08-14  25.201180  25.355502  25.201180  25.294708     0.006513\n",
            "2016-08-21  25.432661  25.647777  25.336795  25.570616     0.010908\n",
            "2016-08-28  25.114664  25.240926  24.857460  25.004768    -0.022129\n",
            "2016-09-04  25.182466  25.252612  24.976704  25.189482     0.007387\n",
            "2016-09-11  24.466980  24.719507  24.113911  24.113911    -0.042699\n",
            "2016-09-18  26.917416  27.153574  26.664890  26.870651     0.114322\n",
            "2016-09-25  26.753745  26.840259  26.082681  26.353912    -0.019231\n",
            "2016-10-02  26.295458  26.508235  26.141137  26.433413     0.003017\n",
            "2016-10-09  26.728026  26.786481  26.540971  26.669571     0.008934\n",
            "2016-10-16  27.562762  27.630570  27.387397  27.504307     0.031299\n",
            "2016-10-23  27.312578  27.335961  27.188653  27.263475    -0.008756\n",
            "2016-10-30  26.625144  26.938463  26.526938  26.590071    -0.024700\n",
            "2016-11-06  25.506829  25.911066  25.408121  25.579685    -0.037999\n",
            "2016-11-13  25.175455  25.586742  25.041493  25.483332    -0.003767\n",
            "2016-11-20  25.786505  25.979222  25.772404  25.866411     0.015033\n",
            "2016-11-27  26.117886  26.291803  26.075582  26.273001     0.015719\n",
            "2016-12-04  25.657247  25.873466  25.582041  25.828814    -0.016907\n",
            "2016-12-11  26.395211  26.956911  26.395211  26.780645     0.036852\n",
            "2016-12-18  27.372903  27.379953  27.180185  27.255392     0.017727\n",
            "2016-12-25  27.166078  27.384647  27.166078  27.384647     0.004742\n",
            "2017-01-01  27.415205  27.544465  27.128479  27.220137    -0.006007\n"
          ]
        },
        {
          "output_type": "stream",
          "name": "stderr",
          "text": [
            "/usr/local/lib/python3.7/dist-packages/ipykernel_launcher.py:1: SettingWithCopyWarning: \n",
            "A value is trying to be set on a copy of a slice from a DataFrame.\n",
            "Try using .loc[row_indexer,col_indexer] = value instead\n",
            "\n",
            "See the caveats in the documentation: https://pandas.pydata.org/pandas-docs/stable/user_guide/indexing.html#returning-a-view-versus-a-copy\n",
            "  \"\"\"Entry point for launching an IPython kernel.\n"
          ]
        }
      ]
    },
    {
      "cell_type": "markdown",
      "metadata": {
        "id": "_or6n5-LQUa-"
      },
      "source": [
        "Here the calculation introduced a NaN value. If the DataFrame is large, we would not be able to observe it. **isnull()** provides a convenient way to check abnormal values."
      ]
    },
    {
      "cell_type": "code",
      "metadata": {
        "colab": {
          "base_uri": "https://localhost:8080/"
        },
        "id": "V5wgmhIPHW-B",
        "outputId": "cf646765-ea74-4e63-ced7-78e1ec2e1b93"
      },
      "source": [
        "missing = aapl_bar.isnull()\n",
        "print(missing)\n",
        "print('---------------------------------------------')\n",
        "print(missing.describe())"
      ],
      "execution_count": null,
      "outputs": [
        {
          "output_type": "stream",
          "name": "stdout",
          "text": [
            "             Open   High    Low  Close  rate_return\n",
            "Date                                               \n",
            "2016-01-31  False  False  False  False         True\n",
            "2016-02-29  False  False  False  False        False\n",
            "2016-03-31  False  False  False  False        False\n",
            "2016-04-30  False  False  False  False        False\n",
            "2016-05-31  False  False  False  False        False\n",
            "2016-06-30  False  False  False  False        False\n",
            "2016-07-31  False  False  False  False        False\n",
            "2016-08-31  False  False  False  False        False\n",
            "2016-09-30  False  False  False  False        False\n",
            "2016-10-31  False  False  False  False        False\n",
            "2016-11-30  False  False  False  False        False\n",
            "2016-12-31  False  False  False  False        False\n",
            "---------------------------------------------\n",
            "         Open   High    Low  Close rate_return\n",
            "count      12     12     12     12          12\n",
            "unique      1      1      1      1           2\n",
            "top     False  False  False  False       False\n",
            "freq       12     12     12     12          11\n"
          ]
        }
      ]
    },
    {
      "cell_type": "code",
      "source": [
        "missing = aapl_bar.isnull() # Asigna al DataFrame missing los registros nulos del DataFrame aapl_bar\n",
        "print(missing)\n",
        "print('---------------------------------------------')\n",
        "print(missing.describe()) # Imprime un resumen estadistico del DataFrame missing"
      ],
      "metadata": {
        "colab": {
          "base_uri": "https://localhost:8080/"
        },
        "id": "eG_Sf5sF7Xyl",
        "outputId": "84d93c7a-f356-47d5-e57f-ea4cafce3653"
      },
      "execution_count": 51,
      "outputs": [
        {
          "output_type": "stream",
          "name": "stdout",
          "text": [
            "             Open   High    Low  Close  rate_return\n",
            "Date                                               \n",
            "2016-01-10  False  False  False  False         True\n",
            "2016-01-17  False  False  False  False        False\n",
            "2016-01-24  False  False  False  False        False\n",
            "2016-01-31  False  False  False  False        False\n",
            "2016-02-07  False  False  False  False        False\n",
            "2016-02-14  False  False  False  False        False\n",
            "2016-02-21  False  False  False  False        False\n",
            "2016-02-28  False  False  False  False        False\n",
            "2016-03-06  False  False  False  False        False\n",
            "2016-03-13  False  False  False  False        False\n",
            "2016-03-20  False  False  False  False        False\n",
            "2016-03-27  False  False  False  False        False\n",
            "2016-04-03  False  False  False  False        False\n",
            "2016-04-10  False  False  False  False        False\n",
            "2016-04-17  False  False  False  False        False\n",
            "2016-04-24  False  False  False  False        False\n",
            "2016-05-01  False  False  False  False        False\n",
            "2016-05-08  False  False  False  False        False\n",
            "2016-05-15  False  False  False  False        False\n",
            "2016-05-22  False  False  False  False        False\n",
            "2016-05-29  False  False  False  False        False\n",
            "2016-06-05  False  False  False  False        False\n",
            "2016-06-12  False  False  False  False        False\n",
            "2016-06-19  False  False  False  False        False\n",
            "2016-06-26  False  False  False  False        False\n",
            "2016-07-03  False  False  False  False        False\n",
            "2016-07-10  False  False  False  False        False\n",
            "2016-07-17  False  False  False  False        False\n",
            "2016-07-24  False  False  False  False        False\n",
            "2016-07-31  False  False  False  False        False\n",
            "2016-08-07  False  False  False  False        False\n",
            "2016-08-14  False  False  False  False        False\n",
            "2016-08-21  False  False  False  False        False\n",
            "2016-08-28  False  False  False  False        False\n",
            "2016-09-04  False  False  False  False        False\n",
            "2016-09-11  False  False  False  False        False\n",
            "2016-09-18  False  False  False  False        False\n",
            "2016-09-25  False  False  False  False        False\n",
            "2016-10-02  False  False  False  False        False\n",
            "2016-10-09  False  False  False  False        False\n",
            "2016-10-16  False  False  False  False        False\n",
            "2016-10-23  False  False  False  False        False\n",
            "2016-10-30  False  False  False  False        False\n",
            "2016-11-06  False  False  False  False        False\n",
            "2016-11-13  False  False  False  False        False\n",
            "2016-11-20  False  False  False  False        False\n",
            "2016-11-27  False  False  False  False        False\n",
            "2016-12-04  False  False  False  False        False\n",
            "2016-12-11  False  False  False  False        False\n",
            "2016-12-18  False  False  False  False        False\n",
            "2016-12-25  False  False  False  False        False\n",
            "2017-01-01  False  False  False  False        False\n",
            "---------------------------------------------\n",
            "         Open   High    Low  Close rate_return\n",
            "count      52     52     52     52          52\n",
            "unique      1      1      1      1           2\n",
            "top     False  False  False  False       False\n",
            "freq       52     52     52     52          51\n"
          ]
        }
      ]
    },
    {
      "cell_type": "markdown",
      "metadata": {
        "id": "d6KFV4i0QfLW"
      },
      "source": [
        "The row labelled \"unique\" indicates the number of unique values in each column. Since the \"rate_return\" column has 2 unique values, it has at least one missing value.\n",
        "\n",
        "We can deduce the number of missing values by comparing \"count\" with \"freq\". There are 12 counts and 11 False values, so there is one True value which corresponds to the missing value.\n",
        "\n",
        "We can also find the rows with missing values easily:"
      ]
    },
    {
      "cell_type": "code",
      "metadata": {
        "colab": {
          "base_uri": "https://localhost:8080/"
        },
        "id": "Eo0ZAhCsHW-B",
        "outputId": "632cc9ee-2b53-4669-d329-1af7538859f6"
      },
      "source": [
        "print(missing[missing.rate_return == True])"
      ],
      "execution_count": null,
      "outputs": [
        {
          "output_type": "stream",
          "name": "stdout",
          "text": [
            "             Open   High    Low  Close  rate_return\n",
            "Date                                               \n",
            "2016-01-31  False  False  False  False         True\n"
          ]
        }
      ]
    },
    {
      "cell_type": "code",
      "source": [
        "print(missing[missing.rate_return == True]) # Imprime el registro, del DataFrame missing, cuyo campo rate_return sea verdadero"
      ],
      "metadata": {
        "colab": {
          "base_uri": "https://localhost:8080/"
        },
        "id": "6vhGuYPQ7vhk",
        "outputId": "4ac56577-e427-45da-9983-e62dc77b37fd"
      },
      "execution_count": 52,
      "outputs": [
        {
          "output_type": "stream",
          "name": "stdout",
          "text": [
            "             Open   High    Low  Close  rate_return\n",
            "Date                                               \n",
            "2016-01-10  False  False  False  False         True\n"
          ]
        }
      ]
    },
    {
      "cell_type": "markdown",
      "metadata": {
        "id": "qgggpD8OQkZX"
      },
      "source": [
        "Usually when dealing with missing data, we either delete the whole row or fill it with some value. As we introduced in the Series chapter, the same method **dropna()** and **fillna()** can be applied to a DataFrame."
      ]
    },
    {
      "cell_type": "code",
      "metadata": {
        "colab": {
          "base_uri": "https://localhost:8080/"
        },
        "id": "j8PaIokjHW-B",
        "outputId": "501fd060-83fe-4f98-e5ad-f9b0f41e525c"
      },
      "source": [
        "drop = aapl_bar.dropna()\n",
        "print(drop)\n",
        "print('\\n--------------------------------------------------\\n')\n",
        "fill = aapl_bar.fillna(0)\n",
        "print(fill)"
      ],
      "execution_count": null,
      "outputs": [
        {
          "output_type": "stream",
          "name": "stdout",
          "text": [
            "                 Open       High        Low      Close  rate_return\n",
            "Date                                                               \n",
            "2016-02-29  22.450761  22.768308  22.402086  22.411358    -0.001288\n",
            "2016-03-31  25.431520  25.473242  25.236819  25.262316     0.127210\n",
            "2016-04-30  21.785529  21.954734  21.442488  21.727583    -0.139921\n",
            "2016-05-31  23.226409  23.412967  23.044516  23.287041     0.071773\n",
            "2016-06-30  22.023112  22.333262  21.990464  22.293619    -0.042660\n",
            "2016-07-31  24.296780  24.380731  24.177849  24.301443     0.090063\n",
            "2016-08-31  24.773054  24.986412  24.768364  24.876215     0.023652\n",
            "2016-09-30  26.367388  26.580747  26.212645  26.505720     0.065505\n",
            "2016-10-31  26.646396  26.782384  26.540888  26.620605     0.004334\n",
            "2016-11-30  26.300094  26.441492  25.986660  26.045576    -0.021601\n",
            "2016-12-31  27.490193  27.619807  27.202683  27.294592     0.047955\n",
            "\n",
            "--------------------------------------------------\n",
            "\n",
            "                 Open       High        Low      Close  rate_return\n",
            "Date                                                               \n",
            "2016-01-31  21.852388  22.440250  21.750952  22.440250     0.000000\n",
            "2016-02-29  22.450761  22.768308  22.402086  22.411358    -0.001288\n",
            "2016-03-31  25.431520  25.473242  25.236819  25.262316     0.127210\n",
            "2016-04-30  21.785529  21.954734  21.442488  21.727583    -0.139921\n",
            "2016-05-31  23.226409  23.412967  23.044516  23.287041     0.071773\n",
            "2016-06-30  22.023112  22.333262  21.990464  22.293619    -0.042660\n",
            "2016-07-31  24.296780  24.380731  24.177849  24.301443     0.090063\n",
            "2016-08-31  24.773054  24.986412  24.768364  24.876215     0.023652\n",
            "2016-09-30  26.367388  26.580747  26.212645  26.505720     0.065505\n",
            "2016-10-31  26.646396  26.782384  26.540888  26.620605     0.004334\n",
            "2016-11-30  26.300094  26.441492  25.986660  26.045576    -0.021601\n",
            "2016-12-31  27.490193  27.619807  27.202683  27.294592     0.047955\n"
          ]
        }
      ]
    },
    {
      "cell_type": "code",
      "source": [
        "drop = aapl_bar.dropna() # Asigna al DataFrame drop los registros del DataFrame aapl_bar sin los campos nulos\n",
        "print(drop)\n",
        "print('\\n--------------------------------------------------\\n')\n",
        "fill = aapl_bar.fillna(0) # Asigna al DataFrame fill los registros del DataFrame aapl_bar con los campos nulos reemplazados por 0\n",
        "print(fill)"
      ],
      "metadata": {
        "colab": {
          "base_uri": "https://localhost:8080/"
        },
        "id": "W2oDaKar7-Vm",
        "outputId": "9bfe7090-7eec-40eb-8a6b-1dc4f03eea7d"
      },
      "execution_count": 54,
      "outputs": [
        {
          "output_type": "stream",
          "name": "stdout",
          "text": [
            "                 Open       High        Low      Close  rate_return\n",
            "Date                                                               \n",
            "2016-01-17  22.116935  22.464093  21.923815  22.330748     0.001753\n",
            "2016-01-24  22.675606  23.326240  22.615832  23.317043     0.044168\n",
            "2016-01-31  21.792775  22.379034  21.691616  22.379034    -0.040228\n",
            "2016-02-07  22.310923  22.403385  21.656761  21.733040    -0.028866\n",
            "2016-02-14  21.772329  21.843986  21.499568  21.726097    -0.000319\n",
            "2016-02-21  22.190718  22.366395  22.144488  22.199965     0.021811\n",
            "2016-02-28  22.468101  22.657646  22.324787  22.401068     0.009059\n",
            "2016-03-06  23.663170  23.982161  23.432016  23.811108     0.062945\n",
            "2016-03-13  23.633119  23.642365  23.462066  23.637743    -0.007281\n",
            "2016-03-20  24.580843  24.617828  24.315018  24.483759     0.035791\n",
            "2016-03-27  24.379736  24.560036  24.245667  24.425966    -0.002360\n",
            "2016-04-03  25.144861  25.426869  25.010792  25.424557     0.040882\n",
            "2016-04-10  25.174911  25.373701  25.003856  25.117123    -0.012092\n",
            "2016-04-17  25.914600  25.958520  25.364456  25.392193     0.010952\n",
            "2016-04-24  24.273415  24.613211  24.183266  24.428288    -0.037961\n",
            "2016-05-01  21.726104  21.894847  21.383998  21.668316    -0.112983\n",
            "2016-05-08  21.714191  21.732795  21.360698  21.563026    -0.004859\n",
            "2016-05-15  20.930465  21.318841  20.930465  21.051395    -0.023727\n",
            "2016-05-22  22.009545  22.193268  21.981637  22.144430     0.051922\n",
            "2016-05-29  23.125838  23.365375  23.081651  23.337467     0.053875\n",
            "2016-06-05  22.742110  22.853739  22.663039  22.772343    -0.024215\n",
            "2016-06-12  22.914204  23.104903  22.902577  22.983973     0.009293\n",
            "2016-06-19  22.470019  22.476995  22.163039  22.170015    -0.035414\n",
            "2016-06-26  21.607218  22.014199  21.546752  21.721172    -0.020245\n",
            "2016-07-03  22.207221  22.435131  22.170012  22.300245     0.026659\n",
            "2016-07-10  22.439780  22.532804  22.337454  22.483967     0.008239\n",
            "2016-07-17  23.004906  23.093280  22.907231  22.972347     0.021721\n",
            "2016-07-24  23.083977  23.093280  22.863043  22.944441    -0.001215\n",
            "2016-07-31  24.230501  24.314223  24.111894  24.235151     0.056254\n",
            "2016-08-07  24.848109  25.170782  24.827066  25.131033     0.036966\n",
            "2016-08-14  25.201180  25.355502  25.201180  25.294708     0.006513\n",
            "2016-08-21  25.432661  25.647777  25.336795  25.570616     0.010908\n",
            "2016-08-28  25.114664  25.240926  24.857460  25.004768    -0.022129\n",
            "2016-09-04  25.182466  25.252612  24.976704  25.189482     0.007387\n",
            "2016-09-11  24.466980  24.719507  24.113911  24.113911    -0.042699\n",
            "2016-09-18  26.917416  27.153574  26.664890  26.870651     0.114322\n",
            "2016-09-25  26.753745  26.840259  26.082681  26.353912    -0.019231\n",
            "2016-10-02  26.295458  26.508235  26.141137  26.433413     0.003017\n",
            "2016-10-09  26.728026  26.786481  26.540971  26.669571     0.008934\n",
            "2016-10-16  27.562762  27.630570  27.387397  27.504307     0.031299\n",
            "2016-10-23  27.312578  27.335961  27.188653  27.263475    -0.008756\n",
            "2016-10-30  26.625144  26.938463  26.526938  26.590071    -0.024700\n",
            "2016-11-06  25.506829  25.911066  25.408121  25.579685    -0.037999\n",
            "2016-11-13  25.175455  25.586742  25.041493  25.483332    -0.003767\n",
            "2016-11-20  25.786505  25.979222  25.772404  25.866411     0.015033\n",
            "2016-11-27  26.117886  26.291803  26.075582  26.273001     0.015719\n",
            "2016-12-04  25.657247  25.873466  25.582041  25.828814    -0.016907\n",
            "2016-12-11  26.395211  26.956911  26.395211  26.780645     0.036852\n",
            "2016-12-18  27.372903  27.379953  27.180185  27.255392     0.017727\n",
            "2016-12-25  27.166078  27.384647  27.166078  27.384647     0.004742\n",
            "2017-01-01  27.415205  27.544465  27.128479  27.220137    -0.006007\n",
            "\n",
            "--------------------------------------------------\n",
            "\n",
            "                 Open       High        Low      Close  rate_return\n",
            "Date                                                               \n",
            "2016-01-10  22.657217  22.785964  22.245686  22.291666     0.000000\n",
            "2016-01-17  22.116935  22.464093  21.923815  22.330748     0.001753\n",
            "2016-01-24  22.675606  23.326240  22.615832  23.317043     0.044168\n",
            "2016-01-31  21.792775  22.379034  21.691616  22.379034    -0.040228\n",
            "2016-02-07  22.310923  22.403385  21.656761  21.733040    -0.028866\n",
            "2016-02-14  21.772329  21.843986  21.499568  21.726097    -0.000319\n",
            "2016-02-21  22.190718  22.366395  22.144488  22.199965     0.021811\n",
            "2016-02-28  22.468101  22.657646  22.324787  22.401068     0.009059\n",
            "2016-03-06  23.663170  23.982161  23.432016  23.811108     0.062945\n",
            "2016-03-13  23.633119  23.642365  23.462066  23.637743    -0.007281\n",
            "2016-03-20  24.580843  24.617828  24.315018  24.483759     0.035791\n",
            "2016-03-27  24.379736  24.560036  24.245667  24.425966    -0.002360\n",
            "2016-04-03  25.144861  25.426869  25.010792  25.424557     0.040882\n",
            "2016-04-10  25.174911  25.373701  25.003856  25.117123    -0.012092\n",
            "2016-04-17  25.914600  25.958520  25.364456  25.392193     0.010952\n",
            "2016-04-24  24.273415  24.613211  24.183266  24.428288    -0.037961\n",
            "2016-05-01  21.726104  21.894847  21.383998  21.668316    -0.112983\n",
            "2016-05-08  21.714191  21.732795  21.360698  21.563026    -0.004859\n",
            "2016-05-15  20.930465  21.318841  20.930465  21.051395    -0.023727\n",
            "2016-05-22  22.009545  22.193268  21.981637  22.144430     0.051922\n",
            "2016-05-29  23.125838  23.365375  23.081651  23.337467     0.053875\n",
            "2016-06-05  22.742110  22.853739  22.663039  22.772343    -0.024215\n",
            "2016-06-12  22.914204  23.104903  22.902577  22.983973     0.009293\n",
            "2016-06-19  22.470019  22.476995  22.163039  22.170015    -0.035414\n",
            "2016-06-26  21.607218  22.014199  21.546752  21.721172    -0.020245\n",
            "2016-07-03  22.207221  22.435131  22.170012  22.300245     0.026659\n",
            "2016-07-10  22.439780  22.532804  22.337454  22.483967     0.008239\n",
            "2016-07-17  23.004906  23.093280  22.907231  22.972347     0.021721\n",
            "2016-07-24  23.083977  23.093280  22.863043  22.944441    -0.001215\n",
            "2016-07-31  24.230501  24.314223  24.111894  24.235151     0.056254\n",
            "2016-08-07  24.848109  25.170782  24.827066  25.131033     0.036966\n",
            "2016-08-14  25.201180  25.355502  25.201180  25.294708     0.006513\n",
            "2016-08-21  25.432661  25.647777  25.336795  25.570616     0.010908\n",
            "2016-08-28  25.114664  25.240926  24.857460  25.004768    -0.022129\n",
            "2016-09-04  25.182466  25.252612  24.976704  25.189482     0.007387\n",
            "2016-09-11  24.466980  24.719507  24.113911  24.113911    -0.042699\n",
            "2016-09-18  26.917416  27.153574  26.664890  26.870651     0.114322\n",
            "2016-09-25  26.753745  26.840259  26.082681  26.353912    -0.019231\n",
            "2016-10-02  26.295458  26.508235  26.141137  26.433413     0.003017\n",
            "2016-10-09  26.728026  26.786481  26.540971  26.669571     0.008934\n",
            "2016-10-16  27.562762  27.630570  27.387397  27.504307     0.031299\n",
            "2016-10-23  27.312578  27.335961  27.188653  27.263475    -0.008756\n",
            "2016-10-30  26.625144  26.938463  26.526938  26.590071    -0.024700\n",
            "2016-11-06  25.506829  25.911066  25.408121  25.579685    -0.037999\n",
            "2016-11-13  25.175455  25.586742  25.041493  25.483332    -0.003767\n",
            "2016-11-20  25.786505  25.979222  25.772404  25.866411     0.015033\n",
            "2016-11-27  26.117886  26.291803  26.075582  26.273001     0.015719\n",
            "2016-12-04  25.657247  25.873466  25.582041  25.828814    -0.016907\n",
            "2016-12-11  26.395211  26.956911  26.395211  26.780645     0.036852\n",
            "2016-12-18  27.372903  27.379953  27.180185  27.255392     0.017727\n",
            "2016-12-25  27.166078  27.384647  27.166078  27.384647     0.004742\n",
            "2017-01-01  27.415205  27.544465  27.128479  27.220137    -0.006007\n"
          ]
        }
      ]
    },
    {
      "cell_type": "markdown",
      "metadata": {
        "id": "0tvoFlKWQxYG"
      },
      "source": [
        "## DataFrame Concat\n",
        "We have seen how to extract a Series from a dataFrame. Now we need to consider how to merge a Series or a DataFrame into another one.\n",
        "\n",
        "In Pandas, the function **concat()** allows us to merge multiple Series into a DataFrame:"
      ]
    },
    {
      "cell_type": "code",
      "metadata": {
        "colab": {
          "base_uri": "https://localhost:8080/"
        },
        "id": "uQrmLIWKHW-C",
        "outputId": "6e25a419-88a8-4df1-a025-f9f583699b4c"
      },
      "source": [
        "s1 = pd.Series([143.5, 144.09, 142.73, 144.18, 143.77], name = 'AAPL')\n",
        "s2 = pd.Series([898.7, 911.71, 906.69, 918.59, 926.99], name = 'GOOG')\n",
        "data_frame = pd.concat([s1,s2], axis = 1)\n",
        "print(data_frame)"
      ],
      "execution_count": null,
      "outputs": [
        {
          "output_type": "stream",
          "name": "stdout",
          "text": [
            "     AAPL    GOOG\n",
            "0  143.50  898.70\n",
            "1  144.09  911.71\n",
            "2  142.73  906.69\n",
            "3  144.18  918.59\n",
            "4  143.77  926.99\n"
          ]
        }
      ]
    },
    {
      "cell_type": "code",
      "source": [
        "s1 = pd.Series([143.5, 144.09, 142.73, 144.18, 143.77], name = 'AAPL')\n",
        "s2 = pd.Series([898.7, 911.71, 906.69, 918.59, 926.99], name = 'GOOG')\n",
        "data_frame = pd.concat([s2,s1], axis = 1) # Asigna al DataFrame data_frame la concatenacion de las serie s2 y s1 en columnas (axis=1)\n",
        "print(data_frame)"
      ],
      "metadata": {
        "colab": {
          "base_uri": "https://localhost:8080/"
        },
        "id": "fhBZ1bce872n",
        "outputId": "034adb8c-620b-4d61-cb2d-5ba80150e7bb"
      },
      "execution_count": 59,
      "outputs": [
        {
          "output_type": "stream",
          "name": "stdout",
          "text": [
            "     GOOG    AAPL\n",
            "0  898.70  143.50\n",
            "1  911.71  144.09\n",
            "2  906.69  142.73\n",
            "3  918.59  144.18\n",
            "4  926.99  143.77\n"
          ]
        }
      ]
    },
    {
      "cell_type": "markdown",
      "metadata": {
        "id": "3ojbNYJLR2vv"
      },
      "source": [
        "The \"axis = 1\" parameter will join two DataFrames by columns:"
      ]
    },
    {
      "cell_type": "code",
      "metadata": {
        "colab": {
          "base_uri": "https://localhost:8080/"
        },
        "id": "DJsaLd-cRoIm",
        "outputId": "5eecb75d-1d7d-47db-daba-e5fe5b0e009b"
      },
      "source": [
        "log_price = np.log(aapl_bar.Close)\n",
        "log_price.name = 'log_price'\n",
        "print(log_price)\n",
        "print('\\n---------------------- separate line--------------------\\n')\n",
        "concat = pd.concat([aapl_bar, log_price], axis = 1)\n",
        "print(concat)"
      ],
      "execution_count": null,
      "outputs": [
        {
          "output_type": "stream",
          "name": "stdout",
          "text": [
            "Date\n",
            "2016-01-31    3.110856\n",
            "2016-02-29    3.109568\n",
            "2016-03-31    3.229314\n",
            "2016-04-30    3.078583\n",
            "2016-05-31    3.147897\n",
            "2016-06-30    3.104301\n",
            "2016-07-31    3.190536\n",
            "2016-08-31    3.213912\n",
            "2016-09-30    3.277361\n",
            "2016-10-31    3.281686\n",
            "2016-11-30    3.259848\n",
            "2016-12-31    3.306689\n",
            "Freq: M, Name: log_price, dtype: float64\n",
            "\n",
            "---------------------- separate line--------------------\n",
            "\n",
            "                 Open       High        Low      Close  rate_return  log_price\n",
            "Date                                                                          \n",
            "2016-01-31  21.852388  22.440250  21.750952  22.440250          NaN   3.110856\n",
            "2016-02-29  22.450761  22.768308  22.402086  22.411358    -0.001288   3.109568\n",
            "2016-03-31  25.431520  25.473242  25.236819  25.262316     0.127210   3.229314\n",
            "2016-04-30  21.785529  21.954734  21.442488  21.727583    -0.139921   3.078583\n",
            "2016-05-31  23.226409  23.412967  23.044516  23.287041     0.071773   3.147897\n",
            "2016-06-30  22.023112  22.333262  21.990464  22.293619    -0.042660   3.104301\n",
            "2016-07-31  24.296780  24.380731  24.177849  24.301443     0.090063   3.190536\n",
            "2016-08-31  24.773054  24.986412  24.768364  24.876215     0.023652   3.213912\n",
            "2016-09-30  26.367388  26.580747  26.212645  26.505720     0.065505   3.277361\n",
            "2016-10-31  26.646396  26.782384  26.540888  26.620605     0.004334   3.281686\n",
            "2016-11-30  26.300094  26.441492  25.986660  26.045576    -0.021601   3.259848\n",
            "2016-12-31  27.490193  27.619807  27.202683  27.294592     0.047955   3.306689\n"
          ]
        }
      ]
    },
    {
      "cell_type": "code",
      "source": [
        "sqrt_price = np.sqrt(aapl_bar.Close) # Asigna al DataFrame sqrt_price la raiz cuadrada de los registros del DataFrame aapl_bar\n",
        "sqrt_price.name = 'sqrt_price' # Asigna el nombre del DataFrame sqrt_price\n",
        "print(sqrt_price)\n",
        "print('\\n---------------------- separate line--------------------\\n')\n",
        "concat = pd.concat([aapl_bar, sqrt_price], axis = 1) # Asigna, al DataFrame concat, la concatenacion de los DataFrames aapl_bnar y sqrt_price en columnas (axis=1)\n",
        "print(concat)"
      ],
      "metadata": {
        "colab": {
          "base_uri": "https://localhost:8080/"
        },
        "id": "oqsCKNRf960K",
        "outputId": "d7237b8f-2ce6-442f-94ac-26405d2259ab"
      },
      "execution_count": 62,
      "outputs": [
        {
          "output_type": "stream",
          "name": "stdout",
          "text": [
            "Date\n",
            "2016-01-10    4.721405\n",
            "2016-01-17    4.725542\n",
            "2016-01-24    4.828772\n",
            "2016-01-31    4.730648\n",
            "2016-02-07    4.661871\n",
            "2016-02-14    4.661126\n",
            "2016-02-21    4.711684\n",
            "2016-02-28    4.732977\n",
            "2016-03-06    4.879663\n",
            "2016-03-13    4.861866\n",
            "2016-03-20    4.948107\n",
            "2016-03-27    4.942263\n",
            "2016-04-03    5.042277\n",
            "2016-04-10    5.011699\n",
            "2016-04-17    5.039067\n",
            "2016-04-24    4.942498\n",
            "2016-05-01    4.654924\n",
            "2016-05-08    4.643601\n",
            "2016-05-15    4.588180\n",
            "2016-05-22    4.705787\n",
            "2016-05-29    4.830887\n",
            "2016-06-05    4.772038\n",
            "2016-06-12    4.794160\n",
            "2016-06-19    4.708505\n",
            "2016-06-26    4.660598\n",
            "2016-07-03    4.722314\n",
            "2016-07-10    4.741726\n",
            "2016-07-17    4.792948\n",
            "2016-07-24    4.790036\n",
            "2016-07-31    4.922921\n",
            "2016-08-07    5.013086\n",
            "2016-08-14    5.029384\n",
            "2016-08-21    5.056740\n",
            "2016-08-28    5.000477\n",
            "2016-09-04    5.018912\n",
            "2016-09-11    4.910592\n",
            "2016-09-18    5.183691\n",
            "2016-09-25    5.133606\n",
            "2016-10-02    5.141343\n",
            "2016-10-09    5.164259\n",
            "2016-10-16    5.244455\n",
            "2016-10-23    5.221444\n",
            "2016-10-30    5.156556\n",
            "2016-11-06    5.057636\n",
            "2016-11-13    5.048102\n",
            "2016-11-20    5.085903\n",
            "2016-11-27    5.125720\n",
            "2016-12-04    5.082206\n",
            "2016-12-11    5.175002\n",
            "2016-12-18    5.220670\n",
            "2016-12-25    5.233034\n",
            "2017-01-01    5.217292\n",
            "Freq: W-SUN, Name: sqrt_price, dtype: float64\n",
            "\n",
            "---------------------- separate line--------------------\n",
            "\n",
            "                 Open       High        Low      Close  rate_return  \\\n",
            "Date                                                                  \n",
            "2016-01-10  22.657217  22.785964  22.245686  22.291666          NaN   \n",
            "2016-01-17  22.116935  22.464093  21.923815  22.330748     0.001753   \n",
            "2016-01-24  22.675606  23.326240  22.615832  23.317043     0.044168   \n",
            "2016-01-31  21.792775  22.379034  21.691616  22.379034    -0.040228   \n",
            "2016-02-07  22.310923  22.403385  21.656761  21.733040    -0.028866   \n",
            "2016-02-14  21.772329  21.843986  21.499568  21.726097    -0.000319   \n",
            "2016-02-21  22.190718  22.366395  22.144488  22.199965     0.021811   \n",
            "2016-02-28  22.468101  22.657646  22.324787  22.401068     0.009059   \n",
            "2016-03-06  23.663170  23.982161  23.432016  23.811108     0.062945   \n",
            "2016-03-13  23.633119  23.642365  23.462066  23.637743    -0.007281   \n",
            "2016-03-20  24.580843  24.617828  24.315018  24.483759     0.035791   \n",
            "2016-03-27  24.379736  24.560036  24.245667  24.425966    -0.002360   \n",
            "2016-04-03  25.144861  25.426869  25.010792  25.424557     0.040882   \n",
            "2016-04-10  25.174911  25.373701  25.003856  25.117123    -0.012092   \n",
            "2016-04-17  25.914600  25.958520  25.364456  25.392193     0.010952   \n",
            "2016-04-24  24.273415  24.613211  24.183266  24.428288    -0.037961   \n",
            "2016-05-01  21.726104  21.894847  21.383998  21.668316    -0.112983   \n",
            "2016-05-08  21.714191  21.732795  21.360698  21.563026    -0.004859   \n",
            "2016-05-15  20.930465  21.318841  20.930465  21.051395    -0.023727   \n",
            "2016-05-22  22.009545  22.193268  21.981637  22.144430     0.051922   \n",
            "2016-05-29  23.125838  23.365375  23.081651  23.337467     0.053875   \n",
            "2016-06-05  22.742110  22.853739  22.663039  22.772343    -0.024215   \n",
            "2016-06-12  22.914204  23.104903  22.902577  22.983973     0.009293   \n",
            "2016-06-19  22.470019  22.476995  22.163039  22.170015    -0.035414   \n",
            "2016-06-26  21.607218  22.014199  21.546752  21.721172    -0.020245   \n",
            "2016-07-03  22.207221  22.435131  22.170012  22.300245     0.026659   \n",
            "2016-07-10  22.439780  22.532804  22.337454  22.483967     0.008239   \n",
            "2016-07-17  23.004906  23.093280  22.907231  22.972347     0.021721   \n",
            "2016-07-24  23.083977  23.093280  22.863043  22.944441    -0.001215   \n",
            "2016-07-31  24.230501  24.314223  24.111894  24.235151     0.056254   \n",
            "2016-08-07  24.848109  25.170782  24.827066  25.131033     0.036966   \n",
            "2016-08-14  25.201180  25.355502  25.201180  25.294708     0.006513   \n",
            "2016-08-21  25.432661  25.647777  25.336795  25.570616     0.010908   \n",
            "2016-08-28  25.114664  25.240926  24.857460  25.004768    -0.022129   \n",
            "2016-09-04  25.182466  25.252612  24.976704  25.189482     0.007387   \n",
            "2016-09-11  24.466980  24.719507  24.113911  24.113911    -0.042699   \n",
            "2016-09-18  26.917416  27.153574  26.664890  26.870651     0.114322   \n",
            "2016-09-25  26.753745  26.840259  26.082681  26.353912    -0.019231   \n",
            "2016-10-02  26.295458  26.508235  26.141137  26.433413     0.003017   \n",
            "2016-10-09  26.728026  26.786481  26.540971  26.669571     0.008934   \n",
            "2016-10-16  27.562762  27.630570  27.387397  27.504307     0.031299   \n",
            "2016-10-23  27.312578  27.335961  27.188653  27.263475    -0.008756   \n",
            "2016-10-30  26.625144  26.938463  26.526938  26.590071    -0.024700   \n",
            "2016-11-06  25.506829  25.911066  25.408121  25.579685    -0.037999   \n",
            "2016-11-13  25.175455  25.586742  25.041493  25.483332    -0.003767   \n",
            "2016-11-20  25.786505  25.979222  25.772404  25.866411     0.015033   \n",
            "2016-11-27  26.117886  26.291803  26.075582  26.273001     0.015719   \n",
            "2016-12-04  25.657247  25.873466  25.582041  25.828814    -0.016907   \n",
            "2016-12-11  26.395211  26.956911  26.395211  26.780645     0.036852   \n",
            "2016-12-18  27.372903  27.379953  27.180185  27.255392     0.017727   \n",
            "2016-12-25  27.166078  27.384647  27.166078  27.384647     0.004742   \n",
            "2017-01-01  27.415205  27.544465  27.128479  27.220137    -0.006007   \n",
            "\n",
            "            sqrt_price  \n",
            "Date                    \n",
            "2016-01-10    4.721405  \n",
            "2016-01-17    4.725542  \n",
            "2016-01-24    4.828772  \n",
            "2016-01-31    4.730648  \n",
            "2016-02-07    4.661871  \n",
            "2016-02-14    4.661126  \n",
            "2016-02-21    4.711684  \n",
            "2016-02-28    4.732977  \n",
            "2016-03-06    4.879663  \n",
            "2016-03-13    4.861866  \n",
            "2016-03-20    4.948107  \n",
            "2016-03-27    4.942263  \n",
            "2016-04-03    5.042277  \n",
            "2016-04-10    5.011699  \n",
            "2016-04-17    5.039067  \n",
            "2016-04-24    4.942498  \n",
            "2016-05-01    4.654924  \n",
            "2016-05-08    4.643601  \n",
            "2016-05-15    4.588180  \n",
            "2016-05-22    4.705787  \n",
            "2016-05-29    4.830887  \n",
            "2016-06-05    4.772038  \n",
            "2016-06-12    4.794160  \n",
            "2016-06-19    4.708505  \n",
            "2016-06-26    4.660598  \n",
            "2016-07-03    4.722314  \n",
            "2016-07-10    4.741726  \n",
            "2016-07-17    4.792948  \n",
            "2016-07-24    4.790036  \n",
            "2016-07-31    4.922921  \n",
            "2016-08-07    5.013086  \n",
            "2016-08-14    5.029384  \n",
            "2016-08-21    5.056740  \n",
            "2016-08-28    5.000477  \n",
            "2016-09-04    5.018912  \n",
            "2016-09-11    4.910592  \n",
            "2016-09-18    5.183691  \n",
            "2016-09-25    5.133606  \n",
            "2016-10-02    5.141343  \n",
            "2016-10-09    5.164259  \n",
            "2016-10-16    5.244455  \n",
            "2016-10-23    5.221444  \n",
            "2016-10-30    5.156556  \n",
            "2016-11-06    5.057636  \n",
            "2016-11-13    5.048102  \n",
            "2016-11-20    5.085903  \n",
            "2016-11-27    5.125720  \n",
            "2016-12-04    5.082206  \n",
            "2016-12-11    5.175002  \n",
            "2016-12-18    5.220670  \n",
            "2016-12-25    5.233034  \n",
            "2017-01-01    5.217292  \n"
          ]
        }
      ]
    },
    {
      "cell_type": "markdown",
      "metadata": {
        "id": "mIZz-FUyR_62"
      },
      "source": [
        "We can also join two DataFrames by rows. Consider these two DataFrames:"
      ]
    },
    {
      "cell_type": "code",
      "metadata": {
        "colab": {
          "base_uri": "https://localhost:8080/"
        },
        "id": "W7uXZptLHW-C",
        "outputId": "293e68e0-a71f-4ca3-bf8d-944cb833fe78"
      },
      "source": [
        "df_volume = aapl_table.loc['2016-10':'2017-04',['Volume', 'Stock Splits']].resample('M').agg(lambda x: x[-1])\n",
        "print(df_volume)\n",
        "print('\\n---------------------- separate line--------------------\\n')\n",
        "df_2017 = aapl_table.loc['2016-10':'2017-04',['Open', 'High', 'Low', 'Close']].resample('M').agg(lambda x: x[-1])\n",
        "print(df_2017)"
      ],
      "execution_count": null,
      "outputs": [
        {
          "output_type": "stream",
          "name": "stdout",
          "text": [
            "               Volume  Stock Splits\n",
            "Date                               \n",
            "2016-10-31  105677600             0\n",
            "2016-11-30  144649200             0\n",
            "2016-12-31  122345200             0\n",
            "2017-01-31  196804000             0\n",
            "2017-02-28   93931600             0\n",
            "2017-03-31   78646800             0\n",
            "2017-04-30   83441600             0\n",
            "\n",
            "---------------------- separate line--------------------\n",
            "\n",
            "                 Open       High        Low      Close\n",
            "Date                                                  \n",
            "2016-10-31  26.646396  26.782384  26.540888  26.620605\n",
            "2016-11-30  26.300094  26.441492  25.986660  26.045576\n",
            "2016-12-31  27.490193  27.619807  27.202683  27.294592\n",
            "2017-01-31  28.550684  28.607243  28.425783  28.597816\n",
            "2017-02-28  32.444862  32.530069  32.354920  32.423561\n",
            "2017-03-31  34.016455  34.146633  33.848407  34.002254\n",
            "2017-04-30  34.104032  34.153737  33.909951  33.999889\n"
          ]
        }
      ]
    },
    {
      "cell_type": "code",
      "source": [
        "df_volume = aapl_table.loc['2016-08':'2017-02',['Volume', 'Stock Splits']].resample('W').agg(lambda x: x[-1]) # Asigna, al DataFrame df_volume, los ultimos registros semanales de la tabla aapl_table en un intervalo de tiempo especifico\n",
        "print(df_volume)\n",
        "print('\\n---------------------- separate line--------------------\\n')\n",
        "df_2017 = aapl_table.loc['2016-08':'2017-02',['Open', 'High', 'Low', 'Close']].resample('W').agg(lambda x: x[-1]) # Asigna, al DataFrame df_volume, los ultimos registros semanales de la tabla aapl_table en un intervalo de tiempo especifico\n",
        "print(df_2017)"
      ],
      "metadata": {
        "colab": {
          "base_uri": "https://localhost:8080/"
        },
        "id": "jlrSCrw7-wg3",
        "outputId": "02088cf6-d35d-4492-a830-dcfea8fd19bf"
      },
      "execution_count": 63,
      "outputs": [
        {
          "output_type": "stream",
          "name": "stdout",
          "text": [
            "               Volume  Stock Splits\n",
            "Date                               \n",
            "2016-08-07  162213600             0\n",
            "2016-08-14   74641600             0\n",
            "2016-08-21  101472400             0\n",
            "2016-08-28  111065200             0\n",
            "2016-09-04  107210000             0\n",
            "2016-09-11  186228000             0\n",
            "2016-09-18  319547600             0\n",
            "2016-09-25  209924800             0\n",
            "2016-10-02  145516400             0\n",
            "2016-10-09   97433600             0\n",
            "2016-10-16  142608800             0\n",
            "2016-10-23   92770800             0\n",
            "2016-10-30  151446800             0\n",
            "2016-11-06  123348000             0\n",
            "2016-11-13  136575600             0\n",
            "2016-11-20  113715600             0\n",
            "2016-11-27   45903600             0\n",
            "2016-12-04  106112000             0\n",
            "2016-12-11  137610400             0\n",
            "2016-12-18  177404400             0\n",
            "2016-12-25   56998000             0\n",
            "2017-01-01  122345200             0\n",
            "2017-01-08  127007600             0\n",
            "2017-01-15  104447600             0\n",
            "2017-01-22  130391600             0\n",
            "2017-01-29   82251600             0\n",
            "2017-02-05   98029200             0\n",
            "2017-02-12   80262000             0\n",
            "2017-02-19   88792800             0\n",
            "2017-02-26   87106400             0\n",
            "2017-03-05   93931600             0\n",
            "\n",
            "---------------------- separate line--------------------\n",
            "\n",
            "                 Open       High        Low      Close\n",
            "Date                                                  \n",
            "2016-08-07  24.848109  25.170782  24.827066  25.131033\n",
            "2016-08-14  25.201180  25.355502  25.201180  25.294708\n",
            "2016-08-21  25.432661  25.647777  25.336795  25.570616\n",
            "2016-08-28  25.114664  25.240926  24.857460  25.004768\n",
            "2016-09-04  25.182466  25.252612  24.976704  25.189482\n",
            "2016-09-11  24.466980  24.719507  24.113911  24.113911\n",
            "2016-09-18  26.917416  27.153574  26.664890  26.870651\n",
            "2016-09-25  26.753745  26.840259  26.082681  26.353912\n",
            "2016-10-02  26.295458  26.508235  26.141137  26.433413\n",
            "2016-10-09  26.728026  26.786481  26.540971  26.669571\n",
            "2016-10-16  27.562762  27.630570  27.387397  27.504307\n",
            "2016-10-23  27.312578  27.335961  27.188653  27.263475\n",
            "2016-10-30  26.625144  26.938463  26.526938  26.590071\n",
            "2016-11-06  25.506829  25.911066  25.408121  25.579685\n",
            "2016-11-13  25.175455  25.586742  25.041493  25.483332\n",
            "2016-11-20  25.786505  25.979222  25.772404  25.866411\n",
            "2016-11-27  26.117886  26.291803  26.075582  26.273001\n",
            "2016-12-04  25.657247  25.873466  25.582041  25.828814\n",
            "2016-12-11  26.395211  26.956911  26.395211  26.780645\n",
            "2016-12-18  27.372903  27.379953  27.180185  27.255392\n",
            "2016-12-25  27.166078  27.384647  27.166078  27.384647\n",
            "2017-01-01  27.415205  27.544465  27.128479  27.220137\n",
            "2017-01-08  27.445756  27.770086  27.372900  27.711330\n",
            "2017-01-15  27.993350  28.113211  27.922843  27.976898\n",
            "2017-01-22  28.308281  28.308281  28.139067  28.202522\n",
            "2017-01-29  28.705467  28.754821  28.578555  28.660812\n",
            "2017-02-05  30.155544  30.362364  30.120293  30.336512\n",
            "2017-02-12  31.265862  31.379161  31.169085  31.185606\n",
            "2017-02-19  31.889000  32.061308  31.889000  32.035343\n",
            "2017-02-26  32.080195  32.257225  31.931489  32.257225\n",
            "2017-03-05  32.356356  32.441331  32.266660  32.335114\n"
          ]
        }
      ]
    },
    {
      "cell_type": "markdown",
      "metadata": {
        "id": "iZk_C9aSSLeP"
      },
      "source": [
        "Now we merge the DataFrames with our DataFrame 'aapl_bar'"
      ]
    },
    {
      "cell_type": "code",
      "metadata": {
        "colab": {
          "base_uri": "https://localhost:8080/"
        },
        "id": "aFqmjokOHW-C",
        "outputId": "0b04d7bc-221c-46eb-c6b8-4a7feca2f531"
      },
      "source": [
        "concat = pd.concat([aapl_bar, df_volume], axis = 1)\n",
        "print(concat)"
      ],
      "execution_count": null,
      "outputs": [
        {
          "output_type": "stream",
          "name": "stdout",
          "text": [
            "                 Open       High  ...       Volume  Stock Splits\n",
            "Date                              ...                           \n",
            "2016-01-31  21.852388  22.440250  ...          NaN           NaN\n",
            "2016-02-29  22.450761  22.768308  ...          NaN           NaN\n",
            "2016-03-31  25.431520  25.473242  ...          NaN           NaN\n",
            "2016-04-30  21.785529  21.954734  ...          NaN           NaN\n",
            "2016-05-31  23.226409  23.412967  ...          NaN           NaN\n",
            "2016-06-30  22.023112  22.333262  ...          NaN           NaN\n",
            "2016-07-31  24.296780  24.380731  ...          NaN           NaN\n",
            "2016-08-31  24.773054  24.986412  ...          NaN           NaN\n",
            "2016-09-30  26.367388  26.580747  ...          NaN           NaN\n",
            "2016-10-31  26.646396  26.782384  ...  105677600.0           0.0\n",
            "2016-11-30  26.300094  26.441492  ...  144649200.0           0.0\n",
            "2016-12-31  27.490193  27.619807  ...  122345200.0           0.0\n",
            "2017-01-31        NaN        NaN  ...  196804000.0           0.0\n",
            "2017-02-28        NaN        NaN  ...   93931600.0           0.0\n",
            "2017-03-31        NaN        NaN  ...   78646800.0           0.0\n",
            "2017-04-30        NaN        NaN  ...   83441600.0           0.0\n",
            "\n",
            "[16 rows x 7 columns]\n"
          ]
        }
      ]
    },
    {
      "cell_type": "code",
      "source": [
        "concat = pd.concat([aapl_bar, df_volume], axis = 1) # Asigna, al DataFrame concat, la concatenacion de los DataFrame aapl_bar y df_volume en columnas (axis=1)\n",
        "print(concat)"
      ],
      "metadata": {
        "colab": {
          "base_uri": "https://localhost:8080/"
        },
        "id": "mdXWavA-_iJW",
        "outputId": "b3afbe1d-db4f-4179-f039-4732cda1dbe1"
      },
      "execution_count": 64,
      "outputs": [
        {
          "output_type": "stream",
          "name": "stdout",
          "text": [
            "                 Open       High        Low      Close  rate_return  \\\n",
            "Date                                                                  \n",
            "2016-01-10  22.657217  22.785964  22.245686  22.291666          NaN   \n",
            "2016-01-17  22.116935  22.464093  21.923815  22.330748     0.001753   \n",
            "2016-01-24  22.675606  23.326240  22.615832  23.317043     0.044168   \n",
            "2016-01-31  21.792775  22.379034  21.691616  22.379034    -0.040228   \n",
            "2016-02-07  22.310923  22.403385  21.656761  21.733040    -0.028866   \n",
            "...               ...        ...        ...        ...          ...   \n",
            "2017-02-05        NaN        NaN        NaN        NaN          NaN   \n",
            "2017-02-12        NaN        NaN        NaN        NaN          NaN   \n",
            "2017-02-19        NaN        NaN        NaN        NaN          NaN   \n",
            "2017-02-26        NaN        NaN        NaN        NaN          NaN   \n",
            "2017-03-05        NaN        NaN        NaN        NaN          NaN   \n",
            "\n",
            "                Volume  Stock Splits  \n",
            "Date                                  \n",
            "2016-01-10         NaN           NaN  \n",
            "2016-01-17         NaN           NaN  \n",
            "2016-01-24         NaN           NaN  \n",
            "2016-01-31         NaN           NaN  \n",
            "2016-02-07         NaN           NaN  \n",
            "...                ...           ...  \n",
            "2017-02-05  98029200.0           0.0  \n",
            "2017-02-12  80262000.0           0.0  \n",
            "2017-02-19  88792800.0           0.0  \n",
            "2017-02-26  87106400.0           0.0  \n",
            "2017-03-05  93931600.0           0.0  \n",
            "\n",
            "[61 rows x 7 columns]\n"
          ]
        }
      ]
    },
    {
      "cell_type": "markdown",
      "metadata": {
        "id": "7yI3tgB4SR4O"
      },
      "source": [
        "By default the DataFrame are joined with all of the data. This default options results in zero information loss. We can also merge them by intersection, this is called 'inner join"
      ]
    },
    {
      "cell_type": "code",
      "metadata": {
        "colab": {
          "base_uri": "https://localhost:8080/"
        },
        "id": "31QGLyijHW-C",
        "outputId": "5da6383a-4f02-4d76-8bdf-a3845a8ee40b"
      },
      "source": [
        "concat = pd.concat([aapl_bar,df_volume],axis = 1, join = 'inner')\n",
        "print(concat)"
      ],
      "execution_count": null,
      "outputs": [
        {
          "output_type": "stream",
          "name": "stdout",
          "text": [
            "                 Open       High  ...     Volume  Stock Splits\n",
            "Date                              ...                         \n",
            "2016-10-31  26.646396  26.782384  ...  105677600             0\n",
            "2016-11-30  26.300094  26.441492  ...  144649200             0\n",
            "2016-12-31  27.490193  27.619807  ...  122345200             0\n",
            "\n",
            "[3 rows x 7 columns]\n"
          ]
        }
      ]
    },
    {
      "cell_type": "code",
      "source": [
        "concat = pd.concat([aapl_bar,df_volume],axis = 1, join = 'inner') # Asigna, al DataFrame concat, la concatenacion de los DataFrame aapl_bar y df_volume en columnas (axis=1) con la propiedad del inner join, que reduce la informacion innecesaria\n",
        "print(concat)"
      ],
      "metadata": {
        "colab": {
          "base_uri": "https://localhost:8080/"
        },
        "id": "bp2PE79C_zD5",
        "outputId": "7fc370ac-9bd6-4f6b-9784-d270f4672cc3"
      },
      "execution_count": 65,
      "outputs": [
        {
          "output_type": "stream",
          "name": "stdout",
          "text": [
            "                 Open       High        Low      Close  rate_return  \\\n",
            "Date                                                                  \n",
            "2016-08-07  24.848109  25.170782  24.827066  25.131033     0.036966   \n",
            "2016-08-14  25.201180  25.355502  25.201180  25.294708     0.006513   \n",
            "2016-08-21  25.432661  25.647777  25.336795  25.570616     0.010908   \n",
            "2016-08-28  25.114664  25.240926  24.857460  25.004768    -0.022129   \n",
            "2016-09-04  25.182466  25.252612  24.976704  25.189482     0.007387   \n",
            "2016-09-11  24.466980  24.719507  24.113911  24.113911    -0.042699   \n",
            "2016-09-18  26.917416  27.153574  26.664890  26.870651     0.114322   \n",
            "2016-09-25  26.753745  26.840259  26.082681  26.353912    -0.019231   \n",
            "2016-10-02  26.295458  26.508235  26.141137  26.433413     0.003017   \n",
            "2016-10-09  26.728026  26.786481  26.540971  26.669571     0.008934   \n",
            "2016-10-16  27.562762  27.630570  27.387397  27.504307     0.031299   \n",
            "2016-10-23  27.312578  27.335961  27.188653  27.263475    -0.008756   \n",
            "2016-10-30  26.625144  26.938463  26.526938  26.590071    -0.024700   \n",
            "2016-11-06  25.506829  25.911066  25.408121  25.579685    -0.037999   \n",
            "2016-11-13  25.175455  25.586742  25.041493  25.483332    -0.003767   \n",
            "2016-11-20  25.786505  25.979222  25.772404  25.866411     0.015033   \n",
            "2016-11-27  26.117886  26.291803  26.075582  26.273001     0.015719   \n",
            "2016-12-04  25.657247  25.873466  25.582041  25.828814    -0.016907   \n",
            "2016-12-11  26.395211  26.956911  26.395211  26.780645     0.036852   \n",
            "2016-12-18  27.372903  27.379953  27.180185  27.255392     0.017727   \n",
            "2016-12-25  27.166078  27.384647  27.166078  27.384647     0.004742   \n",
            "2017-01-01  27.415205  27.544465  27.128479  27.220137    -0.006007   \n",
            "\n",
            "               Volume  Stock Splits  \n",
            "Date                                 \n",
            "2016-08-07  162213600             0  \n",
            "2016-08-14   74641600             0  \n",
            "2016-08-21  101472400             0  \n",
            "2016-08-28  111065200             0  \n",
            "2016-09-04  107210000             0  \n",
            "2016-09-11  186228000             0  \n",
            "2016-09-18  319547600             0  \n",
            "2016-09-25  209924800             0  \n",
            "2016-10-02  145516400             0  \n",
            "2016-10-09   97433600             0  \n",
            "2016-10-16  142608800             0  \n",
            "2016-10-23   92770800             0  \n",
            "2016-10-30  151446800             0  \n",
            "2016-11-06  123348000             0  \n",
            "2016-11-13  136575600             0  \n",
            "2016-11-20  113715600             0  \n",
            "2016-11-27   45903600             0  \n",
            "2016-12-04  106112000             0  \n",
            "2016-12-11  137610400             0  \n",
            "2016-12-18  177404400             0  \n",
            "2016-12-25   56998000             0  \n",
            "2017-01-01  122345200             0  \n"
          ]
        }
      ]
    },
    {
      "cell_type": "markdown",
      "metadata": {
        "id": "oudcWMm5Sd0u"
      },
      "source": [
        "Only the intersection part was left if use 'inner join' method. Now let's try to append a DataFrame to another one:"
      ]
    },
    {
      "cell_type": "code",
      "metadata": {
        "colab": {
          "base_uri": "https://localhost:8080/"
        },
        "id": "lgw0qaOsHW-D",
        "outputId": "d6287ecf-8c47-4367-9f14-5b47625de02b"
      },
      "source": [
        "append = aapl_bar.append(df_2017)\n",
        "print(append)"
      ],
      "execution_count": null,
      "outputs": [
        {
          "output_type": "stream",
          "name": "stdout",
          "text": [
            "                 Open       High        Low      Close  rate_return\n",
            "Date                                                               \n",
            "2016-01-31  21.852388  22.440250  21.750952  22.440250          NaN\n",
            "2016-02-29  22.450761  22.768308  22.402086  22.411358    -0.001288\n",
            "2016-03-31  25.431520  25.473242  25.236819  25.262316     0.127210\n",
            "2016-04-30  21.785529  21.954734  21.442488  21.727583    -0.139921\n",
            "2016-05-31  23.226409  23.412967  23.044516  23.287041     0.071773\n",
            "2016-06-30  22.023112  22.333262  21.990464  22.293619    -0.042660\n",
            "2016-07-31  24.296780  24.380731  24.177849  24.301443     0.090063\n",
            "2016-08-31  24.773054  24.986412  24.768364  24.876215     0.023652\n",
            "2016-09-30  26.367388  26.580747  26.212645  26.505720     0.065505\n",
            "2016-10-31  26.646396  26.782384  26.540888  26.620605     0.004334\n",
            "2016-11-30  26.300094  26.441492  25.986660  26.045576    -0.021601\n",
            "2016-12-31  27.490193  27.619807  27.202683  27.294592     0.047955\n",
            "2016-10-31  26.646396  26.782384  26.540888  26.620605          NaN\n",
            "2016-11-30  26.300094  26.441492  25.986660  26.045576          NaN\n",
            "2016-12-31  27.490193  27.619807  27.202683  27.294592          NaN\n",
            "2017-01-31  28.550684  28.607243  28.425783  28.597816          NaN\n",
            "2017-02-28  32.444862  32.530069  32.354920  32.423561          NaN\n",
            "2017-03-31  34.016455  34.146633  33.848407  34.002254          NaN\n",
            "2017-04-30  34.104032  34.153737  33.909951  33.999889          NaN\n"
          ]
        }
      ]
    },
    {
      "cell_type": "code",
      "source": [
        "append = aapl_bar.append(df_2017) # Asigna, al DataFrame append, la adicion del DataFrame df_2017 en el DataFrame aapl_bar \n",
        "print(append)"
      ],
      "metadata": {
        "colab": {
          "base_uri": "https://localhost:8080/"
        },
        "id": "UQeISWT4APLP",
        "outputId": "497c669a-8d56-43c5-f7da-ce32f29147d8"
      },
      "execution_count": 66,
      "outputs": [
        {
          "output_type": "stream",
          "name": "stdout",
          "text": [
            "                 Open       High        Low      Close  rate_return\n",
            "Date                                                               \n",
            "2016-01-10  22.657217  22.785964  22.245686  22.291666          NaN\n",
            "2016-01-17  22.116935  22.464093  21.923815  22.330748     0.001753\n",
            "2016-01-24  22.675606  23.326240  22.615832  23.317043     0.044168\n",
            "2016-01-31  21.792775  22.379034  21.691616  22.379034    -0.040228\n",
            "2016-02-07  22.310923  22.403385  21.656761  21.733040    -0.028866\n",
            "...               ...        ...        ...        ...          ...\n",
            "2017-02-05  30.155544  30.362364  30.120293  30.336512          NaN\n",
            "2017-02-12  31.265862  31.379161  31.169085  31.185606          NaN\n",
            "2017-02-19  31.889000  32.061308  31.889000  32.035343          NaN\n",
            "2017-02-26  32.080195  32.257225  31.931489  32.257225          NaN\n",
            "2017-03-05  32.356356  32.441331  32.266660  32.335114          NaN\n",
            "\n",
            "[83 rows x 5 columns]\n"
          ]
        }
      ]
    },
    {
      "cell_type": "markdown",
      "metadata": {
        "id": "zXT6cMquSq_P"
      },
      "source": [
        "'Append' is essentially to concat two DataFrames by axis = 0, thus here is an alternative way to append:"
      ]
    },
    {
      "cell_type": "code",
      "metadata": {
        "colab": {
          "base_uri": "https://localhost:8080/"
        },
        "id": "2EuSaFO9HW-D",
        "outputId": "3bd6dad7-022a-4c62-d049-24c219feab39"
      },
      "source": [
        "concat = pd.concat([aapl_bar, df_2017], axis = 0)\n",
        "print(concat)"
      ],
      "execution_count": null,
      "outputs": [
        {
          "output_type": "stream",
          "name": "stdout",
          "text": [
            "                 Open       High        Low      Close  rate_return\n",
            "Date                                                               \n",
            "2016-01-31  21.852388  22.440250  21.750952  22.440250          NaN\n",
            "2016-02-29  22.450761  22.768308  22.402086  22.411358    -0.001288\n",
            "2016-03-31  25.431520  25.473242  25.236819  25.262316     0.127210\n",
            "2016-04-30  21.785529  21.954734  21.442488  21.727583    -0.139921\n",
            "2016-05-31  23.226409  23.412967  23.044516  23.287041     0.071773\n",
            "2016-06-30  22.023112  22.333262  21.990464  22.293619    -0.042660\n",
            "2016-07-31  24.296780  24.380731  24.177849  24.301443     0.090063\n",
            "2016-08-31  24.773054  24.986412  24.768364  24.876215     0.023652\n",
            "2016-09-30  26.367388  26.580747  26.212645  26.505720     0.065505\n",
            "2016-10-31  26.646396  26.782384  26.540888  26.620605     0.004334\n",
            "2016-11-30  26.300094  26.441492  25.986660  26.045576    -0.021601\n",
            "2016-12-31  27.490193  27.619807  27.202683  27.294592     0.047955\n",
            "2016-10-31  26.646396  26.782384  26.540888  26.620605          NaN\n",
            "2016-11-30  26.300094  26.441492  25.986660  26.045576          NaN\n",
            "2016-12-31  27.490193  27.619807  27.202683  27.294592          NaN\n",
            "2017-01-31  28.550684  28.607243  28.425783  28.597816          NaN\n",
            "2017-02-28  32.444862  32.530069  32.354920  32.423561          NaN\n",
            "2017-03-31  34.016455  34.146633  33.848407  34.002254          NaN\n",
            "2017-04-30  34.104032  34.153737  33.909951  33.999889          NaN\n"
          ]
        }
      ]
    },
    {
      "cell_type": "code",
      "source": [
        "concat = pd.concat([aapl_bar, df_2017], axis = 0) # Asigna, al DataFrame concat, la concatenacion de los DataFrame aapl_bar y df_2017 en el index (axis=0)\n",
        "print(concat)"
      ],
      "metadata": {
        "colab": {
          "base_uri": "https://localhost:8080/"
        },
        "id": "z5cLqjuzArsk",
        "outputId": "2d7bc594-9022-4476-8960-ea2f73587a25"
      },
      "execution_count": 67,
      "outputs": [
        {
          "output_type": "stream",
          "name": "stdout",
          "text": [
            "                 Open       High        Low      Close  rate_return\n",
            "Date                                                               \n",
            "2016-01-10  22.657217  22.785964  22.245686  22.291666          NaN\n",
            "2016-01-17  22.116935  22.464093  21.923815  22.330748     0.001753\n",
            "2016-01-24  22.675606  23.326240  22.615832  23.317043     0.044168\n",
            "2016-01-31  21.792775  22.379034  21.691616  22.379034    -0.040228\n",
            "2016-02-07  22.310923  22.403385  21.656761  21.733040    -0.028866\n",
            "...               ...        ...        ...        ...          ...\n",
            "2017-02-05  30.155544  30.362364  30.120293  30.336512          NaN\n",
            "2017-02-12  31.265862  31.379161  31.169085  31.185606          NaN\n",
            "2017-02-19  31.889000  32.061308  31.889000  32.035343          NaN\n",
            "2017-02-26  32.080195  32.257225  31.931489  32.257225          NaN\n",
            "2017-03-05  32.356356  32.441331  32.266660  32.335114          NaN\n",
            "\n",
            "[83 rows x 5 columns]\n"
          ]
        }
      ]
    },
    {
      "cell_type": "markdown",
      "metadata": {
        "id": "-YXL7V9ASst9"
      },
      "source": [
        "Please note that if the two DataFrame have some columns with the same column names, these columns are considered to be the same and will be merged. It's very important to have the right column names. If we change a column names here:"
      ]
    },
    {
      "cell_type": "code",
      "metadata": {
        "colab": {
          "base_uri": "https://localhost:8080/"
        },
        "id": "aT1eoa8mHW-D",
        "outputId": "66a329f7-4d47-4e21-d1bb-73f24346ef24"
      },
      "source": [
        "df_2017.columns = ['Change', 'High','Low','Close']\n",
        "concat = pd.concat([aapl_bar, df_2017], axis = 0)\n",
        "print(concat)"
      ],
      "execution_count": null,
      "outputs": [
        {
          "output_type": "stream",
          "name": "stdout",
          "text": [
            "                 Open       High        Low      Close  rate_return     Change\n",
            "Date                                                                          \n",
            "2016-01-31  21.852388  22.440250  21.750952  22.440250          NaN        NaN\n",
            "2016-02-29  22.450761  22.768308  22.402086  22.411358    -0.001288        NaN\n",
            "2016-03-31  25.431520  25.473242  25.236819  25.262316     0.127210        NaN\n",
            "2016-04-30  21.785529  21.954734  21.442488  21.727583    -0.139921        NaN\n",
            "2016-05-31  23.226409  23.412967  23.044516  23.287041     0.071773        NaN\n",
            "2016-06-30  22.023112  22.333262  21.990464  22.293619    -0.042660        NaN\n",
            "2016-07-31  24.296780  24.380731  24.177849  24.301443     0.090063        NaN\n",
            "2016-08-31  24.773054  24.986412  24.768364  24.876215     0.023652        NaN\n",
            "2016-09-30  26.367388  26.580747  26.212645  26.505720     0.065505        NaN\n",
            "2016-10-31  26.646396  26.782384  26.540888  26.620605     0.004334        NaN\n",
            "2016-11-30  26.300094  26.441492  25.986660  26.045576    -0.021601        NaN\n",
            "2016-12-31  27.490193  27.619807  27.202683  27.294592     0.047955        NaN\n",
            "2016-10-31        NaN  26.782384  26.540888  26.620605          NaN  26.646396\n",
            "2016-11-30        NaN  26.441492  25.986660  26.045576          NaN  26.300094\n",
            "2016-12-31        NaN  27.619807  27.202683  27.294592          NaN  27.490193\n",
            "2017-01-31        NaN  28.607243  28.425783  28.597816          NaN  28.550684\n",
            "2017-02-28        NaN  32.530069  32.354920  32.423561          NaN  32.444862\n",
            "2017-03-31        NaN  34.146633  33.848407  34.002254          NaN  34.016455\n",
            "2017-04-30        NaN  34.153737  33.909951  33.999889          NaN  34.104032\n"
          ]
        }
      ]
    },
    {
      "cell_type": "code",
      "source": [
        "df_2017.columns = ['Change', 'High','Low','Close']\n",
        "concat = pd.concat([aapl_bar, df_2017], axis = 0) # Asigna, al DataFrame concat, la concatenacion de los DataFrame aapl_bar y df_2017 en el index (axis=0)\n",
        "print(concat)"
      ],
      "metadata": {
        "colab": {
          "base_uri": "https://localhost:8080/"
        },
        "id": "zEg4RBYeBOMm",
        "outputId": "b55d6ddf-86f0-4302-b287-ce094aba5223"
      },
      "execution_count": 68,
      "outputs": [
        {
          "output_type": "stream",
          "name": "stdout",
          "text": [
            "                 Open       High        Low      Close  rate_return     Change\n",
            "Date                                                                          \n",
            "2016-01-10  22.657217  22.785964  22.245686  22.291666          NaN        NaN\n",
            "2016-01-17  22.116935  22.464093  21.923815  22.330748     0.001753        NaN\n",
            "2016-01-24  22.675606  23.326240  22.615832  23.317043     0.044168        NaN\n",
            "2016-01-31  21.792775  22.379034  21.691616  22.379034    -0.040228        NaN\n",
            "2016-02-07  22.310923  22.403385  21.656761  21.733040    -0.028866        NaN\n",
            "...               ...        ...        ...        ...          ...        ...\n",
            "2017-02-05        NaN  30.362364  30.120293  30.336512          NaN  30.155544\n",
            "2017-02-12        NaN  31.379161  31.169085  31.185606          NaN  31.265862\n",
            "2017-02-19        NaN  32.061308  31.889000  32.035343          NaN  31.889000\n",
            "2017-02-26        NaN  32.257225  31.931489  32.257225          NaN  32.080195\n",
            "2017-03-05        NaN  32.441331  32.266660  32.335114          NaN  32.356356\n",
            "\n",
            "[83 rows x 6 columns]\n"
          ]
        }
      ]
    },
    {
      "cell_type": "markdown",
      "metadata": {
        "id": "shbpOFyyS6uV"
      },
      "source": [
        "Since the column name of 'Open' has been changed, the new DataFrame has an new column named 'Change'.\n",
        "\n",
        "# Summary\n",
        "\n",
        "Hereby we introduced the most import part of python: resampling and DataFrame manipulation. We only introduced the most commonly used method in Financial data analysis. There are also many methods used in data mining, which are also beneficial. You can always check the [Pandas](https://pandas.pydata.org/pandas-docs/stable/index.html) official documentations for help."
      ]
    }
  ]
}