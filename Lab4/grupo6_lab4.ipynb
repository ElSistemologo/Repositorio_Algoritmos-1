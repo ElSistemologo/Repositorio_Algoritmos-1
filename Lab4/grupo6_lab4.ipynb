{
  "nbformat": 4,
  "nbformat_minor": 0,
  "metadata": {
    "colab": {
      "name": "LAB4_GRUPO6.ipynb",
      "provenance": [],
      "collapsed_sections": []
    },
    "kernelspec": {
      "name": "python3",
      "display_name": "Python 3"
    },
    "language_info": {
      "name": "python"
    }
  },
  "cells": [
    {
      "cell_type": "code",
      "source": [
        "# En este caso, no se pudo realizar la versión recursiva debido \n",
        "# a que las recursiones necesarios sobrepasaron los límites de python.\n",
        "x=-1000\n",
        "def brute_force(x):\n",
        "    while x <= 1000: #En este caso, el parámetro dado a la función es la cota inferior y este while va a la superior.\n",
        "        y=(x**5 - 59*(x**4) + 35*(x**3) - 250*(x**2) + x - 70)      \n",
        "        if y >= -40 and y<= 40:  \n",
        "        #Debido a la naturaleza de la ecuación, en este rango es aceptable encontrar la raíz.\n",
        "        #Puesto que el resultado es tan sensible, acotarlo demasiado causaba que la raíz se saltara a pesar de la cantidad\n",
        "        #de puntos que se prueban.             \n",
        "            print(\"la raiz es: {0:.6f}\".format(x))\n",
        "            return           \n",
        "        x+=0.00001    \n",
        "brute_force(x)                                           \n",
        "# Ejecucion de 3m 11s (peor caso)"
      ],
      "metadata": {
        "id": "acqSe1-Vn724",
        "colab": {
          "base_uri": "https://localhost:8080/"
        },
        "outputId": "a8f4aade-5e29-4fd1-8e58-c48969a6e6a9"
      },
      "execution_count": null,
      "outputs": [
        {
          "output_type": "stream",
          "name": "stdout",
          "text": [
            "la raiz es: 58.474568\n"
          ]
        }
      ]
    },
    {
      "cell_type": "code",
      "source": [
        "#algoritmo Voraz\n",
        "def recursionb(a,b):      #En este caso se define la recursión en un primer punto, pues la bisección se trata en otra función.\n",
        "    r = (a+b)/2                         #Se encuentra el punto medio del rango de datos a revisar\n",
        "#   if abs(58.47456-r) <= 0.0001:       \n",
        "#   #Esta sentencia era otra forma de encontrar la raíz por cercanía a la raíz ya conocida, pero la nueva forma tiene más sentido al buscar la cercanía al cero.\n",
        "#     return r                  \n",
        "#   else:                               \n",
        "    y = (a**5 - 59*(a**4) + 35*(a**3) - 250*(a**2) + a - 70)*(r**5 - 59*(r**4) + 35*(r**3) - 250*(r**2) + r - 70)     \n",
        "    #Se define la ecuación con \"a\" como la incognita \"x\" multiplicado por la misma ecuación pero esta vez la incognita se reemplaza con \"r\"\n",
        "    if y >= -0.0001 and y<= 0.0001:                \n",
        "      return r                  \n",
        "    elif y < 0:               \n",
        "      return recursionb(a,r)    #Esto sucede cuando la raíz se encuentra entre la cota inferior y el punto medio, pero aún no se ha encontrado el valor. \n",
        "    else:                     \n",
        "      return recursionb(r,b)    #Esto sucede cuando la raíz se encuentra entre el punto medio y la cota inferior, pero aún no se ha encontrado el valor. \n",
        "\n",
        "def biseccion(a, b):         \n",
        "  y = (a**5 - 59*(a**4) + 35*(a**3) - 250*(a**2) + a - 70)*(b**5 - 59*(b**4) + 35*(b**3) - 250*(b**2) + b - 70)   \n",
        "  if y < 0:                   #Con este if se revisa si la ecuación llega a pasar o no por cero entre el rango [a,b].\n",
        "    return recursionb(a,b)      #Esta sentencia inicia la recursión para encontrar la raíz.\n",
        "  else:                       \n",
        "    return \"No raíz\"                  #Este cero representa que no hay una raíz en el rango.\n",
        "    \n",
        "a = -1000\n",
        "b = 1000\n",
        "r = biseccion(a,b)      \n",
        "print(\"la raiz es: {0:.6f}\".format(r))\n",
        "\n",
        "##!pip install big_o\n",
        "##import big_o\n",
        "\n",
        "#positive_int_generator = lambda n: big_o.datagen.integers(n, 0, 10000)\n",
        "#best, others = big_o.big_o(biseccion, positive_int_generator, n_repeats=100\n",
        "#for i in range(0,20):\n",
        "  #print(big_o.big_o(biseccion, big_o.datagen.n_, n_repeats=20, min_n=2, max_n=25)[0])\n",
        "\n",
        "# Tiempo de ejecución < 0.01s  (se encontraron tiempos de 0.003s)"
      ],
      "metadata": {
        "id": "wRS--SuUAtUG",
        "outputId": "ced801f2-2901-4adb-86d0-330a194e8255",
        "colab": {
          "base_uri": "https://localhost:8080/"
        }
      },
      "execution_count": null,
      "outputs": [
        {
          "output_type": "stream",
          "name": "stdout",
          "text": [
            "la raiz es: 58.474565\n"
          ]
        }
      ]
    }
  ]
}